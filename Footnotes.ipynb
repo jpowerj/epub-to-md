{
 "cells": [
  {
   "cell_type": "markdown",
   "metadata": {},
   "source": [
    "The big kahuna: handling footnotes once the epub has been converted to html"
   ]
  },
  {
   "cell_type": "code",
   "execution_count": 2,
   "metadata": {},
   "outputs": [],
   "source": [
    "import re\n",
    "import bs4"
   ]
  },
  {
   "cell_type": "code",
   "execution_count": 3,
   "metadata": {},
   "outputs": [],
   "source": [
    "debug = False\n",
    "dprint = print if debug else lambda *args: None"
   ]
  },
  {
   "cell_type": "code",
   "execution_count": 122,
   "metadata": {},
   "outputs": [],
   "source": [
    "fn_template = '<sup id=\"t{fn_num}\">[{fn_num}](#f{fn_num})</sup>'\n",
    "# Version with numbers, commented out since the numbers are \"built into\" the footnotes in Killing Hope,\n",
    "# i.e. the span contains the numbers along with the actual text\n",
    "#rfn_template = '{fn_num}. <span id=\"f{fn_num}\" name=\"f{fn_num}\">{fn_text}</span> [↩](#t{fn_num})'\n",
    "rfn_template = '<span id=\"f{fn_num}\" name=\"f{fn_num}\">{fn_text}</span> [↩](#t{fn_num})'"
   ]
  },
  {
   "cell_type": "code",
   "execution_count": 5,
   "metadata": {},
   "outputs": [
    {
     "data": {
      "text/plain": [
       "'<sup id=\"t7\">[7](#f7)</sup>'"
      ]
     },
     "execution_count": 5,
     "metadata": {},
     "output_type": "execute_result"
    }
   ],
   "source": [
    "fn_template.format(fn_num=7)"
   ]
  },
  {
   "cell_type": "code",
   "execution_count": 6,
   "metadata": {},
   "outputs": [
    {
     "data": {
      "text/plain": [
       "'11. <span id=\"f11\" name=\"f11\">Cool footnote.</span> [↩](#t11)'"
      ]
     },
     "execution_count": 6,
     "metadata": {},
     "output_type": "execute_result"
    }
   ],
   "source": [
    "rfn_template.format(fn_num=11, fn_text=\"Cool footnote.\")"
   ]
  },
  {
   "cell_type": "code",
   "execution_count": 7,
   "metadata": {},
   "outputs": [],
   "source": [
    "repl_dict = {\n",
    "    '’': \"'\",\n",
    "    '‘': \"'\",\n",
    "    '“': '\"',\n",
    "    '”': '\"',\n",
    "    '—': '--',\n",
    "    '…': '...'\n",
    "}"
   ]
  },
  {
   "cell_type": "code",
   "execution_count": 8,
   "metadata": {},
   "outputs": [],
   "source": [
    "with open(\"killing_hope.html\", \"r\", encoding=\"utf-8\") as f:\n",
    "    html_str = f.read()"
   ]
  },
  {
   "cell_type": "code",
   "execution_count": 9,
   "metadata": {},
   "outputs": [],
   "source": [
    "soup = bs4.BeautifulSoup(html_str, 'html.parser')"
   ]
  },
  {
   "cell_type": "code",
   "execution_count": 10,
   "metadata": {},
   "outputs": [],
   "source": [
    "#soup"
   ]
  },
  {
   "cell_type": "markdown",
   "metadata": {},
   "source": [
    "I guess the first thing to do is split into [front matter], [main text], and [footnotes]"
   ]
  },
  {
   "cell_type": "markdown",
   "metadata": {},
   "source": [
    "Actually... So in the end I want a file for each chapter, where each of these files contains the chapter text and the footnotes, correctly [bidirectionally] linked to one another. So instead here I'm gonna try to get like a list where each element is the html of a chapter"
   ]
  },
  {
   "cell_type": "code",
   "execution_count": 11,
   "metadata": {},
   "outputs": [],
   "source": [
    "toc_elts = soup.find_all(class_=\"toc\")"
   ]
  },
  {
   "cell_type": "code",
   "execution_count": 12,
   "metadata": {},
   "outputs": [],
   "source": [
    "ch_reg = re.compile(r'([0-9]+)\\. (.+)$')"
   ]
  },
  {
   "cell_type": "code",
   "execution_count": 13,
   "metadata": {},
   "outputs": [],
   "source": [
    "ch_info = []\n",
    "for elt_num, cur_elt in enumerate(toc_elts):\n",
    "    #print(cur_elt)\n",
    "    # Here we can get the id for the link\n",
    "    elt_id = cur_elt['id']\n",
    "    #print(elt_num, elt_id)\n",
    "    # But the main thing is getting the href and the text of the link\n",
    "    children = cur_elt.children\n",
    "    # I think there should only be one child, so this should work\n",
    "    child = next(children)\n",
    "    # Grr. Nope, because sometimes the first child can be an anchor marking a new page\n",
    "    if 'href' not in child.attrs:\n",
    "        child = next(children)\n",
    "    #print(child)\n",
    "    #print(dir(elt_child))\n",
    "    #print(elt_child.attrs)\n",
    "    href = child.attrs['href']\n",
    "    href_elts = href.split(\"#\")\n",
    "    html_file = href_elts[0]\n",
    "    anchor_link = href_elts[1]\n",
    "    # Important: here we also record this anchor_link as \"next_anchor\" for the previous\n",
    "    # chapter's info\n",
    "    if elt_num > 0:\n",
    "        ch_info[elt_num-1]['next_anchor'] = anchor_link\n",
    "    text = child.text\n",
    "    # Replace annoying unicode chars in the text b/c I'm neurotic\n",
    "    repl_unicode = lambda x: repl_dict[x] if x in repl_dict else x\n",
    "    text = \"\".join([repl_unicode(c) for c in text])\n",
    "    # And now get the chapter num if it has one\n",
    "    ch_num = None\n",
    "    ch_title = text\n",
    "    ch_reg_result = ch_reg.search(text)\n",
    "    if ch_reg_result is not None:\n",
    "        # We have a ch_num\n",
    "        ch_num = ch_reg_result.group(1)\n",
    "        # And also update the title so it doesn't contain the ch num redundantly\n",
    "        ch_title = ch_reg_result.group(2)\n",
    "    #print(ch_num, href, text)\n",
    "    ch_info.append({'ch_num':ch_num, 'ch_title': ch_title, 'href':href, 'html_file':html_file, 'anchor_link':anchor_link})"
   ]
  },
  {
   "cell_type": "code",
   "execution_count": 14,
   "metadata": {},
   "outputs": [],
   "source": [
    "#ch_info"
   ]
  },
  {
   "cell_type": "markdown",
   "metadata": {},
   "source": [
    "Cool. So now we have to basically loop over these individual links, parse the html files they link to, handle the footnotes, and export .md files"
   ]
  },
  {
   "cell_type": "code",
   "execution_count": 15,
   "metadata": {},
   "outputs": [
    {
     "data": {
      "text/plain": [
       "{'ch_num': '9',\n",
       " 'ch_title': 'Iran 1953: Making it safe for the King of Kings',\n",
       " 'href': 'part0013.html#ch9',\n",
       " 'html_file': 'part0013.html',\n",
       " 'anchor_link': 'ch9',\n",
       " 'next_anchor': 'ch10'}"
      ]
     },
     "execution_count": 15,
     "metadata": {},
     "output_type": "execute_result"
    }
   ],
   "source": [
    "cur_ch_info = ch_info[10]\n",
    "cur_ch_info"
   ]
  },
  {
   "cell_type": "code",
   "execution_count": 16,
   "metadata": {},
   "outputs": [
    {
     "data": {
      "text/plain": [
       "<p class=\"title1\" id=\"ch9\"><a class=\"calibre1\" href=\"part0002.html#rch9\">9. Iran 1953</a></p>"
      ]
     },
     "execution_count": 16,
     "metadata": {},
     "output_type": "execute_result"
    }
   ],
   "source": [
    "ch_start_elt = soup.find(id='ch9')\n",
    "ch_start_elt"
   ]
  },
  {
   "cell_type": "code",
   "execution_count": 17,
   "metadata": {},
   "outputs": [],
   "source": [
    "# Now I guess we go through siblings until we hit next_anchor?"
   ]
  },
  {
   "cell_type": "code",
   "execution_count": 18,
   "metadata": {},
   "outputs": [],
   "source": [
    "ch_contents = []\n",
    "for cur_ch_elt in ch_start_elt.next_siblings:\n",
    "    try:\n",
    "        cur_id = cur_ch_elt.attrs['id']\n",
    "        if cur_id == 'ch10':\n",
    "            break\n",
    "        ch_contents.append(cur_ch_elt)\n",
    "    except AttributeError as ae:\n",
    "        # It's a NavigableString\n",
    "        if repr(cur_ch_elt) != '\\n':\n",
    "            ch_contents.append(cur_ch_elt)\n",
    "        # (otherwise we can throw it out, it's just a line break)\n",
    "        #print(ae)\n",
    "    except KeyError as ke:\n",
    "        # It's an element without an id\n",
    "        ch_contents.append(cur_ch_elt)\n",
    "        #print(ke)"
   ]
  },
  {
   "cell_type": "code",
   "execution_count": 19,
   "metadata": {},
   "outputs": [],
   "source": [
    "# Annoying but now we can filter out the NavigableStrings that are just linebreaks\n",
    "ch_contents = [c for c in ch_contents if c != '\\n']"
   ]
  },
  {
   "cell_type": "code",
   "execution_count": 20,
   "metadata": {},
   "outputs": [],
   "source": [
    "md_contents = []"
   ]
  },
  {
   "cell_type": "code",
   "execution_count": 21,
   "metadata": {},
   "outputs": [],
   "source": [
    "def parse_footnote(fn_elt):\n",
    "    #print(fn_elt)\n",
    "    fn_children = fn_elt.children\n",
    "    # First child should be the return anchor\n",
    "    return_anchor = next(fn_children)\n",
    "    return_id = return_anchor.attrs['id']\n",
    "    dprint(f\"return_id = {return_id}\")\n",
    "    # And next should be the link to the footnote itself\n",
    "    fn_link = next(fn_children)\n",
    "    fn_href = fn_link.attrs['href']\n",
    "    dprint(f\"fn_href = {fn_href}\")\n",
    "    fn_text = fn_link.text\n",
    "    # But really fn_text should be a number\n",
    "    fn_num = int(fn_text)\n",
    "    dprint(f\"fn_num = {fn_num}\")\n",
    "    # Cool so now we should be able to convert it to our md format\n",
    "    new_fn_html = fn_template.format(fn_num=fn_num)\n",
    "    return new_fn_html, fn_href, return_id"
   ]
  },
  {
   "cell_type": "code",
   "execution_count": 22,
   "metadata": {},
   "outputs": [],
   "source": [
    "chid_reg = re.compile(r'ch([0-9]{1,2})')"
   ]
  },
  {
   "cell_type": "code",
   "execution_count": 23,
   "metadata": {},
   "outputs": [],
   "source": [
    "def parse_paragraph(p_elt):\n",
    "    #print(\"---\")\n",
    "    #print(\"parse_paragraph()\")\n",
    "    #print(p_elt)\n",
    "    pconv_buffer = \"\"\n",
    "    fn_info = []\n",
    "    # See if it's a header\n",
    "    p_class = \" \".join(p_elt.attrs['class'])\n",
    "    if \"title\" in p_class:\n",
    "        # Make it markdown header text\n",
    "        pconv_buffer += \"## \"\n",
    "        # And see if we can extract the chapter num as well\n",
    "        ch_num_result = chid_reg.search(str(p_elt))\n",
    "        if ch_num_result is not None:\n",
    "            ch_num = ch_num_result.group(1)\n",
    "            pconv_buffer += f\"{ch_num}. \"\n",
    "    # Now... I'm gonna try to loop over children\n",
    "    for se_num, sub_elt in enumerate(p_elt.children):\n",
    "        #print(f\"sub_elt #{se_num} ({type(sub_elt)}): {sub_elt}\")\n",
    "        # Seems like they're either Tags or NavigableStrings\n",
    "        if type(sub_elt) == bs4.element.Tag:\n",
    "            #print(f\"**tag**: {sub_elt}\")\n",
    "            if sub_elt.name == \"a\":\n",
    "                # A link! Just extract the text\n",
    "                pconv_buffer += sub_elt.text\n",
    "            elif sub_elt.name == \"sup\":\n",
    "                # A footnote!\n",
    "                fn_html, fn_href, return_id = parse_footnote(sub_elt)\n",
    "                pconv_buffer += fn_html\n",
    "                fn_info.append((fn_html, fn_href, return_id))\n",
    "            elif sub_elt.name == \"i\":\n",
    "                # Just italics\n",
    "                pconv_buffer += f\"*{sub_elt.text}*\"\n",
    "            elif sub_elt.name == \"span\":\n",
    "                # This seems to be how it does blockquotes\n",
    "                #print(\"\\n\\nspan?!?\\n\\n\")\n",
    "                #print(sub_elt)\n",
    "                pconv_buffer += f\"> \"\n",
    "            else:\n",
    "                raise Exception(\"Unhandled tag\")\n",
    "        elif type(sub_elt) == bs4.element.NavigableString:\n",
    "            #print(f\"**NS**: {sub_elt}\")\n",
    "            pconv_buffer += str(sub_elt)\n",
    "        else:\n",
    "            raise Exception(\"smth bad happened\")\n",
    "    # The final step: removing all the annoying unicode chars\n",
    "    remove_uc = lambda x: repl_dict[x] if x in repl_dict else x\n",
    "    pconv_buffer = \"\".join([remove_uc(c) for c in pconv_buffer])\n",
    "    #print(\"---\")\n",
    "    return pconv_buffer, fn_info"
   ]
  },
  {
   "cell_type": "code",
   "execution_count": 24,
   "metadata": {},
   "outputs": [],
   "source": [
    "parsed_elts = []\n",
    "for elt_num, cur_ch_elt in enumerate(ch_contents):\n",
    "    #print(f\"=====[Parsing chapter element #{elt_num}]=====\")\n",
    "    cur_tag = cur_ch_elt.name\n",
    "    if cur_tag == \"p\":\n",
    "        # Cool, it's a paragraph. Parse it.\n",
    "        parsed = parse_paragraph(cur_ch_elt)\n",
    "        #print(parsed)\n",
    "        parsed_elts.append(parsed)\n",
    "        #print(f\"=====[end #{elt_num}]=====\")"
   ]
  },
  {
   "cell_type": "code",
   "execution_count": 25,
   "metadata": {},
   "outputs": [],
   "source": [
    "#parsed_elts\n",
    "md_lines = [pe[0] for pe in parsed_elts]\n",
    "md_str = \"\\n\\n\".join(md_lines)"
   ]
  },
  {
   "cell_type": "code",
   "execution_count": 26,
   "metadata": {},
   "outputs": [],
   "source": [
    "with open(\"test_out.md\", \"w\", encoding=\"utf-8\") as g:\n",
    "    g.write(md_str)"
   ]
  },
  {
   "cell_type": "markdown",
   "metadata": {},
   "source": [
    "Cool so then I guess step 2 is going and extracting all the footnotes from the very end of the book, and appending them instead to the corresponding chapters"
   ]
  },
  {
   "cell_type": "code",
   "execution_count": 28,
   "metadata": {},
   "outputs": [],
   "source": [
    "# First let's get all the footnote tuples for the ch into one big list\n",
    "all_footnotes = []\n",
    "for cur_elt in parsed_elts:\n",
    "    footnote_list = cur_elt[1]\n",
    "    if len(footnote_list) > 0:\n",
    "        all_footnotes.extend(footnote_list)"
   ]
  },
  {
   "cell_type": "code",
   "execution_count": 30,
   "metadata": {},
   "outputs": [
    {
     "data": {
      "text/plain": [
       "[('<sup id=\"t1\">[1](#f1)</sup>', 'part0061_split_000.html#rfn1ch9', 'fn1ch9'),\n",
       " ('<sup id=\"t2\">[2](#f2)</sup>', 'part0061_split_000.html#rfn2ch9', 'fn2ch9'),\n",
       " ('<sup id=\"t3\">[3](#f3)</sup>', 'part0061_split_000.html#rfn3ch9', 'fn3ch9'),\n",
       " ('<sup id=\"t4\">[4](#f4)</sup>', 'part0061_split_000.html#rfn4ch9', 'fn4ch9'),\n",
       " ('<sup id=\"t5\">[5](#f5)</sup>', 'part0061_split_000.html#rfn5ch9', 'fn5ch9')]"
      ]
     },
     "execution_count": 30,
     "metadata": {},
     "output_type": "execute_result"
    }
   ],
   "source": [
    "all_footnotes[:5]"
   ]
  },
  {
   "cell_type": "code",
   "execution_count": 48,
   "metadata": {},
   "outputs": [],
   "source": [
    "fn_anchors = [fn_info[1].split(\"#\")[1] for fn_info in all_footnotes]"
   ]
  },
  {
   "cell_type": "code",
   "execution_count": 68,
   "metadata": {},
   "outputs": [
    {
     "data": {
      "text/plain": [
       "'rfn9ch9'"
      ]
     },
     "execution_count": 68,
     "metadata": {},
     "output_type": "execute_result"
    }
   ],
   "source": [
    "soup.find(id=fn_anchors[7]).next_sibling.next_sibling.next_sibling.next_sibling.next_sibling.next_sibling.next_sibling.next_sibling.next_sibling.next_sibling.attrs['id']"
   ]
  },
  {
   "cell_type": "code",
   "execution_count": 111,
   "metadata": {},
   "outputs": [],
   "source": [
    "def extract_footnote(fn_anchor, next_anchor):\n",
    "    \"\"\"\n",
    "    Can pass in next_anchor=None in which case we revert to the sketchier heuristic of just\n",
    "    scanning until we find another tag with an id\n",
    "    \"\"\"\n",
    "    full_fn = []\n",
    "    fn_pointer = soup.find(id=fn_anchor)\n",
    "    while fn_pointer is not None:\n",
    "        # If it's a Tag we need to use .text, otherwise it's a NavigableString and we can just convert it to str\n",
    "        elt_text = fn_pointer.text if type(fn_pointer) == bs4.element.Tag else str(fn_pointer)\n",
    "        full_fn.append(elt_text)\n",
    "        fn_pointer = fn_pointer.next_sibling\n",
    "        # If next_anchor is None, we don't care about what the id is\n",
    "        if next_anchor is None:\n",
    "            at_next_fn = (type(fn_pointer) == bs4.element.Tag) and (('id' in fn_pointer.attrs) or (fn_pointer.name == \"p\"))\n",
    "        else:\n",
    "            # We want the id to specifically be next_anchor\n",
    "            at_next_fn = (type(fn_pointer) == bs4.element.Tag) and ('id' in fn_pointer.attrs) and (fn_pointer.attrs['id'] == next_anchor)\n",
    "        if at_next_fn:\n",
    "            break\n",
    "    # This is slightly better than a basic .replace() since it \"collapses\" all repeated\n",
    "    # non-breaking spaces down to a single space\n",
    "    nbspace_reg = re.compile(r'(\\xa0)+')\n",
    "    #\"\".join([fn_line.replace(\"\\xa0\",\" \") for fn_line in full_fn7])\n",
    "    fn_str = \"\".join([nbspace_reg.sub(\" \", fn_line) for fn_line in full_fn])\n",
    "    fn_str = fn_str.strip()\n",
    "    return fn_str"
   ]
  },
  {
   "cell_type": "code",
   "execution_count": 120,
   "metadata": {},
   "outputs": [],
   "source": [
    "#len(fn_anchors)"
   ]
  },
  {
   "cell_type": "code",
   "execution_count": 121,
   "metadata": {},
   "outputs": [],
   "source": [
    "#extract_footnote(fn_anchors[47], None)"
   ]
  },
  {
   "cell_type": "code",
   "execution_count": 115,
   "metadata": {},
   "outputs": [],
   "source": [
    "# Now we just find those anchors (#rfn1ch9, #rfn2ch9, ...) and extract their contents\n",
    "all_fn_contents = []\n",
    "for i in range(len(fn_anchors)):\n",
    "    cur_anchor = fn_anchors[i]\n",
    "    next_anchor = fn_anchors[i+1] if i+1 < len(fn_anchors) else None\n",
    "    fn_contents = extract_footnote(cur_anchor, next_anchor)\n",
    "    all_fn_contents.append((cur_anchor, fn_contents))\n",
    "#results = [(fn_anchor, extract_footnote(fn_anchor)) for fn_anchor in fn_anchors]"
   ]
  },
  {
   "cell_type": "code",
   "execution_count": 117,
   "metadata": {},
   "outputs": [
    {
     "data": {
      "text/plain": [
       "[('rfn1ch9', '1. Roosevelt, p. 8.'),\n",
       " ('rfn2ch9', '2. Ibid., pp. 18-19.'),\n",
       " ('rfn3ch9',\n",
       "  '3. Anthony Eden, The Memoirs of the Right Honourable Sir Anthony Eden: Full Circle (London, 1960) p. 194.'),\n",
       " ('rfn4ch9',\n",
       "  '4. Dean Acheson, Present at the Creation: My Years in the State Department (New York, 1969) pp. 679-85; Eden, pp. 201-2: Nirumand, pp. 73-4.'),\n",
       " ('rfn5ch9', '5. Roosevelt, p. 107.')]"
      ]
     },
     "execution_count": 117,
     "metadata": {},
     "output_type": "execute_result"
    }
   ],
   "source": [
    "all_fn_contents[:5]"
   ]
  },
  {
   "cell_type": "code",
   "execution_count": 118,
   "metadata": {},
   "outputs": [],
   "source": [
    "# Debugging stuff\n",
    "#str(soup).index(\"fn1ch9\")\n",
    "#str(soup)[279600:279740]"
   ]
  },
  {
   "cell_type": "markdown",
   "metadata": {},
   "source": [
    "Awesome. Now we format these extracted footnotes using the footnote template from very beginning of the notebook, and then append them to the end of the chapter doc"
   ]
  },
  {
   "cell_type": "code",
   "execution_count": 126,
   "metadata": {},
   "outputs": [],
   "source": [
    "html_fns = []\n",
    "for iter_num, cur_fn_contents in enumerate(all_fn_contents):\n",
    "    # Footnotes start counting from 1, not 0\n",
    "    fn_num = iter_num + 1\n",
    "    fn_text = cur_fn_contents[1]\n",
    "    fn_html = rfn_template.format(fn_num=fn_num, fn_text=fn_text)\n",
    "    html_fns.append(fn_html)"
   ]
  },
  {
   "cell_type": "code",
   "execution_count": 129,
   "metadata": {},
   "outputs": [],
   "source": [
    "# Two linebreaks b/c Markdown doesn't make new paragraphs for single linebreaks\n",
    "all_fns_str = \"\\n\\n\".join(html_fns)"
   ]
  },
  {
   "cell_type": "code",
   "execution_count": 130,
   "metadata": {},
   "outputs": [],
   "source": [
    "with open(\"test_fn_out.md\", \"w\", encoding=\"utf-8\") as g:\n",
    "    g.write(all_fns_str)"
   ]
  },
  {
   "cell_type": "markdown",
   "metadata": {},
   "source": [
    "Final step (?!?): combine the chapter output with the footnotes output"
   ]
  },
  {
   "cell_type": "code",
   "execution_count": 133,
   "metadata": {},
   "outputs": [],
   "source": [
    "with open(\"test_out.md\", \"r\", encoding=\"utf-8\") as f:\n",
    "    ch_contents = f.read()\n",
    "with open(\"test_fn_out.md\", \"r\", encoding=\"utf-8\") as g:\n",
    "    ch_footnotes = g.read()\n",
    "ch_full = ch_contents + \"\\n\\n# Footnotes\\n\\n\" + ch_footnotes"
   ]
  },
  {
   "cell_type": "code",
   "execution_count": 134,
   "metadata": {},
   "outputs": [
    {
     "data": {
      "text/plain": [
       "'## 9. Making it safe for the King of Kings\\n\\n\"So this is how we get rid of that madman Mossadegh,\" announced John Foster Dulles to a group of top Washington policy makers one day in June 1953.<sup id=\"t1\">[1](#f1)</sup> The Secretary of State held in his hand a plan of operation to overthrow the prime minister of Iran prepared by Kermit (Kim) Roosevelt of the CIA. There was scarcely any discussion amongst the high-powered men in the room, no probing questions, no legal or ethical issues raised.\\n\\n\"This was a grave decision to have made,\" Roosevelt later wrote. \"It involved tremendous risk. Surely it deserved thorough examination, the closest consideration, somewhere at the very highest level. It had not received such thought at this meeting. In fact, I was morally certain that almost half of those present, if they had felt free or had the courage to speak, would have opposed the undertaking.\"<sup id=\"t2\">[2](#f2)</sup>\\n\\nRoosevelt, the grandson of Theodore and distant cousin of Franklin, was expressing surprise more than disappointment at glimpsing American foreign-policy-making undressed.\\n\\nThe original initiative to oust Mossadegh had come from the British, for the elderly Iranian leader had spearheaded the parliamentary movement to nationalize the British-owned Anglo-Iranian Oil Company (AIOC), the sole oil company operating in Iran. In March 1951, the bill for nationalization was passed, and at the end of April Mossadegh was elected prime minister by a large majority of Parliament. On 1 May, nationalization went into effect. The Iranian people, Mossadegh declared, \"were opening a hidden treasure upon which lies a dragon\".<sup id=\"t3\">[3](#f3)</sup>\\n\\nAs the prime minister had anticipated, the British did not take the nationalization gracefully, though it was supported unanimously by the Iranian parliament and by the overwhelming majority of the Iranian people for reasons of both economic justice and national pride. The Mossadegh government tried to do all the right things to placate the British: It offered to set aside 25 percent of the net profits of the oil operation as compensation; it guaranteed the safety and the jobs of the British employees; it was willing to sell its oil without disturbance to the tidy control system so dear to the hearts of the international oil giants. But the British would have none of it. What they wanted was their oil company back. And they wanted Mossadegh\\'s head. A servant does not affront his lord with impunity.\\n\\nA military show of force by the British navy was followed by a ruthless international economic blockade and boycott, and a freezing of Iranian assets which brought Iran\\'s oil exports and foreign trade to a virtual standstill, plunged the already impoverished country into near destitution, and made payment of any compensation impossible. Nonetheless, and long after they had moved to oust Mossadegh, the British demanded compensation not only for the physical assets of the AIOC, but for the value of their enterprise in developing the oil fields; a request impossible to meet, and, in the eyes of Iranian nationalists, something which decades of huge British profits had paid for many times over.\\n\\nThe British attempt at economic strangulation of Iran could not have gotten off the ground without the active co-operation and support of the Truman and Eisenhower administrations and American oil companies. At the same time, the Truman administration argued with the British that Mossadegh\\'s collapse could open the door to the proverbial communist takeover.<sup id=\"t4\">[4](#f4)</sup> When the British were later expelled from Iran, however, they had no alternative but to turn to the United States for assistance in toppling Mossadegh. In November 1952, the Churchill government approached Roosevelt, the *de facto* head of the CIA\\'s Middle East division, who told the British that he felt that there was \"no chance to win approval from the outgoing administration of Truman and Acheson. The new Republicans, however, might be quite different.\"<sup id=\"t5\">[5](#f5)</sup>\\n\\nJohn Foster Dulles was certainly different. The apocalyptic anti-communist saw in Mossadegh the epitome of all that he detested in the Third World: unequivocal neutralism in the cold war, tolerance of Communists, and disrespect for free enterprise, as demonstrated by the oil nationalization. (Ironically, in recent years Great Britain had nationalized several of its own basic industries, and the government was the majority owner of the AIOC.) To the likes of John Foster Dulles, the eccentric Dr. Mohammed Mossadegh was indeed a madman. And when the Secretary of State considered further that Iran was a nation exceedingly rich in the liquid gold, and that it shared a border with the Soviet Union more than 1,000 miles long, he was not unduly plagued by indecision as to whether the Iranian prime minister should finally retire from public life.\\n\\nAs matters turned out, the overthrow of Mossadegh in August 1953 was much more an American operation than a British one. Twenty-six years later, Kermit Roosevelt took the unusual step of writing a book about how he and the CIA carried out the operation. He called his book *Countercoup* to press home the idea that the CIA coup was staged only to prevent a takeover of power by the Iranian Communist Party (The Tudeh) closely backed by the Soviet Union. Roosevelt was thus arguing that Mossadegh had to be removed to prevent a Communist takeover, whereas the Truman administration had felt that Mossadegh had to be kept in power to prevent one.\\n\\nIt would be incorrect to state that Roosevelt offers little evidence to support his thesis of the Communist danger. It would be more precise to say that he offers *no* evidence at all. Instead, the reader is subjected to mere assertions of the thesis which are stated over and over, apparently in the belief that enough repetition will convince even the most skeptical. Thus are we treated to variations on the theme such as the following:\\n\\n\"The Soviet threat [was] indeed genuine, dangerous and imminent\" ... Mossadegh \"had formed an alliance\" with the Soviet Union to oust the Shah ... \"the obvious threat of Russian takeover\" ... \"the alliance between [Mossadegh] and the Russian-dominated Tudeh was taking on a threatening shape\" ... Mossadegh\\'s \"increasing dependence on the Soviet Union\" ... \"the hand of the Tudeh, and behind them the Russians, is showing more openly every day\" ... \"Russian backing of the Tudeh and Tudeh backing of [Mossadegh] became ever more obvious\" ... the Soviet Union was \"ever more active in Iran. Their control over Tudeh leadership was growing stronger all the time. It was exercised often and, to our eyes, with deliberate ostentation\" ...<sup id=\"t6\">[6](#f6)</sup>\\n\\nBut none of this subversive and threatening activity was, apparently, ever open, obvious, or ostentatious enough to provide Roosevelt with a single example he could impart to a curious reader.\\n\\nIn actuality, although the Tudeh Party more or less faithfully followed the fluctuating Moscow line on Iran, the relation of the party to Mossadegh was much more complex than Roosevelt and other cold-war chroniclers have made it out to be. The Tudeh felt very ambiguous about the wealthy, eccentric, land-owning prime minister who, nonetheless, was standing up to imperialism. Dean Acheson, Truman\\'s Secretary of State, described Mossadegh as \"essentially a rich, reactionary, feudal-minded Persian\",<sup id=\"t7\">[7](#f7)</sup> hardly your typical Communist Party fellow-traveler.\\n\\nOn occasion the Tudeh had supported Mossadegh\\'s policies; more often it had attacked them bitterly, and in one instance, on 15 July 1951, a Tudeh-sponsored demonstration was brutally suppressed by Mossadegh, resulting in some 100 deaths and 500 injured. The Iranian leader, moreover, had campaigned successfully against lingering Soviet occupation of northern Iran after World War II, and in October 1947 had led Parliament in its rejection of a government proposal that a joint Irano-Soviet oil company be set up to exploit the oil of northern Iran.<sup id=\"t8\">[8](#f8)</sup>\\n\\nWhat, indeed, did Mossadegh have to gain by relinquishing any of his power to the Tudeh and/or the Soviet Union? The idea that the Russians even desired the Tudeh to take power is no more than speculation. There was just as much evidence, or as little, to conclude that the Russians, once again, were more concerned about their relationship with Western governments than with the fate of a local Communist Party in a country outside the socialist bloc of Eastern Europe.\\n\\nA secret State Department intelligence report, dated 9 January 1953, in the closing days of the Truman administration, stated that Mossadegh had not sought any alliance with the Tudeh, and that \"The major opposition to the National Front [Mossadegh\\'s governing coalition] arises from the vested interests, on the one hand, and the Tudeh Party on the other.\"<sup id=\"t9\">[9](#f9)</sup>\\n\\nThe Tudeh Party had been declared illegal in 1949 and Mossadegh had not lifted that ban although he allowed the party to operate openly, at least to some extent because of his democratic convictions, and had appointed some Tudeh sympathizers to government posts.\\n\\nMany of the Tudeh\\'s objectives paralleled those espoused by the National Front, the State Department report observed, but \"An open Tudeh move for power ... would probably unite independents and non-Communists of all political leanings and would result ... in energetic efforts to destroy Tudeh by force.\"<sup id=\"t10\">[10](#f10)</sup>\\n\\nThe National Front itself was a coalition of highly diverse political and religious elements including right-wing anti-communists, held together by respect for Mossadegh\\'s personal character and honesty, and by nationalistic sentiments, particularly in regard to the nationalization of oil.\\n\\nIn 1979, when he was asked about this State Department report, Kermit Roosevelt replied: \"I don\\'t know what to make of that ... Loy Henderson [US ambassador to Iran in 1953] thought that there was a serious danger that Mossadegh was going to, in effect, place Iran under Soviet domination.\"<sup id=\"t11\">[11](#f11)</sup> Though he was the principal moving force behind the coup, Roosevelt was now passing the buck, and to a man who, as we shall see in the Middle East chapter, was given to alarmist statements about \"communist takeovers\".\\n\\nOne can but wonder what Roosevelt, or anyone else, made of a statement by John Foster Dulles before a Senate committee in July 1953, when the operation to oust Mossadegh was already in process. The Secretary of State, the press reported, testified \"that there was \\'no substantial evidence\\' to indicate that Iran was cooperating with Russia. On the whole, he added, Moslem opposition to communism is predominant, although at times the Iranian Government appears to rely for support on the Tudeh party, which is communistic.\"<sup id=\"t12\">[12](#f12)</sup>\\n\\nThe young Shah of Iran had been relegated to little more than a passive role by Mossadegh and the Iranian political process. His power had been whittled away to the point where he was \"incapable of independent action\", noted the State Department intelligence report. Mossadegh was pressing for control of the armed forces and more say over expenditures of the royal court, and the inexperienced and indecisive Shah--the \"King of Kings\"--was reluctant to openly oppose the prime minister because of the latter\\'s popularity.\\n\\nThe actual sequence of events instigated by Roosevelt which culminated in the Shah\\'s ascendancy appears rather simple in hindsight, even naive, and owed not a little to luck. The first step was to reassure the Shah that Eisenhower and Churchill were behind him in his struggle for power with Mossadegh and were willing to provide whatever military and political support he needed. Roosevelt did not actually know what Eisenhower felt, or even knew, about the operation and went so far as to fabricate a message from the president to the Shah expressing his encouragement.<sup id=\"t13\">[13](#f13)</sup>\\n\\nAt the same time, the Shah was persuaded to issue royal decrees dismissing Mossadegh as prime minister and replacing him with one Fazlollah Zahedi, a general who had been imprisoned during the war by the British for collaboration with the Nazis.<sup id=\"t14\">[14](#f14)</sup> Late in the night of 14/15 August, the Shah\\'s emissary delivered the royal decree to Mossadegh\\'s home, which was guarded by troops. Not surprisingly, he was received very coolly and did not get in to see the prime minister. Instead, he was obliged to leave the decree with a servant who signed a receipt for the piece of paper dismissing his master from power. Equally unsurprising, Mossadegh did not abdicate. The prime minister, who maintained that only Parliament could dismiss him, delivered a radio broadcast the following morning in which he stated that the Shah, encouraged by \"foreign elements\", had attempted a *coup d\\'état*. Mossadegh then declared that he was, therefore, compelled to take full power unto himself. He denounced Zahedi as a traitor and sought to have him arrested, but the general had been hidden by Roosevelt\\'s team.\\n\\nThe Shah, fearing all was lost, fled with his queen to Rome via Baghdad without so much as packing a suitcase. Undeterred, Roosevelt went ahead and directed the mimeographing of copies of the royal decrees for distribution to the public, and sent two of his Iranian agents to important military commanders to seek their support. It appears that this crucial matter was left to the last minute, almost as an afterthought. Indeed, one of the two Iranians had been recruited for the cause only the same day, and it was only he who succeeded in winning a commitment of military support from an Iranian colonel who had tanks and armored cars under his command.<sup id=\"t15\">[15](#f15)</sup>\\n\\nBeginning on 16 August, a mass demonstration arranged by the National Front, supporting Mossadegh and attacking the Shah and the United States, took place in the capital city, Teheran. Roosevelt characterizes the demonstrators simply as \"the Tudeh, with strong Russian encouragement\", once again failing to offer any evidence to support his assertion. The *New York Times* referred to them as \"Tudeh partisans and Nationalist extremists\", the latter term being one which could have applied to individuals comprising a wide range of political leanings.<sup id=\"t16\">[16](#f16)</sup>\\n\\nAmong the demonstrators there were as well a number of individuals working for the CIA. According to Richard Cottam, an American academic and author reportedly in the employ of the Agency in Teheran at this time, these agents were sent \"into the streets to act as if they were Tudeh. They were more than just provocateurs, they were shock troops, who acted as if they were Tudeh people throwing rocks at mosques and priests\", the purpose of which was to stamp the Tudeh and, by implication, Mossadegh as being anti-religion.<sup id=\"t17\">[17](#f17)</sup>\\n\\nDuring the demonstrations, the Tudeh raised their familiar demand for the creation of a democratic republic. They appealed to Mossadegh to form a united front and to provide them with arms to defend against the coup, but the prime minister refused.<sup id=\"t18\">[18](#f18)</sup> Instead, on 18 August he ordered the police and army to put an end to the Tudeh demonstrations which they did with considerable force. According to the accounts of Roosevelt and Ambassador Henderson, Mossadegh took this step as a result of a meeting with Henderson in which the ambassador complained of the extreme harassment being suffered by US citizens at the hands of the Iranians. It is left unclear by both of the Americans how much of this harassment was real and how much manufactured by them for the occasion. In any event, Henderson told Mossadegh that unless it ceased, he would be obliged to order all Americans to leave Iran at once. Mossadegh, says Henderson, begged him not to do this for an American evacuation would make it appear that his government was unable to control the country, although at the same time the prime minister was accusing the CIA of being behind the issuance of the royal decrees.<sup id=\"t19\">[19](#f19)</sup> (The Tudeh newspaper at this time was demanding the expulsion of \"interventionist\" American diplomats.)<sup id=\"t20\">[20](#f20)</sup>\\n\\nWhatever Mossadegh\\'s motivation, his action was again in sharp contradiction to the idea that he was in alliance with the Tudeh or that the party was in a position to grab the reins of power. Indeed, the Tudeh did not take to the streets again.\\n\\nThe following day, 19 August, Roosevelt\\'s Iranian agents staged a parade through Teheran. With a fund of some one million dollars having been established in a safe in the American embassy, the \"extremely competent professional \\'organizers\\',\" as Roosevelt called them, had no difficulty in buying themselves a mob, probably using but a small fraction of the fund. (The various accounts of the CIA role in Iran have the Agency spending from $10,000 to $19 million to overthrow Mossadegh. The larger amounts are based on reports that the CIA engaged in heavy bribery of members of Parliament and other influential Iranians to enlist their support against the prime minister.)\\n\\nSoon a line of people could be seen coming out of the ancient bazaar, led by circus and athletic performers to attract the public. The marchers were waving banners, shouting \"Long live the Shah!\" Along the edges of the procession, men were passing out Iranian currency adorned with a portrait of the Shah. The demonstrators gathered followers as they went, people joining and picking up the chants, undoubtedly for a myriad of political and personal reasons. The balance of psychology had swung against Mossadegh.\\n\\nAlong the way, some marchers broke ranks to attack the offices of pro-Mossadegh newspapers and political parties, Tudeh and government offices. Presently, a voice broke in over the radio in Teheran announcing that \"The Shah\\'s instruction that Mossadegh be dismissed has been carried out. The new Prime Minister, Fazlollah Zahedi, is now in office. And His Imperial Majesty is on his way home!\"\\n\\nThis was a lie, or a \"pre-truth\" as Roosevelt suggested. Only then did he go to fetch Zahedi from his hiding place. On the way, he happened to run into the commander of the air force who was among the marching throng. Roosevelt told the officer to get hold of a tank in which to carry Zahedi to Mossadegh\\'s house in proper fashion.<sup id=\"t21\">[21](#f21)</sup>\\n\\nKermit Roosevelt would have the reader believe that at this point it was all over but the shouting and the champagne he was soon to uncork: Mossadegh had fled, Zahedi had assumed power, the Shah had been notified to return--a dramatic, joyful, and peaceful triumph of popular will. Inexplicably, he neglects to mention at all that in the streets of Teheran and in front of Mossadegh\\'s house that day, a nine-hour battle raged, with soldiers loyal to Mossadegh on one side and those supporting Zahedi and the Shah on the other. Some 300 people were reported killed and hundreds more wounded before Mossadegh\\'s defenders finally succumbed.<sup id=\"t22\">[22](#f22)</sup>\\n\\nRoosevelt also fails to mention any contribution of the British to the whole operation, which considerably irritated the men in MI6, the CIA\\'s counterpart, who claim that they, as well as AIOC staff, local businessmen and other Iranians, had indeed played a role in the events. But they have been tight-lipped about what that role was precisely.<sup id=\"t23\">[23](#f23)</sup>\\n\\nThe US Military Mission in Iran also claimed a role in the action, as Major General George C. Stewart later testified before Congress:\\n\\n> Now, when this crisis came on and the thing was about to collapse, we violated our normal criteria and among the other things we did, we provided the army immediately on an emergency basis, blankets, boots, uniforms, electric generators, and medical supplies that permitted and created the atmosphere in which they could support the Shah ... The guns that they had in their hands, the trucks that they rode in, the armored cars that they drove through the streets, and the radio communications that permitted their control, were all furnished through the military defense assistance program.<sup id=\"t24\">[24](#f24)</sup>\\n\\nThe latter part of the General\\'s statement would, presumably, apply to the other side as well.\\n\\n\"It is conceivable that the Tudeh could have turned the fortunes of the day against the royalists,\" wrote Kennett Love, a *New York Times* reporter who was in Teheran during the crucial days of August. \"But for some reason they remained completely aloof from the conflict. ... My own conjecture is that the Tudeh were restrained by the Soviet Embassy because the Kremlin, in the first post-Stalin year, was not willing to take on such consequences as might have resulted from the establishment of a communist-controlled regime in Teheran.\"\\n\\nLove\\'s views, contained in a paper he wrote in 1960, may well have been inspired by information received from the CIA. By his own admission, he was in close contact with the Agency in Teheran and even aided them in their operation.<sup id=\"t25\">[25](#f25)</sup>\\n\\nEarlier in the year, the *New York Times* had noted that \"prevailing opinion among detached observers in Teheran\" was that \"Mossadegh is the most popular politician in the country\". During a period of more than 40 years in public life, Mossadegh had \"acquired a reputation as an honest patriot\".<sup id=\"t26\">[26](#f26)</sup>\\n\\nIn July, the State Department Director of Iranian Affairs had testified that \"Mossadegh has such tremendous control over the masses of people that it would be very difficult to throw him out.\"<sup id=\"t27\">[27](#f27)</sup>\\n\\nA few days later, \"at least 100,000\" people filled the streets of Teheran to express strong anti-US and anti-Shah sentiments. Though sponsored by the Tudeh, the turnout far exceeded any estimate of party adherents.<sup id=\"t28\">[28](#f28)</sup>\\n\\nBut popularity and masses, of the unarmed kind, counted for little, for in the final analysis what Teheran witnessed was a military showdown carried out on both sides by soldiers obediently following the orders of a handful of officers, some of whom were staking their careers and ambitions on choosing the winning side; some had a more ideological commitment. The *New York Times* characterized the sudden reversal of Mossadegh\\'s fortunes as \"nothing more than a mutiny ... against pro-Mossadegh officers\" by \"the lower ranks\" who revered the Shah, had brutally quelled the demonstrations the day before, but refused to do the same on 19 August, and instead turned against their officers.<sup id=\"t29\">[29](#f29)</sup>\\n\\nWhat connection Roosevelt and his agents had with any of the pro-Shah officers beforehand is not clear. In an interview given at about the same time that he finished his book, Roosevelt stated that a number of pro-Shah officers were given refuge in the CIA compound adjoining the US Embassy at the time the Shah fled to Rome.<sup id=\"t30\">[30](#f30)</sup> But inasmuch as Roosevelt mentions not a word of this rather important and interesting development in his book, it must be regarded as yet another of his assertions to be approached with caution.\\n\\nIn any event, it may be that the 19 August demonstration organized by Roosevelt\\'s team was just the encouragement and spark these officers were waiting for. Yet, if so, it further illustrates how much Roosevelt had left to chance.\\n\\nIn light of all the questionable, contradictory, and devious statements which emanated at times from John Foster Dulles, Kermit Roosevelt, Loy Henderson and other American officials, what conclusions can be drawn about American motivation in the toppling of Mossadegh? The consequences of the coup may offer the best guide.\\n\\nFor the next 25 years, the Shah of Iran stood fast as the United States\\' closest ally in the Third World, to a degree that would have shocked the independent and neutral Mossadegh. The Shah literally placed his country at the disposal of US military and intelligence organizations to be used as a cold-war weapon, a window and a door to the Soviet Union--electronic listening and radar posts were set up near the Soviet border; American aircraft used Iran as a base to launch surveillance flights over the Soviet Union; espionage agents were infiltrated across the border; various American military installations dotted the Iranian landscape. Iran was viewed as a vital link in the chain being forged by the United States to \"contain\" the Soviet Union. In a telegram to the British Acting Foreign Secretary in September, Dulles said: \"I think if we can in coordination move quickly and effectively in Iran we would close the most dangerous gap in the line from Europe to South Asia.\"<sup id=\"t31\">[31](#f31)</sup> In February 1955, Iran became a member of the Baghdad Pact, set up by the United States, in Dulles\\'s words, \"to create a solid band of resistance against the Soviet Union\".<sup id=\"t32\">[32](#f32)</sup>\\n\\nOne year after the coup, the Iranian government completed a contract with an international consortium of oil companies. Amongst Iran\\'s new foreign partners, the British lost the exclusive rights they had enjoyed previously, being reduced now to 40 percent. Another 40 percent now went to American oil firms, the remainder to other countries. The British, however, received an extremely generous compensation for their former property.<sup id=\"t33\">[33](#f33)</sup>\\n\\nIn 1958, Kermit Roosevelt left the CIA and presently went to work for Gulf Oil Co., one of the American oil firms in the consortium. In this position, Roosevelt was director of Gulf\\'s relations with the US government and foreign governments, and had occasion to deal with the Shah. In 1960, Gulf appointed him a vice president. Subsequently, Roosevelt formed a consulting firm, Downs and Roosevelt, which, between 1967 and 1970, reportedly received $116,000 a year above expenses for its efforts on behalf of the Iranian government. Another client, the Northrop Corporation, a Los Angeles-based aerospace company, paid Roosevelt $75,000 a year to aid in its sales to Iran, Saudi Arabia and other countries.<sup id=\"t34\">[34](#f34)</sup> (See the Middle East chapter for Roosevelt\\'s CIA connection with King Saud of Saudi Arabia.)\\n\\nAnother American member of the new consortium was Standard Oil Co. of New Jersey (now Exxon), a client of Sullivan and Cromwell, the New York law firm of which John Foster Dulles had long been the senior member. Brother Allen, Director of the CIA, had also been a member of the firm.<sup id=\"t35\">[35](#f35)</sup> Syndicated columnist Jack Anderson reported some years later that the Rockefeller family, who controlled Standard Oil and Chase Manhattan Bank, had \"helped arrange the CIA coup that brought down Mossadegh\". Anderson listed a number of ways in which the Shah demonstrated his gratitude to the Rockefellers, including heavy deposits of his personal fortune in Chase Manhattan, and housing developments in Iran built by a Rockefeller family company.<sup id=\"t36\">[36](#f36)</sup>\\n\\nThe standard \"textbook\" account of what took place in Iran in 1953 is that--whatever else one might say for or against the operation--the United States saved Iran from a Soviet/Communist takeover. Yet, during the two years of American and British subversion of a bordering country, the Soviet Union did nothing that would support such a premise. When the British Navy staged the largest concentration of its forces since World War II in Iranian waters, the Soviets took no belligerent steps; nor when Great Britain instituted draconian international sanctions which left Iran in a deep economic crisis and extremely vulnerable, did the oil fields \"fall hostage\" to the Bolshevik Menace; this, despite \"the whole of the Tudeh Party at its disposal\" as agents, as Roosevelt put it.<sup id=\"t37\">[37](#f37)</sup> Not even in the face of the coup, with its imprint of foreign hands, did Moscow make a threatening move; neither did Mossadegh at any point ask for Russian help.\\n\\nOne year later, however, the *New York Times* could editorialize that \"Moscow ... counted its chickens before they were hatched and thought that Iran would be the next \\'People\\'s Democracy\\'.\" At the same time, the newspaper warned, with surprising arrogance, that \"underdeveloped countries with rich resources now have an object lesson in the heavy cost that must be paid by one of their number which goes berserk with fanatical nationalism.\"<sup id=\"t38\">[38](#f38)</sup>\\n\\nA decade later, Allen Dulles solemnly stated that communism had \"achieved control of the governmental apparatus\" in Iran.<sup id=\"t39\">[39](#f39)</sup> And a decade after that, *Fortune* magazine, to cite one of many examples, kept the story alive by writing that Mossadegh \"plotted with the Communist party of Iran, the Tudeh, to overthrow Shah Mohammed Reza Pahlevi and hook up with the Soviet Union.\"<sup id=\"t40\">[40](#f40)</sup>\\n\\nAnd what of the Iranian people? What did being \"saved from communism\" do for them? For the preponderance of the population, life under the Shah was a grim tableau of grinding poverty, police terror, and torture. Thousands were executed in the name of fighting communism. Dissent was crushed from the outset of the new regime with American assistance. Kennett Love wrote that he believed that CIA officer George Carroll, whom he knew personally, worked with General Farhat Dadsetan, the new military governor of Teheran, \"on preparations for the very efficient smothering of a potentially dangerous dissident movement emanating from the bazaar area and the Tudeh in the first two weeks of November, 1953\".<sup id=\"t41\">[41](#f41)</sup>\\n\\nThe notorious Iranian secret police, SAVAK, created under the guidance of the CIA and Israel,<sup id=\"t42\">[42](#f42)</sup> spread its tentacles all over the world to punish Iranian dissidents. According to a former CIA analyst on Iran, SAVAK was instructed in torture techniques by the Agency.<sup id=\"t43\">[43](#f43)</sup> Amnesty International summed up the situation in 1976 by noting that Iran had the \"highest rate of death penalties in the world, no valid system of civilian courts and a history of torture which is beyond belief. No country in the world has a worse record in human rights than Iran.\"<sup id=\"t44\">[44](#f44)</sup>\\n\\nWhen to this is added a level of corruption that \"startled even the most hardened observers of Middle Eastern thievery\",<sup id=\"t45\">[45](#f45)</sup> it is understandable that the Shah needed his huge military and police force, maintained by unusually large US aid and training programs,<sup id=\"t46\">[46](#f46)</sup> to keep the lid down for as long as he did. Said Senator Hubert Humphrey, apparently with some surprise:\\n\\n> Do you know what the head of the Iranian Army told one of our people? He said the Army was in good shape, thanks to U.S. aid--it was now capable of coping with the civilian population. That Army isn\\'t going to fight the Russians. It\\'s planning to fight the Iranian people.<sup id=\"t47\">[47](#f47)</sup>\\n\\nWhere force might fail, the CIA turned to its most trusted weapon--money. To insure support for the Shah, or at least the absence of dissent, the Agency began making payments to Iranian religious leaders, always a capricious bunch. The payments to the ayatollahs and mullahs began in 1953 and continued regularly until 1977 when President Carter abruptly halted them. One \"informed intelligence source\" estimated that the amount paid reached as much as $400 million a year; others thought that figure too high, which it certainly seems to be. The cut-off of funds to the holy men, it is believed, was one of the elements which precipitated the beginning of the end for the King of Kings.<sup id=\"t48\">[48](#f48)</sup>\\n\\n# Footnotes\\n\\n<span id=\"f1\" name=\"f1\">1. Roosevelt, p. 8.</span> [↩](#t1)\\n\\n<span id=\"f2\" name=\"f2\">2. Ibid., pp. 18-19.</span> [↩](#t2)\\n\\n<span id=\"f3\" name=\"f3\">3. Anthony Eden, The Memoirs of the Right Honourable Sir Anthony Eden: Full Circle (London, 1960) p. 194.</span> [↩](#t3)\\n\\n<span id=\"f4\" name=\"f4\">4. Dean Acheson, Present at the Creation: My Years in the State Department (New York, 1969) pp. 679-85; Eden, pp. 201-2: Nirumand, pp. 73-4.</span> [↩](#t4)\\n\\n<span id=\"f5\" name=\"f5\">5. Roosevelt, p. 107.</span> [↩](#t5)\\n\\n<span id=\"f6\" name=\"f6\">6. Ibid., pp. II, 2, 3, 91-2, 126, 134, 164, 119.</span> [↩](#t6)\\n\\n<span id=\"f7\" name=\"f7\">7. Acheson, p. 504.</span> [↩](#t7)\\n\\n<span id=\"f8\" name=\"f8\">8. Relations between Mossadegh, Tudeh, and the Soviet Union:\\na) Manfred Halpern, “Middle East and North Africa”, in C.E. Black and T.P. Thornton, eds., Communism and Revolution (U.S., 1964) pp. 316-19\\nb) Donald N. Wilber, Iran: Past and Present (Princeton University Press, Third Edition, 1955), p. 115. Wilber is an historian who, by his own admission, was also a CIA operative. He claims, in a later book, to have been the principal planner for the operation to overthrow Mossadegh (known as Operation AJAX), although he offers no evidence to support this assertion. He also states that Roosevelt’s book is full of factual errors. See Adventures in the Middle East (1986), pp. 187-8.\\nc) Nirumand, op. cit.\\nd) Rubin, op. cit.</span> [↩](#t8)\\n\\n<span id=\"f9\" name=\"f9\">9. The Declassified Documents Reference System (Arlington, Va.) 1979 volume, document 79E.</span> [↩](#t9)\\n\\n<span id=\"f10\" name=\"f10\">10. Ibid.</span> [↩](#t10)\\n\\n<span id=\"f11\" name=\"f11\">11. Roosevelt interview by Robert Scheer in the Los Angeles Times, 29 March 1979, p. 1.</span> [↩](#t11)\\n\\n<span id=\"f12\" name=\"f12\">12. New York Times, 10 July 1953, p. 4.</span> [↩](#t12)\\n\\n<span id=\"f13\" name=\"f13\">13. Roosevelt, p. 168.</span> [↩](#t13)\\n\\n<span id=\"f14\" name=\"f14\">14. Fitzroy Maclean, Eastern Approaches (London, 1949) pp. 266, 274; Maclean was a British officer in World War II who kidnapped Zahedi (or Zahidi) to keep him from further aiding the Nazis.</span> [↩](#t14)\\n\\n<span id=\"f15\" name=\"f15\">15. The details of the last days of the Mossadegh regime can be found in Roosevelt, chapters 11 and 12; Wilber pp. 124-7 (purposely makes no mention of the CIA — see Note 8); Ambrose, chapter 15, as well as in other books mentioned in this section.</span> [↩](#t15)\\n\\n<span id=\"f16\" name=\"f16\">16. Demonstration: Wilber, p. 125; Roosevelt, p. 179; New York Times, 19 August 1953.</span> [↩](#t16)\\n\\n<span id=\"f17\" name=\"f17\">17. Brian Lapping, End of Empire (Great Britain/US 1985) p. 220, based on the Granada Television series of the same name broadcast in Britain in 1985.</span> [↩](#t17)\\n\\n<span id=\"f18\" name=\"f18\">18. Halpern, p. 318; Wilber, p. 125.</span> [↩](#t18)\\n\\n<span id=\"f19\" name=\"f19\">19. Henderson meeting with Mossadegh: Ambrose, pp. 208-9, interview with Henderson by the author; Roosevelt, pp. 183-5.</span> [↩](#t19)\\n\\n<span id=\"f20\" name=\"f20\">20. New York Times, 19 August 1953.</span> [↩](#t20)\\n\\n<span id=\"f21\" name=\"f21\">21. Roosevelt, p. 191-2.</span> [↩](#t21)\\n\\n<span id=\"f22\" name=\"f22\">22. New York Times, 20 August 1953, p. 1: The Times (London), 20 August 1953.</span> [↩](#t22)\\n\\n<span id=\"f23\" name=\"f23\">23. David Leigh, The Wilson Plot: How the Spycatchers and Their American Allies Tried to Overthrow the British Government (New York, 1988) pp. 14-15.</span> [↩](#t23)\\n\\n<span id=\"f24\" name=\"f24\">24. Hearings in 1954 before the House Foreign Affairs Committee on “The Mutual Security Act of 1954”, pp. 503, 569-70. Stewart was the Director of the Office of Military Assistance, Department of Defense.</span> [↩](#t24)\\n\\n<span id=\"f25\" name=\"f25\">25. Kennett Love, The American Role in the Pahlevi Restoration on 19 August 1953 (Pahlevi was the Shah’s name), unpublished manuscript residing amongst the Allen Dulles papers, Princeton University; excerpted in Jonathan Kwitny, Endless Enemies: The Making of an Unfriendly World (New York, 1984) pp. 164-177.</span> [↩](#t25)\\n\\n<span id=\"f26\" name=\"f26\">26. New York Times, 18 January 1953, IV, p. 8.</span> [↩](#t26)\\n\\n<span id=\"f27\" name=\"f27\">27. Arthur L. Richards, Director, Office of Greek, Turkish and Iranian Affairs, testimony 17 July 1953, before House Committee on Foreign Affairs in executive session, released in 1981, p. 148.</span> [↩](#t27)\\n\\n<span id=\"f28\" name=\"f28\">28. New York Times, 21 July 1953.</span> [↩](#t28)\\n\\n<span id=\"f29\" name=\"f29\">29. Ibid., 23 August 1953, IV, p. 1.</span> [↩](#t29)\\n\\n<span id=\"f30\" name=\"f30\">30. Scheer interview.</span> [↩](#t30)\\n\\n<span id=\"f31\" name=\"f31\">31. The Guardian (London) 2 January 1984, British Government papers of 1953, released 1 January 1984.</span> [↩](#t31)\\n\\n<span id=\"f32\" name=\"f32\">32. Testimony at “Hearings on the Situation in the Middle East”, Senate Committee on Foreign Relations, 24 February 1956, p. 23.</span> [↩](#t32)\\n\\n<span id=\"f33\" name=\"f33\">33. Nirumand, pp. 100-108 explains the contract in detail.</span> [↩](#t33)\\n\\n<span id=\"f34\" name=\"f34\">34. Roosevelt’s post-CIA career: Scheer interview; Wise and Ross, pp. 116-7; Kwitny, p. 183.</span> [↩](#t34)\\n\\n<span id=\"f35\" name=\"f35\">35. Robert Engler, The Politics of Oil: A Study of Private Power and Democratic Directions (N.Y., 1961) p. 310.</span> [↩](#t35)\\n\\n<span id=\"f36\" name=\"f36\">36. San Francisco Chronicle, 26 December 1979.</span> [↩](#t36)\\n\\n<span id=\"f37\" name=\"f37\">37. Roosevelt, p. 145.</span> [↩](#t37)\\n\\n<span id=\"f38\" name=\"f38\">38. New York Times, 6 August 1954.</span> [↩](#t38)\\n\\n<span id=\"f39\" name=\"f39\">39. Allen Dulles, The Craft of Intelligence (New York, 1965) p.216.</span> [↩](#t39)\\n\\n<span id=\"f40\" name=\"f40\">40. Fortune (New York) June 1975, p. 90.</span> [↩](#t40)\\n\\n<span id=\"f41\" name=\"f41\">41. Love, op. cit., cited in Kwitny, p. 175.</span> [↩](#t41)\\n\\n<span id=\"f42\" name=\"f42\">42. Roosevelt, p. 9.</span> [↩](#t42)\\n\\n<span id=\"f43\" name=\"f43\">43. Jesse J. Leaf, Chief CIA analyst on Iran for five years before resigning in 1973, interviewed by Seymour Hersh in the New York Times, 7 January 1979.</span> [↩](#t43)\\n\\n<span id=\"f44\" name=\"f44\">44. Martin Ennals, Secretary-General of Amnesty International, cited in an article by Reza Baraheni in Matchbox (Amnesty publication in New York) Fall, 1976.</span> [↩](#t44)\\n\\n<span id=\"f45\" name=\"f45\">45. Tully, p. 76.</span> [↩](#t45)\\n\\n<span id=\"f46\" name=\"f46\">46. See, e.g. Michael Klare, War Without End (New York, 1972) pp. 375, 379, 382, based on official US Government tables covering the 1950s and 1960s.</span> [↩](#t46)\\n\\n<span id=\"f47\" name=\"f47\">47. Cook, p. 550.</span> [↩](#t47)\\n\\n<span id=\"f48\" name=\"f48\">48. San Francisco Chronicle, 3 March 1980, p. 15.</span> [↩](#t48)'"
      ]
     },
     "execution_count": 134,
     "metadata": {},
     "output_type": "execute_result"
    }
   ],
   "source": [
    "ch_full"
   ]
  },
  {
   "cell_type": "code",
   "execution_count": null,
   "metadata": {},
   "outputs": [],
   "source": []
  }
 ],
 "metadata": {
  "kernelspec": {
   "display_name": "Python 3",
   "language": "python",
   "name": "python3"
  },
  "language_info": {
   "codemirror_mode": {
    "name": "ipython",
    "version": 3
   },
   "file_extension": ".py",
   "mimetype": "text/x-python",
   "name": "python",
   "nbconvert_exporter": "python",
   "pygments_lexer": "ipython3",
   "version": "3.7.3"
  }
 },
 "nbformat": 4,
 "nbformat_minor": 4
}
