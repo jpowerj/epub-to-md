{
 "cells": [
  {
   "cell_type": "markdown",
   "metadata": {},
   "source": [
    "The big kahuna: handling footnotes once the epub has been converted to html"
   ]
  },
  {
   "cell_type": "code",
   "execution_count": 163,
   "metadata": {},
   "outputs": [],
   "source": [
    "import re\n",
    "import bs4"
   ]
  },
  {
   "cell_type": "code",
   "execution_count": 243,
   "metadata": {},
   "outputs": [],
   "source": [
    "debug = False\n",
    "dprint = print if debug else lambda *args: None"
   ]
  },
  {
   "cell_type": "code",
   "execution_count": 244,
   "metadata": {},
   "outputs": [],
   "source": [
    "fn_template = '<sup id=\"t{fn_num}\">[{fn_num}](#f{fn_num})</sup>'\n",
    "rfn_template = '{fn_num}. <span id=\"f{fn_num}\" name=\"f{fn_num}\">{fn_text}</span> [↩](#t{fn_num})'"
   ]
  },
  {
   "cell_type": "code",
   "execution_count": 245,
   "metadata": {},
   "outputs": [
    {
     "data": {
      "text/plain": [
       "'<sup id=\"t7\">[7](#f7)</sup>'"
      ]
     },
     "execution_count": 245,
     "metadata": {},
     "output_type": "execute_result"
    }
   ],
   "source": [
    "fn_template.format(fn_num=7)"
   ]
  },
  {
   "cell_type": "code",
   "execution_count": 246,
   "metadata": {},
   "outputs": [
    {
     "data": {
      "text/plain": [
       "'11. <span id=\"f11\" name=\"f11\">Cool footnote.</span> [↩](#t11)'"
      ]
     },
     "execution_count": 246,
     "metadata": {},
     "output_type": "execute_result"
    }
   ],
   "source": [
    "rfn_template.format(fn_num=11, fn_text=\"Cool footnote.\")"
   ]
  },
  {
   "cell_type": "code",
   "execution_count": 247,
   "metadata": {},
   "outputs": [],
   "source": [
    "repl_dict = {\n",
    "    '’': \"'\",\n",
    "    '‘': \"'\",\n",
    "    '“': '\"',\n",
    "    '”': '\"',\n",
    "    '—': '--',\n",
    "    '…': '...'\n",
    "}"
   ]
  },
  {
   "cell_type": "code",
   "execution_count": 248,
   "metadata": {},
   "outputs": [],
   "source": [
    "with open(\"killing_hope.html\", \"r\", encoding=\"utf-8\") as f:\n",
    "    html_str = f.read()"
   ]
  },
  {
   "cell_type": "code",
   "execution_count": 249,
   "metadata": {},
   "outputs": [],
   "source": [
    "soup = bs4.BeautifulSoup(html_str, 'html.parser')"
   ]
  },
  {
   "cell_type": "code",
   "execution_count": 250,
   "metadata": {},
   "outputs": [],
   "source": [
    "#soup"
   ]
  },
  {
   "cell_type": "markdown",
   "metadata": {},
   "source": [
    "I guess the first thing to do is split into [front matter], [main text], and [footnotes]"
   ]
  },
  {
   "cell_type": "markdown",
   "metadata": {},
   "source": [
    "Actually... So in the end I want a file for each chapter, where each of these files contains the chapter text and the footnotes, correctly [bidirectionally] linked to one another. So instead here I'm gonna try to get like a list where each element is the html of a chapter"
   ]
  },
  {
   "cell_type": "code",
   "execution_count": 251,
   "metadata": {},
   "outputs": [],
   "source": [
    "toc_elts = soup.find_all(class_=\"toc\")"
   ]
  },
  {
   "cell_type": "code",
   "execution_count": 252,
   "metadata": {},
   "outputs": [],
   "source": [
    "ch_reg = re.compile(r'([0-9]+)\\. (.+)$')"
   ]
  },
  {
   "cell_type": "code",
   "execution_count": 253,
   "metadata": {},
   "outputs": [],
   "source": [
    "ch_info = []\n",
    "for elt_num, cur_elt in enumerate(toc_elts):\n",
    "    #print(cur_elt)\n",
    "    # Here we can get the id for the link\n",
    "    elt_id = cur_elt['id']\n",
    "    #print(elt_num, elt_id)\n",
    "    # But the main thing is getting the href and the text of the link\n",
    "    children = cur_elt.children\n",
    "    # I think there should only be one child, so this should work\n",
    "    child = next(children)\n",
    "    # Grr. Nope, because sometimes the first child can be an anchor marking a new page\n",
    "    if 'href' not in child.attrs:\n",
    "        child = next(children)\n",
    "    #print(child)\n",
    "    #print(dir(elt_child))\n",
    "    #print(elt_child.attrs)\n",
    "    href = child.attrs['href']\n",
    "    href_elts = href.split(\"#\")\n",
    "    html_file = href_elts[0]\n",
    "    anchor_link = href_elts[1]\n",
    "    # Important: here we also record this anchor_link as \"next_anchor\" for the previous\n",
    "    # chapter's info\n",
    "    if elt_num > 0:\n",
    "        ch_info[elt_num-1]['next_anchor'] = anchor_link\n",
    "    text = child.text\n",
    "    # Replace annoying unicode chars in the text b/c I'm neurotic\n",
    "    repl_unicode = lambda x: repl_dict[x] if x in repl_dict else x\n",
    "    text = \"\".join([repl_unicode(c) for c in text])\n",
    "    # And now get the chapter num if it has one\n",
    "    ch_num = None\n",
    "    ch_title = text\n",
    "    ch_reg_result = ch_reg.search(text)\n",
    "    if ch_reg_result is not None:\n",
    "        # We have a ch_num\n",
    "        ch_num = ch_reg_result.group(1)\n",
    "        # And also update the title so it doesn't contain the ch num redundantly\n",
    "        ch_title = ch_reg_result.group(2)\n",
    "    #print(ch_num, href, text)\n",
    "    ch_info.append({'ch_num':ch_num, 'ch_title': ch_title, 'href':href, 'html_file':html_file, 'anchor_link':anchor_link})"
   ]
  },
  {
   "cell_type": "code",
   "execution_count": 254,
   "metadata": {},
   "outputs": [],
   "source": [
    "#ch_info"
   ]
  },
  {
   "cell_type": "markdown",
   "metadata": {},
   "source": [
    "Cool. So now we have to basically loop over these individual links, parse the html files they link to, handle the footnotes, and export .md files"
   ]
  },
  {
   "cell_type": "code",
   "execution_count": 255,
   "metadata": {},
   "outputs": [
    {
     "data": {
      "text/plain": [
       "{'ch_num': '9',\n",
       " 'ch_title': 'Iran 1953: Making it safe for the King of Kings',\n",
       " 'href': 'part0013.html#ch9',\n",
       " 'html_file': 'part0013.html',\n",
       " 'anchor_link': 'ch9',\n",
       " 'next_anchor': 'ch10'}"
      ]
     },
     "execution_count": 255,
     "metadata": {},
     "output_type": "execute_result"
    }
   ],
   "source": [
    "cur_ch_info = ch_info[10]\n",
    "cur_ch_info"
   ]
  },
  {
   "cell_type": "code",
   "execution_count": 256,
   "metadata": {},
   "outputs": [
    {
     "data": {
      "text/plain": [
       "<p class=\"title1\" id=\"ch9\"><a class=\"calibre1\" href=\"part0002.html#rch9\">9. Iran 1953</a></p>"
      ]
     },
     "execution_count": 256,
     "metadata": {},
     "output_type": "execute_result"
    }
   ],
   "source": [
    "ch_start_elt = soup.find(id='ch9')\n",
    "ch_start_elt"
   ]
  },
  {
   "cell_type": "code",
   "execution_count": 257,
   "metadata": {},
   "outputs": [],
   "source": [
    "# Now I guess we go through siblings until we hit next_anchor?"
   ]
  },
  {
   "cell_type": "code",
   "execution_count": 258,
   "metadata": {},
   "outputs": [],
   "source": [
    "ch_contents = []\n",
    "for cur_ch_elt in ch_start_elt.next_siblings:\n",
    "    try:\n",
    "        cur_id = cur_ch_elt.attrs['id']\n",
    "        if cur_id == 'ch10':\n",
    "            break\n",
    "        ch_contents.append(cur_ch_elt)\n",
    "    except AttributeError as ae:\n",
    "        # It's a NavigableString\n",
    "        if repr(cur_ch_elt) != '\\n':\n",
    "            ch_contents.append(cur_ch_elt)\n",
    "        # (otherwise we can throw it out, it's just a line break)\n",
    "        #print(ae)\n",
    "    except KeyError as ke:\n",
    "        # It's an element without an id\n",
    "        ch_contents.append(cur_ch_elt)\n",
    "        #print(ke)"
   ]
  },
  {
   "cell_type": "code",
   "execution_count": 259,
   "metadata": {},
   "outputs": [],
   "source": [
    "# Annoying but now we can filter out the NavigableStrings that are just linebreaks\n",
    "ch_contents = [c for c in ch_contents if c != '\\n']"
   ]
  },
  {
   "cell_type": "code",
   "execution_count": 260,
   "metadata": {},
   "outputs": [],
   "source": [
    "md_contents = []"
   ]
  },
  {
   "cell_type": "code",
   "execution_count": 261,
   "metadata": {},
   "outputs": [],
   "source": [
    "def parse_footnote(fn_elt):\n",
    "    #print(fn_elt)\n",
    "    fn_children = fn_elt.children\n",
    "    # First child should be the return anchor\n",
    "    return_anchor = next(fn_children)\n",
    "    return_id = return_anchor.attrs['id']\n",
    "    dprint(f\"return_id = {return_id}\")\n",
    "    # And next should be the link to the footnote itself\n",
    "    fn_link = next(fn_children)\n",
    "    fn_href = fn_link.attrs['href']\n",
    "    dprint(f\"fn_href = {fn_href}\")\n",
    "    fn_text = fn_link.text\n",
    "    # But really fn_text should be a number\n",
    "    fn_num = int(fn_text)\n",
    "    dprint(f\"fn_num = {fn_num}\")\n",
    "    # Cool so now we should be able to convert it to our md format\n",
    "    new_fn_html = fn_template.format(fn_num=fn_num)\n",
    "    return new_fn_html, fn_href, return_id"
   ]
  },
  {
   "cell_type": "code",
   "execution_count": 274,
   "metadata": {},
   "outputs": [],
   "source": [
    "chid_reg = re.compile(r'ch([0-9]{1,2})')"
   ]
  },
  {
   "cell_type": "code",
   "execution_count": 279,
   "metadata": {},
   "outputs": [],
   "source": [
    "def parse_paragraph(p_elt):\n",
    "    #print(\"---\")\n",
    "    #print(\"parse_paragraph()\")\n",
    "    #print(p_elt)\n",
    "    pconv_buffer = \"\"\n",
    "    fn_info = []\n",
    "    # See if it's a header\n",
    "    p_class = \" \".join(p_elt.attrs['class'])\n",
    "    if \"title\" in p_class:\n",
    "        # Make it markdown header text\n",
    "        pconv_buffer += \"## \"\n",
    "        # And see if we can extract the chapter num as well\n",
    "        ch_num_result = chid_reg.search(str(p_elt))\n",
    "        if ch_num_result is not None:\n",
    "            ch_num = ch_num_result.group(1)\n",
    "            pconv_buffer += f\"{ch_num}. \"\n",
    "    # Now... I'm gonna try to loop over children\n",
    "    for se_num, sub_elt in enumerate(p_elt.children):\n",
    "        #print(f\"sub_elt #{se_num} ({type(sub_elt)}): {sub_elt}\")\n",
    "        # Seems like they're either Tags or NavigableStrings\n",
    "        if type(sub_elt) == bs4.element.Tag:\n",
    "            #print(f\"**tag**: {sub_elt}\")\n",
    "            if sub_elt.name == \"a\":\n",
    "                # A link! Just extract the text\n",
    "                pconv_buffer += sub_elt.text\n",
    "            elif sub_elt.name == \"sup\":\n",
    "                # A footnote!\n",
    "                fn_html, fn_href, return_id = parse_footnote(sub_elt)\n",
    "                pconv_buffer += fn_html\n",
    "                fn_info.append((fn_html, fn_href, return_id))\n",
    "            elif sub_elt.name == \"i\":\n",
    "                # Just italics\n",
    "                pconv_buffer += f\"*{sub_elt.text}*\"\n",
    "            elif sub_elt.name == \"span\":\n",
    "                # This seems to be how it does blockquotes\n",
    "                #print(\"\\n\\nspan?!?\\n\\n\")\n",
    "                #print(sub_elt)\n",
    "                pconv_buffer += f\"> \"\n",
    "            else:\n",
    "                raise Exception(\"Unhandled tag\")\n",
    "        elif type(sub_elt) == bs4.element.NavigableString:\n",
    "            #print(f\"**NS**: {sub_elt}\")\n",
    "            pconv_buffer += str(sub_elt)\n",
    "        else:\n",
    "            raise Exception(\"smth bad happened\")\n",
    "    # The final step: removing all the annoying unicode chars\n",
    "    remove_uc = lambda x: repl_dict[x] if x in repl_dict else x\n",
    "    pconv_buffer = \"\".join([remove_uc(c) for c in pconv_buffer])\n",
    "    #print(\"---\")\n",
    "    return pconv_buffer, fn_info"
   ]
  },
  {
   "cell_type": "code",
   "execution_count": 280,
   "metadata": {},
   "outputs": [],
   "source": [
    "parsed_elts = []\n",
    "for elt_num, cur_ch_elt in enumerate(ch_contents):\n",
    "    #print(f\"=====[Parsing chapter element #{elt_num}]=====\")\n",
    "    cur_tag = cur_ch_elt.name\n",
    "    if cur_tag == \"p\":\n",
    "        # Cool, it's a paragraph. Parse it.\n",
    "        parsed = parse_paragraph(cur_ch_elt)\n",
    "        #print(parsed)\n",
    "        parsed_elts.append(parsed)\n",
    "        #print(f\"=====[end #{elt_num}]=====\")"
   ]
  },
  {
   "cell_type": "code",
   "execution_count": 281,
   "metadata": {},
   "outputs": [],
   "source": [
    "#parsed_elts\n",
    "md_lines = [pe[0] for pe in parsed_elts]\n",
    "md_str = \"\\n\\n\".join(md_lines)"
   ]
  },
  {
   "cell_type": "code",
   "execution_count": 282,
   "metadata": {},
   "outputs": [],
   "source": [
    "with open(\"test_out.md\", \"w\", encoding=\"utf-8\") as g:\n",
    "    g.write(md_str)"
   ]
  },
  {
   "cell_type": "code",
   "execution_count": null,
   "metadata": {},
   "outputs": [],
   "source": []
  },
  {
   "cell_type": "code",
   "execution_count": null,
   "metadata": {},
   "outputs": [],
   "source": []
  }
 ],
 "metadata": {
  "kernelspec": {
   "display_name": "Python 3",
   "language": "python",
   "name": "python3"
  },
  "language_info": {
   "codemirror_mode": {
    "name": "ipython",
    "version": 3
   },
   "file_extension": ".py",
   "mimetype": "text/x-python",
   "name": "python",
   "nbconvert_exporter": "python",
   "pygments_lexer": "ipython3",
   "version": "3.7.3"
  }
 },
 "nbformat": 4,
 "nbformat_minor": 4
}
