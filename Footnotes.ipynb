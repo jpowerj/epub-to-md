{
 "cells": [
  {
   "cell_type": "markdown",
   "metadata": {},
   "source": [
    "The big kahuna: handling footnotes once the epub has been converted to html"
   ]
  },
  {
   "cell_type": "code",
   "execution_count": 2,
   "metadata": {},
   "outputs": [],
   "source": [
    "import re\n",
    "import bs4"
   ]
  },
  {
   "cell_type": "code",
   "execution_count": 3,
   "metadata": {},
   "outputs": [],
   "source": [
    "debug = False\n",
    "dprint = print if debug else lambda *args: None"
   ]
  },
  {
   "cell_type": "code",
   "execution_count": 122,
   "metadata": {},
   "outputs": [],
   "source": [
    "fn_template = '<sup id=\"t{fn_num}\">[{fn_num}](#f{fn_num})</sup>'\n",
    "# Version with numbers, commented out since the numbers are \"built into\" the footnotes in Killing Hope,\n",
    "# i.e. the span contains the numbers along with the actual text\n",
    "#rfn_template = '{fn_num}. <span id=\"f{fn_num}\" name=\"f{fn_num}\">{fn_text}</span> [↩](#t{fn_num})'\n",
    "rfn_template = '<span id=\"f{fn_num}\" name=\"f{fn_num}\">{fn_text}</span> [↩](#t{fn_num})'"
   ]
  },
  {
   "cell_type": "code",
   "execution_count": 5,
   "metadata": {},
   "outputs": [
    {
     "data": {
      "text/plain": [
       "'<sup id=\"t7\">[7](#f7)</sup>'"
      ]
     },
     "execution_count": 5,
     "metadata": {},
     "output_type": "execute_result"
    }
   ],
   "source": [
    "fn_template.format(fn_num=7)"
   ]
  },
  {
   "cell_type": "code",
   "execution_count": 6,
   "metadata": {},
   "outputs": [
    {
     "data": {
      "text/plain": [
       "'11. <span id=\"f11\" name=\"f11\">Cool footnote.</span> [↩](#t11)'"
      ]
     },
     "execution_count": 6,
     "metadata": {},
     "output_type": "execute_result"
    }
   ],
   "source": [
    "rfn_template.format(fn_num=11, fn_text=\"Cool footnote.\")"
   ]
  },
  {
   "cell_type": "code",
   "execution_count": 7,
   "metadata": {},
   "outputs": [],
   "source": [
    "repl_dict = {\n",
    "    '’': \"'\",\n",
    "    '‘': \"'\",\n",
    "    '“': '\"',\n",
    "    '”': '\"',\n",
    "    '—': '--',\n",
    "    '…': '...'\n",
    "}"
   ]
  },
  {
   "cell_type": "code",
   "execution_count": 8,
   "metadata": {},
   "outputs": [],
   "source": [
    "with open(\"killing_hope.html\", \"r\", encoding=\"utf-8\") as f:\n",
    "    html_str = f.read()"
   ]
  },
  {
   "cell_type": "code",
   "execution_count": 9,
   "metadata": {},
   "outputs": [],
   "source": [
    "soup = bs4.BeautifulSoup(html_str, 'html.parser')"
   ]
  },
  {
   "cell_type": "code",
   "execution_count": 10,
   "metadata": {},
   "outputs": [],
   "source": [
    "#soup"
   ]
  },
  {
   "cell_type": "markdown",
   "metadata": {},
   "source": [
    "I guess the first thing to do is split into [front matter], [main text], and [footnotes]"
   ]
  },
  {
   "cell_type": "markdown",
   "metadata": {},
   "source": [
    "Actually... So in the end I want a file for each chapter, where each of these files contains the chapter text and the footnotes, correctly [bidirectionally] linked to one another. So instead here I'm gonna try to get like a list where each element is the html of a chapter"
   ]
  },
  {
   "cell_type": "code",
   "execution_count": 11,
   "metadata": {},
   "outputs": [],
   "source": [
    "toc_elts = soup.find_all(class_=\"toc\")"
   ]
  },
  {
   "cell_type": "code",
   "execution_count": 13,
   "metadata": {},
   "outputs": [],
   "source": [
    "ch_info = []\n",
    "for elt_num, cur_elt in enumerate(toc_elts):\n",
    "    #print(cur_elt)\n",
    "    # Here we can get the id for the link\n",
    "    elt_id = cur_elt['id']\n",
    "    #print(elt_num, elt_id)\n",
    "    # But the main thing is getting the href and the text of the link\n",
    "    children = cur_elt.children\n",
    "    # I think there should only be one child, so this should work\n",
    "    child = next(children)\n",
    "    # Grr. Nope, because sometimes the first child can be an anchor marking a new page\n",
    "    if 'href' not in child.attrs:\n",
    "        child = next(children)\n",
    "    #print(child)\n",
    "    #print(dir(elt_child))\n",
    "    #print(elt_child.attrs)\n",
    "    href = child.attrs['href']\n",
    "    href_elts = href.split(\"#\")\n",
    "    html_file = href_elts[0]\n",
    "    anchor_link = href_elts[1]\n",
    "    # Important: here we also record this anchor_link as \"next_anchor\" for the previous\n",
    "    # chapter's info\n",
    "    if elt_num > 0:\n",
    "        ch_info[elt_num-1]['next_anchor'] = anchor_link\n",
    "    text = child.text\n",
    "    # Replace annoying unicode chars in the text b/c I'm neurotic\n",
    "    repl_unicode = lambda x: repl_dict[x] if x in repl_dict else x\n",
    "    text = \"\".join([repl_unicode(c) for c in text])\n",
    "    # And now get the chapter num if it has one\n",
    "    ch_num = None\n",
    "    ch_title = text\n",
    "    ch_reg_result = ch_reg.search(text)\n",
    "    if ch_reg_result is not None:\n",
    "        # We have a ch_num\n",
    "        ch_num = ch_reg_result.group(1)\n",
    "        # And also update the title so it doesn't contain the ch num redundantly\n",
    "        ch_title = ch_reg_result.group(2)\n",
    "    #print(ch_num, href, text)\n",
    "    ch_info.append({'ch_num':ch_num, 'ch_title': ch_title, 'href':href, 'html_file':html_file, 'anchor_link':anchor_link})"
   ]
  },
  {
   "cell_type": "code",
   "execution_count": 14,
   "metadata": {},
   "outputs": [],
   "source": [
    "#ch_info"
   ]
  },
  {
   "cell_type": "markdown",
   "metadata": {},
   "source": [
    "Cool. So now we have to basically loop over these individual links, parse the html files they link to, handle the footnotes, and export .md files"
   ]
  },
  {
   "cell_type": "code",
   "execution_count": 15,
   "metadata": {},
   "outputs": [
    {
     "data": {
      "text/plain": [
       "{'ch_num': '9',\n",
       " 'ch_title': 'Iran 1953: Making it safe for the King of Kings',\n",
       " 'href': 'part0013.html#ch9',\n",
       " 'html_file': 'part0013.html',\n",
       " 'anchor_link': 'ch9',\n",
       " 'next_anchor': 'ch10'}"
      ]
     },
     "execution_count": 15,
     "metadata": {},
     "output_type": "execute_result"
    }
   ],
   "source": [
    "cur_ch_info = ch_info[10]\n",
    "cur_ch_info"
   ]
  },
  {
   "cell_type": "code",
   "execution_count": 16,
   "metadata": {},
   "outputs": [
    {
     "data": {
      "text/plain": [
       "<p class=\"title1\" id=\"ch9\"><a class=\"calibre1\" href=\"part0002.html#rch9\">9. Iran 1953</a></p>"
      ]
     },
     "execution_count": 16,
     "metadata": {},
     "output_type": "execute_result"
    }
   ],
   "source": [
    "ch_start_elt = soup.find(id='ch9')\n",
    "ch_start_elt"
   ]
  },
  {
   "cell_type": "code",
   "execution_count": 17,
   "metadata": {},
   "outputs": [],
   "source": [
    "# Now I guess we go through siblings until we hit next_anchor?"
   ]
  },
  {
   "cell_type": "code",
   "execution_count": 18,
   "metadata": {},
   "outputs": [],
   "source": [
    "ch_contents = []\n",
    "for cur_ch_elt in ch_start_elt.next_siblings:\n",
    "    try:\n",
    "        cur_id = cur_ch_elt.attrs['id']\n",
    "        if cur_id == 'ch10':\n",
    "            break\n",
    "        ch_contents.append(cur_ch_elt)\n",
    "    except AttributeError as ae:\n",
    "        # It's a NavigableString\n",
    "        if repr(cur_ch_elt) != '\\n':\n",
    "            ch_contents.append(cur_ch_elt)\n",
    "        # (otherwise we can throw it out, it's just a line break)\n",
    "        #print(ae)\n",
    "    except KeyError as ke:\n",
    "        # It's an element without an id\n",
    "        ch_contents.append(cur_ch_elt)\n",
    "        #print(ke)"
   ]
  },
  {
   "cell_type": "code",
   "execution_count": 19,
   "metadata": {},
   "outputs": [],
   "source": [
    "# Annoying but now we can filter out the NavigableStrings that are just linebreaks\n",
    "ch_contents = [c for c in ch_contents if c != '\\n']"
   ]
  },
  {
   "cell_type": "code",
   "execution_count": 20,
   "metadata": {},
   "outputs": [],
   "source": [
    "md_contents = []"
   ]
  },
  {
   "cell_type": "code",
   "execution_count": 21,
   "metadata": {},
   "outputs": [],
   "source": [
    "def parse_footnote(fn_elt):\n",
    "    #print(fn_elt)\n",
    "    fn_children = fn_elt.children\n",
    "    # First child should be the return anchor\n",
    "    return_anchor = next(fn_children)\n",
    "    return_id = return_anchor.attrs['id']\n",
    "    dprint(f\"return_id = {return_id}\")\n",
    "    # And next should be the link to the footnote itself\n",
    "    fn_link = next(fn_children)\n",
    "    fn_href = fn_link.attrs['href']\n",
    "    dprint(f\"fn_href = {fn_href}\")\n",
    "    fn_text = fn_link.text\n",
    "    # But really fn_text should be a number\n",
    "    fn_num = int(fn_text)\n",
    "    dprint(f\"fn_num = {fn_num}\")\n",
    "    # Cool so now we should be able to convert it to our md format\n",
    "    new_fn_html = fn_template.format(fn_num=fn_num)\n",
    "    return new_fn_html, fn_href, return_id"
   ]
  },
  {
   "cell_type": "code",
   "execution_count": 22,
   "metadata": {},
   "outputs": [],
   "source": [
    "chid_reg = re.compile(r'ch([0-9]{1,2})')"
   ]
  },
  {
   "cell_type": "code",
   "execution_count": 23,
   "metadata": {},
   "outputs": [],
   "source": [
    "def parse_paragraph(p_elt):\n",
    "    #print(\"---\")\n",
    "    #print(\"parse_paragraph()\")\n",
    "    #print(p_elt)\n",
    "    pconv_buffer = \"\"\n",
    "    fn_info = []\n",
    "    # See if it's a header\n",
    "    p_class = \" \".join(p_elt.attrs['class'])\n",
    "    if \"title\" in p_class:\n",
    "        # Make it markdown header text\n",
    "        pconv_buffer += \"## \"\n",
    "        # And see if we can extract the chapter num as well\n",
    "        ch_num_result = chid_reg.search(str(p_elt))\n",
    "        if ch_num_result is not None:\n",
    "            ch_num = ch_num_result.group(1)\n",
    "            pconv_buffer += f\"{ch_num}. \"\n",
    "    # Now... I'm gonna try to loop over children\n",
    "    for se_num, sub_elt in enumerate(p_elt.children):\n",
    "        #print(f\"sub_elt #{se_num} ({type(sub_elt)}): {sub_elt}\")\n",
    "        # Seems like they're either Tags or NavigableStrings\n",
    "        if type(sub_elt) == bs4.element.Tag:\n",
    "            #print(f\"**tag**: {sub_elt}\")\n",
    "            if sub_elt.name == \"a\":\n",
    "                # A link! Just extract the text\n",
    "                pconv_buffer += sub_elt.text\n",
    "            elif sub_elt.name == \"sup\":\n",
    "                # A footnote!\n",
    "                fn_html, fn_href, return_id = parse_footnote(sub_elt)\n",
    "                pconv_buffer += fn_html\n",
    "                fn_info.append((fn_html, fn_href, return_id))\n",
    "            elif sub_elt.name == \"i\":\n",
    "                # Just italics\n",
    "                pconv_buffer += f\"*{sub_elt.text}*\"\n",
    "            elif sub_elt.name == \"span\":\n",
    "                # This seems to be how it does blockquotes\n",
    "                #print(\"\\n\\nspan?!?\\n\\n\")\n",
    "                #print(sub_elt)\n",
    "                pconv_buffer += f\"> \"\n",
    "            else:\n",
    "                raise Exception(\"Unhandled tag\")\n",
    "        elif type(sub_elt) == bs4.element.NavigableString:\n",
    "            #print(f\"**NS**: {sub_elt}\")\n",
    "            pconv_buffer += str(sub_elt)\n",
    "        else:\n",
    "            raise Exception(\"smth bad happened\")\n",
    "    # The final step: removing all the annoying unicode chars\n",
    "    remove_uc = lambda x: repl_dict[x] if x in repl_dict else x\n",
    "    pconv_buffer = \"\".join([remove_uc(c) for c in pconv_buffer])\n",
    "    #print(\"---\")\n",
    "    return pconv_buffer, fn_info"
   ]
  },
  {
   "cell_type": "code",
   "execution_count": 24,
   "metadata": {},
   "outputs": [],
   "source": [
    "parsed_elts = []\n",
    "for elt_num, cur_ch_elt in enumerate(ch_contents):\n",
    "    #print(f\"=====[Parsing chapter element #{elt_num}]=====\")\n",
    "    cur_tag = cur_ch_elt.name\n",
    "    if cur_tag == \"p\":\n",
    "        # Cool, it's a paragraph. Parse it.\n",
    "        parsed = parse_paragraph(cur_ch_elt)\n",
    "        #print(parsed)\n",
    "        parsed_elts.append(parsed)\n",
    "        #print(f\"=====[end #{elt_num}]=====\")"
   ]
  },
  {
   "cell_type": "code",
   "execution_count": 25,
   "metadata": {},
   "outputs": [],
   "source": [
    "#parsed_elts\n",
    "md_lines = [pe[0] for pe in parsed_elts]\n",
    "md_str = \"\\n\\n\".join(md_lines)"
   ]
  },
  {
   "cell_type": "code",
   "execution_count": 26,
   "metadata": {},
   "outputs": [],
   "source": [
    "with open(\"test_out.md\", \"w\", encoding=\"utf-8\") as g:\n",
    "    g.write(md_str)"
   ]
  },
  {
   "cell_type": "markdown",
   "metadata": {},
   "source": [
    "Cool so then I guess step 2 is going and extracting all the footnotes from the very end of the book, and appending them instead to the corresponding chapters"
   ]
  },
  {
   "cell_type": "code",
   "execution_count": 28,
   "metadata": {},
   "outputs": [],
   "source": [
    "# First let's get all the footnote tuples for the ch into one big list\n",
    "all_footnotes = []\n",
    "for cur_elt in parsed_elts:\n",
    "    footnote_list = cur_elt[1]\n",
    "    if len(footnote_list) > 0:\n",
    "        all_footnotes.extend(footnote_list)"
   ]
  },
  {
   "cell_type": "code",
   "execution_count": 30,
   "metadata": {},
   "outputs": [
    {
     "data": {
      "text/plain": [
       "[('<sup id=\"t1\">[1](#f1)</sup>', 'part0061_split_000.html#rfn1ch9', 'fn1ch9'),\n",
       " ('<sup id=\"t2\">[2](#f2)</sup>', 'part0061_split_000.html#rfn2ch9', 'fn2ch9'),\n",
       " ('<sup id=\"t3\">[3](#f3)</sup>', 'part0061_split_000.html#rfn3ch9', 'fn3ch9'),\n",
       " ('<sup id=\"t4\">[4](#f4)</sup>', 'part0061_split_000.html#rfn4ch9', 'fn4ch9'),\n",
       " ('<sup id=\"t5\">[5](#f5)</sup>', 'part0061_split_000.html#rfn5ch9', 'fn5ch9')]"
      ]
     },
     "execution_count": 30,
     "metadata": {},
     "output_type": "execute_result"
    }
   ],
   "source": [
    "all_footnotes[:5]"
   ]
  },
  {
   "cell_type": "code",
   "execution_count": 48,
   "metadata": {},
   "outputs": [],
   "source": [
    "fn_anchors = [fn_info[1].split(\"#\")[1] for fn_info in all_footnotes]"
   ]
  },
  {
   "cell_type": "code",
   "execution_count": 68,
   "metadata": {},
   "outputs": [
    {
     "data": {
      "text/plain": [
       "'rfn9ch9'"
      ]
     },
     "execution_count": 68,
     "metadata": {},
     "output_type": "execute_result"
    }
   ],
   "source": [
    "soup.find(id=fn_anchors[7]).next_sibling.next_sibling.next_sibling.next_sibling.next_sibling.next_sibling.next_sibling.next_sibling.next_sibling.next_sibling.attrs['id']"
   ]
  },
  {
   "cell_type": "code",
   "execution_count": 111,
   "metadata": {},
   "outputs": [],
   "source": [
    "def extract_footnote(fn_anchor, next_anchor):\n",
    "    \"\"\"\n",
    "    Can pass in next_anchor=None in which case we revert to the sketchier heuristic of just\n",
    "    scanning until we find another tag with an id\n",
    "    \"\"\"\n",
    "    full_fn = []\n",
    "    fn_pointer = soup.find(id=fn_anchor)\n",
    "    while fn_pointer is not None:\n",
    "        # If it's a Tag we need to use .text, otherwise it's a NavigableString and we can just convert it to str\n",
    "        elt_text = fn_pointer.text if type(fn_pointer) == bs4.element.Tag else str(fn_pointer)\n",
    "        full_fn.append(elt_text)\n",
    "        fn_pointer = fn_pointer.next_sibling\n",
    "        # If next_anchor is None, we don't care about what the id is\n",
    "        if next_anchor is None:\n",
    "            at_next_fn = (type(fn_pointer) == bs4.element.Tag) and (('id' in fn_pointer.attrs) or (fn_pointer.name == \"p\"))\n",
    "        else:\n",
    "            # We want the id to specifically be next_anchor\n",
    "            at_next_fn = (type(fn_pointer) == bs4.element.Tag) and ('id' in fn_pointer.attrs) and (fn_pointer.attrs['id'] == next_anchor)\n",
    "        if at_next_fn:\n",
    "            break\n",
    "    # This is slightly better than a basic .replace() since it \"collapses\" all repeated\n",
    "    # non-breaking spaces down to a single space\n",
    "    nbspace_reg = re.compile(r'(\\xa0)+')\n",
    "    #\"\".join([fn_line.replace(\"\\xa0\",\" \") for fn_line in full_fn7])\n",
    "    fn_str = \"\".join([nbspace_reg.sub(\" \", fn_line) for fn_line in full_fn])\n",
    "    fn_str = fn_str.strip()\n",
    "    return fn_str"
   ]
  },
  {
   "cell_type": "code",
   "execution_count": 120,
   "metadata": {},
   "outputs": [],
   "source": [
    "#len(fn_anchors)"
   ]
  },
  {
   "cell_type": "code",
   "execution_count": 121,
   "metadata": {},
   "outputs": [],
   "source": [
    "#extract_footnote(fn_anchors[47], None)"
   ]
  },
  {
   "cell_type": "code",
   "execution_count": 115,
   "metadata": {},
   "outputs": [],
   "source": [
    "# Now we just find those anchors (#rfn1ch9, #rfn2ch9, ...) and extract their contents\n",
    "all_fn_contents = []\n",
    "for i in range(len(fn_anchors)):\n",
    "    cur_anchor = fn_anchors[i]\n",
    "    next_anchor = fn_anchors[i+1] if i+1 < len(fn_anchors) else None\n",
    "    fn_contents = extract_footnote(cur_anchor, next_anchor)\n",
    "    all_fn_contents.append((cur_anchor, fn_contents))\n",
    "#results = [(fn_anchor, extract_footnote(fn_anchor)) for fn_anchor in fn_anchors]"
   ]
  },
  {
   "cell_type": "code",
   "execution_count": 117,
   "metadata": {},
   "outputs": [
    {
     "data": {
      "text/plain": [
       "[('rfn1ch9', '1. Roosevelt, p. 8.'),\n",
       " ('rfn2ch9', '2. Ibid., pp. 18-19.'),\n",
       " ('rfn3ch9',\n",
       "  '3. Anthony Eden, The Memoirs of the Right Honourable Sir Anthony Eden: Full Circle (London, 1960) p. 194.'),\n",
       " ('rfn4ch9',\n",
       "  '4. Dean Acheson, Present at the Creation: My Years in the State Department (New York, 1969) pp. 679-85; Eden, pp. 201-2: Nirumand, pp. 73-4.'),\n",
       " ('rfn5ch9', '5. Roosevelt, p. 107.')]"
      ]
     },
     "execution_count": 117,
     "metadata": {},
     "output_type": "execute_result"
    }
   ],
   "source": [
    "all_fn_contents[:5]"
   ]
  },
  {
   "cell_type": "code",
   "execution_count": 118,
   "metadata": {},
   "outputs": [],
   "source": [
    "# Debugging stuff\n",
    "#str(soup).index(\"fn1ch9\")\n",
    "#str(soup)[279600:279740]"
   ]
  },
  {
   "cell_type": "markdown",
   "metadata": {},
   "source": [
    "Awesome. Now we format these extracted footnotes using the footnote template from very beginning of the notebook, and then append them to the end of the chapter doc"
   ]
  },
  {
   "cell_type": "code",
   "execution_count": 126,
   "metadata": {},
   "outputs": [],
   "source": [
    "html_fns = []\n",
    "for iter_num, cur_fn_contents in enumerate(all_fn_contents):\n",
    "    # Footnotes start counting from 1, not 0\n",
    "    fn_num = iter_num + 1\n",
    "    fn_text = cur_fn_contents[1]\n",
    "    fn_html = rfn_template.format(fn_num=fn_num, fn_text=fn_text)\n",
    "    html_fns.append(fn_html)"
   ]
  },
  {
   "cell_type": "code",
   "execution_count": 129,
   "metadata": {},
   "outputs": [],
   "source": [
    "# Two linebreaks b/c Markdown doesn't make new paragraphs for single linebreaks\n",
    "all_fns_str = \"\\n\\n\".join(html_fns)"
   ]
  },
  {
   "cell_type": "code",
   "execution_count": 130,
   "metadata": {},
   "outputs": [],
   "source": [
    "with open(\"test_fn_out.md\", \"w\", encoding=\"utf-8\") as g:\n",
    "    g.write(all_fns_str)"
   ]
  },
  {
   "cell_type": "markdown",
   "metadata": {},
   "source": [
    "Final step (?!?): combine the chapter output with the footnotes output"
   ]
  },
  {
   "cell_type": "code",
   "execution_count": 133,
   "metadata": {},
   "outputs": [],
   "source": [
    "with open(\"test_out.md\", \"r\", encoding=\"utf-8\") as f:\n",
    "    ch_contents = f.read()\n",
    "with open(\"test_fn_out.md\", \"r\", encoding=\"utf-8\") as g:\n",
    "    ch_footnotes = g.read()\n",
    "ch_full = ch_contents + \"\\n\\n# Footnotes\\n\\n\" + ch_footnotes"
   ]
  },
  {
   "cell_type": "code",
   "execution_count": 135,
   "metadata": {},
   "outputs": [
    {
     "data": {
      "text/plain": [
       "'## 9. Making it safe for the King of Kings\\n\\n\"So this is how we get rid of that madman Mossadegh,\" announced John Foster Dulles to a group of top Washington policy makers one day in June 1953.<sup id=\"t1\">[1](#f1)</sup> The Secretary of State held in his hand a plan of operation to overthrow the prime minister of Iran prepared by Kermit (Kim) Roosevelt of the CIA. There was scarcely any discussion amongst the high-powered men in the room, no probing questions, no legal or ethical issues raised.\\n\\n'"
      ]
     },
     "execution_count": 135,
     "metadata": {},
     "output_type": "execute_result"
    }
   ],
   "source": [
    "ch_full[:500]"
   ]
  },
  {
   "cell_type": "code",
   "execution_count": 136,
   "metadata": {},
   "outputs": [],
   "source": [
    "with open(\"test_full_out.md\", \"w\", encoding=\"utf-8\") as f:\n",
    "    f.write(ch_full)"
   ]
  },
  {
   "cell_type": "code",
   "execution_count": null,
   "metadata": {},
   "outputs": [],
   "source": []
  }
 ],
 "metadata": {
  "kernelspec": {
   "display_name": "Python 3",
   "language": "python",
   "name": "python3"
  },
  "language_info": {
   "codemirror_mode": {
    "name": "ipython",
    "version": 3
   },
   "file_extension": ".py",
   "mimetype": "text/x-python",
   "name": "python",
   "nbconvert_exporter": "python",
   "pygments_lexer": "ipython3",
   "version": "3.7.3"
  }
 },
 "nbformat": 4,
 "nbformat_minor": 4
}
