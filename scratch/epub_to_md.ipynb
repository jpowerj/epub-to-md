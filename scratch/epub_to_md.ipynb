{
 "cells": [
  {
   "cell_type": "code",
   "execution_count": 89,
   "metadata": {
    "Collapsed": "false"
   },
   "outputs": [
    {
     "name": "stdout",
     "output_type": "stream",
     "text": [
      "***** images/00005.jpeg *****\n",
      "cover\n",
      "***** images/00001.jpeg *****\n",
      "id6\n",
      "***** images/00002.jpeg *****\n",
      "id4\n",
      "***** images/00003.jpeg *****\n",
      "id3\n",
      "***** images/00004.jpeg *****\n",
      "id5\n",
      "***** page_styles.css *****\n",
      "page_css\n",
      "***** stylesheet.css *****\n",
      "css\n",
      "***** text/part0000.html *****\n",
      "id37\n",
      "***** text/part0001.html *****\n",
      "id18\n",
      "***** text/part0002.html *****\n",
      "id41\n",
      "***** text/part0003.html *****\n",
      "id16\n",
      "***** text/part0004.html *****\n",
      "id48\n",
      "***** text/part0005.html *****\n",
      "id73\n",
      "***** text/part0006.html *****\n",
      "id55\n",
      "***** text/part0007.html *****\n",
      "id34\n",
      "***** text/part0008.html *****\n",
      "id51\n",
      "***** text/part0009.html *****\n",
      "id59\n",
      "***** text/part0010.html *****\n",
      "id38\n",
      "***** text/part0011.html *****\n",
      "id52\n",
      "***** text/part0012.html *****\n",
      "id42\n",
      "***** text/part0013.html *****\n",
      "id29\n",
      "***** text/part0014.html *****\n",
      "id22\n",
      "***** text/part0015.html *****\n",
      "id13\n",
      "***** text/part0016.html *****\n",
      "id36\n",
      "***** text/part0017.html *****\n",
      "id26\n",
      "***** text/part0018.html *****\n",
      "id63\n",
      "***** text/part0019.html *****\n",
      "id9\n",
      "***** text/part0020.html *****\n",
      "id20\n",
      "***** text/part0021.html *****\n",
      "id75\n",
      "***** text/part0022.html *****\n",
      "id30\n",
      "***** text/part0023.html *****\n",
      "id27\n",
      "***** text/part0024.html *****\n",
      "id15\n",
      "***** text/part0025.html *****\n",
      "id45\n",
      "***** text/part0026.html *****\n",
      "id32\n",
      "***** text/part0027.html *****\n",
      "id24\n",
      "***** text/part0028.html *****\n",
      "id70\n",
      "***** text/part0029.html *****\n",
      "id69\n",
      "***** text/part0030.html *****\n",
      "id62\n",
      "***** text/part0031.html *****\n",
      "id53\n",
      "***** text/part0032.html *****\n",
      "id44\n",
      "***** text/part0033.html *****\n",
      "id14\n",
      "***** text/part0034.html *****\n",
      "id50\n",
      "***** text/part0035.html *****\n",
      "id60\n",
      "***** text/part0036.html *****\n",
      "id49\n",
      "***** text/part0037.html *****\n",
      "id21\n",
      "***** text/part0038.html *****\n",
      "id72\n",
      "***** text/part0039.html *****\n",
      "id65\n",
      "***** text/part0040.html *****\n",
      "id8\n",
      "***** text/part0041.html *****\n",
      "id17\n",
      "***** text/part0042.html *****\n",
      "id10\n",
      "***** text/part0043.html *****\n",
      "id28\n",
      "***** text/part0044.html *****\n",
      "id19\n",
      "***** text/part0045.html *****\n",
      "id43\n",
      "***** text/part0046.html *****\n",
      "id74\n",
      "***** text/part0047.html *****\n",
      "id77\n",
      "***** text/part0048.html *****\n",
      "id57\n",
      "***** text/part0049.html *****\n",
      "id12\n",
      "***** text/part0050.html *****\n",
      "id61\n",
      "***** text/part0051.html *****\n",
      "id25\n",
      "***** text/part0052.html *****\n",
      "id76\n",
      "***** text/part0053.html *****\n",
      "id39\n",
      "***** text/part0054.html *****\n",
      "id33\n",
      "***** text/part0055.html *****\n",
      "id58\n",
      "***** text/part0056.html *****\n",
      "id67\n",
      "***** text/part0057.html *****\n",
      "id31\n",
      "***** text/part0058.html *****\n",
      "id40\n",
      "***** text/part0059.html *****\n",
      "id64\n",
      "***** text/part0060.html *****\n",
      "id35\n",
      "***** text/part0061_split_000.html *****\n",
      "id232\n",
      "***** text/part0061_split_001.html *****\n",
      "id231\n",
      "***** text/part0062.html *****\n",
      "id68\n",
      "***** text/part0063.html *****\n",
      "id11\n",
      "***** text/part0064.html *****\n",
      "id66\n",
      "***** text/part0065.html *****\n",
      "id56\n",
      "***** text/part0066.html *****\n",
      "id47\n",
      "***** text/part0067.html *****\n",
      "id54\n",
      "***** text/part0068.html *****\n",
      "id71\n",
      "***** text/part0069.html *****\n",
      "id7\n",
      "***** text/part0070.html *****\n",
      "id46\n",
      "***** titlepage.xhtml *****\n",
      "titlepage\n",
      "\n",
      "        <div>\n",
      "            <svg xmlns=\"http://www.w3.org/2000/svg\" xmlns:xlink=\"http://www.w3.org/1999/xlink\" version=\"1.1\" width=\"100%\" height=\"100%\" viewbox=\"0 0 750 1154\" preserveaspectratio=\"none\">\n",
      "                <image width=\"750\" height=\"1154\" xlink:href=\"images/00005.jpeg\"/>\n",
      "            </svg>\n",
      "        </div>\n",
      "    \n",
      "***** toc.ncx *****\n",
      "ncx\n",
      "<?xml version='1.0' encoding='utf-8'?>\n",
      "<!DOCTYPE html>\n",
      "<html xmlns=\"http://www.w3.org/1999/xhtml\" xmlns:epub=\"http://www.idpf.org/2007/ops\" epub:prefix=\"z3998: http://www.daisy.org/z3998/2012/vocab/structure/#\" lang=\"en\" xml:lang=\"en\">\n",
      "  <head/>\n",
      "  <body><div>\n",
      "            <svg xmlns=\"http://www.w3.org/2000/svg\" xmlns:xlink=\"http://www.w3.org/1999/xlink\" version=\"1.1\" width=\"100%\" height=\"100%\" viewbox=\"0 0 750 1154\" preserveaspectratio=\"none\">\n",
      "                <image width=\"750\" height=\"1154\" xlink:href=\"images/00005.jpeg\"/>\n",
      "            </svg>\n",
      "        </div>\n",
      "    </body>\n",
      "</html>\n",
      "\n"
     ]
    }
   ],
   "source": [
    "import re\n",
    "import ebooklib\n",
    "\n",
    "book = ebooklib.epub.read_epub('killing_hope.epub')\n",
    "\n",
    "encoding_reg = re.compile(r'encoding=\\'(.+)\\'')\n",
    "all_html = \"\"\n",
    "for inum, item in enumerate(book.get_items()):\n",
    "    section_name = item.get_name()\n",
    "    print(f\"***** {section_name} *****\")\n",
    "    print(item.id)\n",
    "    if \"titlepage\" in section_name:\n",
    "        print(section.get_body_content().decode('utf-8'))\n",
    "    if \"toc\" in section_name:\n",
    "        print(section.get_content().decode('utf-8'))\n",
    "    #section_html = section.get_body_content().decode('utf-8')\n",
    "    #parsed_html = ebooklib.utils.parse_html_string(section_html)\n",
    "    #all_html += section_html"
   ]
  },
  {
   "cell_type": "code",
   "execution_count": 67,
   "metadata": {
    "Collapsed": "false"
   },
   "outputs": [
    {
     "data": {
      "text/plain": [
       "'EPUB'"
      ]
     },
     "execution_count": 67,
     "metadata": {},
     "output_type": "execute_result"
    }
   ],
   "source": [
    "book.FOLDER_NAME"
   ]
  },
  {
   "cell_type": "code",
   "execution_count": 68,
   "metadata": {
    "Collapsed": "false"
   },
   "outputs": [
    {
     "data": {
      "text/plain": [
       "'uuid_id'"
      ]
     },
     "execution_count": 68,
     "metadata": {},
     "output_type": "execute_result"
    }
   ],
   "source": [
    "book.IDENTIFIER_ID"
   ]
  },
  {
   "cell_type": "code",
   "execution_count": 69,
   "metadata": {
    "Collapsed": "false"
   },
   "outputs": [
    {
     "data": {
      "text/plain": [
       "'Killing Hope: U.S. and C.I.A. Interventions Since World War II'"
      ]
     },
     "execution_count": 69,
     "metadata": {},
     "output_type": "execute_result"
    }
   ],
   "source": [
    "book.title"
   ]
  },
  {
   "cell_type": "code",
   "execution_count": 74,
   "metadata": {
    "Collapsed": "false"
   },
   "outputs": [
    {
     "data": {
      "text/plain": [
       "'text/part0000.html'"
      ]
     },
     "execution_count": 74,
     "metadata": {},
     "output_type": "execute_result"
    }
   ],
   "source": [
    "book.toc[0].href"
   ]
  },
  {
   "cell_type": "code",
   "execution_count": 75,
   "metadata": {
    "Collapsed": "false"
   },
   "outputs": [
    {
     "data": {
      "text/plain": [
       "'text/part0001.html'"
      ]
     },
     "execution_count": 75,
     "metadata": {},
     "output_type": "execute_result"
    }
   ],
   "source": [
    "book.toc[1].href"
   ]
  },
  {
   "cell_type": "code",
   "execution_count": 77,
   "metadata": {
    "Collapsed": "false"
   },
   "outputs": [
    {
     "data": {
      "text/plain": [
       "('text/part0068.html', 'num_67')"
      ]
     },
     "execution_count": 77,
     "metadata": {},
     "output_type": "execute_result"
    }
   ],
   "source": [
    "book.toc[-1].href, book.toc[-1].uid"
   ]
  },
  {
   "cell_type": "code",
   "execution_count": 83,
   "metadata": {
    "Collapsed": "false"
   },
   "outputs": [
    {
     "name": "stdout",
     "output_type": "stream",
     "text": [
      "cover\n",
      "id6\n",
      "id4\n",
      "id3\n",
      "id5\n",
      "page_css\n",
      "css\n",
      "id37\n",
      "id18\n",
      "id41\n",
      "id16\n",
      "id48\n",
      "id73\n",
      "id55\n",
      "id34\n",
      "id51\n",
      "id59\n",
      "id38\n",
      "id52\n",
      "id42\n",
      "id29\n",
      "id22\n",
      "id13\n",
      "id36\n",
      "id26\n",
      "id63\n",
      "id9\n",
      "id20\n",
      "id75\n",
      "id30\n",
      "id27\n",
      "id15\n",
      "id45\n",
      "id32\n",
      "id24\n",
      "id70\n",
      "id69\n",
      "id62\n",
      "id53\n",
      "id44\n",
      "id14\n",
      "id50\n",
      "id60\n",
      "id49\n",
      "id21\n",
      "id72\n",
      "id65\n",
      "id8\n",
      "id17\n",
      "id10\n",
      "id28\n",
      "id19\n",
      "id43\n",
      "id74\n",
      "id77\n",
      "id57\n",
      "id12\n",
      "id61\n",
      "id25\n",
      "id76\n",
      "id39\n",
      "id33\n",
      "id58\n",
      "id67\n",
      "id31\n",
      "id40\n",
      "id64\n",
      "id35\n",
      "id232\n",
      "id231\n",
      "id68\n",
      "id11\n",
      "id66\n",
      "id56\n",
      "id47\n",
      "id54\n",
      "id71\n",
      "id7\n",
      "id46\n",
      "titlepage\n",
      "ncx\n"
     ]
    }
   ],
   "source": [
    "for cur_item in book.get_items():\n",
    "    print(cur_item.id)"
   ]
  },
  {
   "cell_type": "code",
   "execution_count": 73,
   "metadata": {
    "Collapsed": "false"
   },
   "outputs": [
    {
     "ename": "AttributeError",
     "evalue": "'Link' object has no attribute 'get_content'",
     "output_type": "error",
     "traceback": [
      "\u001b[1;31m---------------------------------------------------------------------------\u001b[0m",
      "\u001b[1;31mAttributeError\u001b[0m                            Traceback (most recent call last)",
      "\u001b[1;32m<ipython-input-73-14c489bc0f6e>\u001b[0m in \u001b[0;36m<module>\u001b[1;34m\u001b[0m\n\u001b[1;32m----> 1\u001b[1;33m \u001b[0mbook\u001b[0m\u001b[1;33m.\u001b[0m\u001b[0mtoc\u001b[0m\u001b[1;33m[\u001b[0m\u001b[1;36m0\u001b[0m\u001b[1;33m]\u001b[0m\u001b[1;33m.\u001b[0m\u001b[0mget_content\u001b[0m\u001b[1;33m(\u001b[0m\u001b[1;33m)\u001b[0m\u001b[1;33m\u001b[0m\u001b[1;33m\u001b[0m\u001b[0m\n\u001b[0m",
      "\u001b[1;31mAttributeError\u001b[0m: 'Link' object has no attribute 'get_content'"
     ]
    }
   ],
   "source": [
    "book.toc[0].get_content()"
   ]
  },
  {
   "cell_type": "code",
   "execution_count": 65,
   "metadata": {
    "Collapsed": "false"
   },
   "outputs": [
    {
     "data": {
      "text/plain": [
       "['EPUB_VERSION',\n",
       " 'FOLDER_NAME',\n",
       " 'IDENTIFIER_ID',\n",
       " '__class__',\n",
       " '__delattr__',\n",
       " '__dict__',\n",
       " '__dir__',\n",
       " '__doc__',\n",
       " '__eq__',\n",
       " '__format__',\n",
       " '__ge__',\n",
       " '__getattribute__',\n",
       " '__gt__',\n",
       " '__hash__',\n",
       " '__init__',\n",
       " '__init_subclass__',\n",
       " '__le__',\n",
       " '__lt__',\n",
       " '__module__',\n",
       " '__ne__',\n",
       " '__new__',\n",
       " '__reduce__',\n",
       " '__reduce_ex__',\n",
       " '__repr__',\n",
       " '__setattr__',\n",
       " '__sizeof__',\n",
       " '__str__',\n",
       " '__subclasshook__',\n",
       " '__weakref__',\n",
       " '_id_html',\n",
       " '_id_image',\n",
       " '_id_static',\n",
       " 'add_author',\n",
       " 'add_item',\n",
       " 'add_metadata',\n",
       " 'add_prefix',\n",
       " 'bindings',\n",
       " 'direction',\n",
       " 'get_item_with_href',\n",
       " 'get_item_with_id',\n",
       " 'get_items',\n",
       " 'get_items_of_media_type',\n",
       " 'get_items_of_type',\n",
       " 'get_metadata',\n",
       " 'get_template',\n",
       " 'guide',\n",
       " 'items',\n",
       " 'language',\n",
       " 'metadata',\n",
       " 'namespaces',\n",
       " 'pages',\n",
       " 'prefixes',\n",
       " 'reset',\n",
       " 'set_cover',\n",
       " 'set_direction',\n",
       " 'set_identifier',\n",
       " 'set_language',\n",
       " 'set_template',\n",
       " 'set_title',\n",
       " 'set_unique_metadata',\n",
       " 'spine',\n",
       " 'templates',\n",
       " 'title',\n",
       " 'toc',\n",
       " 'uid',\n",
       " 'version']"
      ]
     },
     "execution_count": 65,
     "metadata": {},
     "output_type": "execute_result"
    }
   ],
   "source": [
    "dir(book)"
   ]
  },
  {
   "cell_type": "code",
   "execution_count": null,
   "metadata": {
    "Collapsed": "false"
   },
   "outputs": [],
   "source": []
  },
  {
   "cell_type": "code",
   "execution_count": null,
   "metadata": {
    "Collapsed": "false"
   },
   "outputs": [],
   "source": []
  },
  {
   "cell_type": "code",
   "execution_count": 60,
   "metadata": {
    "Collapsed": "false"
   },
   "outputs": [],
   "source": [
    "book.get_item_with_id(\"titlepage.xhtml\")\n",
    "book.get_item_with_id(\"text/part0070.html\")"
   ]
  },
  {
   "cell_type": "code",
   "execution_count": 56,
   "metadata": {
    "Collapsed": "false"
   },
   "outputs": [
    {
     "name": "stdout",
     "output_type": "stream",
     "text": [
      "None\n",
      "None\n",
      "“Those who do not believe in the ideology of the United States, shall not be allowed to stay in the United States,” declared the American Attorney General, Tom Clark, in January 1948.\n",
      "In March, the Justice Department, over which Clark presided, determined that Italians who did not believe in the ideology of the United States would not be allowed to emigrate to, or even enter, the United States.\n",
      "This was but one tactic in a remarkable American campaign to ensure that Italians who did not believe in the ideology of the United States would not be allowed to form a government \n",
      "Two years earlier, the Italian Communist Party (PCI), one of the largest in the world, and the Socialist Party (PSI) had together garnered more votes and more seats in the Constituent Assembly election than the Christian Democrats. But the two parties of the left had run separate candidates and thus had to be content with some ministerial posts in a coalition cabinet under a Christian Democrat premier. The results, nonetheless, spoke plainly enough to put the fear of Marx into the Truman administration.\n",
      "For the 1948 election, scheduled for 18 April, the PCI and PSI united to form the Popular Democratic Front (FDP) and in February won municipal elections in Pescara with a 10 percent increase in their vote over 1946. The Christian Democrats ran a poor second. The prospect of the left winning control of the Italian government loomed larger than ever before. It was at this point that the US began to train its big economic and political guns upon the Italian people. All the good ol’ Yankee know-how, all the Madison Avenue savvy in the art of swaying public opinion, all the Hollywood razzmatazz would be brought to bear on the “target market”.\n",
      "Pressing domestic needs in Italy, such as agricultural and economic reform, the absence of which produced abysmal extremes of wealth and poverty, were not to be the issues of the day. The lines of battle would be drawn around the question of “democracy” vs. “communism” (the idea of “capitalism” remaining discreetly to one side). The fact that the Communists had been the single most active anti-fascist group in Italy during the war, undergoing ruthless persecution, while the Christian Democrat government of 1948 and other electoral opponents on the right were riddled through with collaborators, monarchists and plain unreconstructed fascists … this too would be ignored; indeed, turned around. It was now a matter of Communist “dictatorship” vs. their adversaries’ love of “freedom”: this was presumed \n",
      "To make any of this at all credible, the whole picture had to be pushed and squeezed into the frame of The American Way of Life vs. The Soviet Way of Life, a specious proposition which must have come as somewhat of a shock to leftists who regarded themselves as Italian and neither Russian nor American.\n",
      "In February 1948, after non-Communist ministers in Czechoslovakia had boycotted cabinet meetings over a dispute concerning police hiring practices, the Communist government dissolved the coalition cabinet and took sole power. The Voice of America pointed to this event repeatedly, as a warning to the Italian people of the fate awaiting them if Italy “went Communist” (and used as well by anti-communists for decades afterward as a prime example of communist duplicity). Yet, by all appearances, the Italian Christian Democrat government and the American government had conspired the previous year in an even more blatant usurpation of power.\n",
      "In January 1947, when Italian Premier Alcide de Gasperi visited Washington at the United States’ invitation, his overriding concern was to plead for crucial financial assistance for his war-torn, impoverished country. American officials may have had a different priority. Three days after returning to Italy, de Gasperi unexpectedly dissolved his cabinet, which included several Communists and Socialists. The press reported that many people in Italy believed that de Gasperi’s action was related to his visit to the United States and was aimed at decreasing leftist, principally Communist, influence in the government. After two weeks of tortuous delay, the formation of a center or center-right government sought by de \n",
      "From this point until May, when de Gasperi’s deputy, Ivan Lombardo, led a mission to Washington to renew the request for aid, promised loans were “frozen” by the United States for reasons not very clear. On several occasions during this period the Italian left asserted their belief that the aid was being held up pending the ouster of leftists from the cabinet. The \n",
      "At the very same time, France, which was also heavily dependent upon American financial aid, ousted all its Communist ministers as well. In this case there was an immediate rationale: the refusal of the Communist ministers to support Premier Ramadier in a vote of confidence over a wage freeze. Despite this, the ouster was regarded as a “surprise” and considered “bold” in France, and opinion was widespread that American loans were being used, or would be used, to force France to align with the US. Said Ramadier: “A little of our independence is departing from us with each loan we obtain.”\n",
      "As the last month of the 1948 election campaign began, \n",
      "“It was primarily this fear,” William Colby, former Director of the CIA, has written, “that had led to the formation of the Office of Policy Coordination, which gave the CIA the capability to undertake covert political, propaganda, and paramilitary operations in the first place.”\n",
      "•\n",
      "None\n",
      "None\n",
      "None\n",
      "None\n",
      "•\n",
      "•\n",
      "•\n",
      "•\n",
      "None\n",
      "•\n",
      "•\n",
      "•\n",
      "•\n",
      "•\n",
      "•\n",
      "•\n",
      "•\n",
      "•\n",
      "•\n",
      "•\n",
      "•\n",
      "•\n",
      "•\n",
      "•\n",
      "•\n",
      "•\n",
      "•\n",
      "None\n",
      "•\n",
      "•\n",
      "•\n",
      "In his historic speech of 12 March 1947, which came to be known as “The Truman Doctrine”, the president had proclaimed:\n",
      "None\n",
      "It scarcely needs to be emphasized how hypocritical this promise proved to be, but the voices which spoke out in the United States against their government’s crusade in Italy were few and barely audible above the roar. The Italian-American Committee for Free Elections in Italy held a rally to denounce the propaganda blitz, declaring that “Thousands of Americans of Italian origin feel deeply humiliated by the continuous flow of suggestions, advice and pressure put on the Italians, as though they were unable to decide for themselves whom to elect.”\n",
      "The Progressive Party also went on record, stating: “As Americans we repudiate our Government’s threat to cut off food from Italy unless the election results please us. Hungry children must not go unfed because their parents do not vote as ordered from abroad.”\n",
      "Though some Italians must have been convinced at times that Stalin himself was the FDP’s principal candidate, the actual Soviet intervention in the election hardly merited a single headline. The American press engaged in speculation that the Russians were pouring substantial sums of money into the Communist Party’s coffers. However, a survey carried out by the Italian bureau of the United Press revealed that the anti-Communist parties spent 7 1/2 times as much as the FDP on all forms of propaganda, the Christian Democrats alone spending four times as much.\n",
      "None\n",
      "None\n",
      "The evidence Smith was alluding to was the Soviet rejection of the Trieste proposal. By its timing, reported the \n",
      "None\n"
     ]
    }
   ],
   "source": [
    "for cur_thing in parsed_html.body:\n",
    "    print(cur_thing.text)"
   ]
  },
  {
   "cell_type": "code",
   "execution_count": 54,
   "metadata": {
    "Collapsed": "false"
   },
   "outputs": [
    {
     "data": {
      "text/plain": [
       "<Element body at 0x1f5f147f048>"
      ]
     },
     "execution_count": 54,
     "metadata": {},
     "output_type": "execute_result"
    }
   ],
   "source": [
    "parsed_html.body"
   ]
  },
  {
   "cell_type": "code",
   "execution_count": 53,
   "metadata": {
    "Collapsed": "false"
   },
   "outputs": [
    {
     "data": {
      "text/plain": [
       "['__bool__',\n",
       " '__class__',\n",
       " '__contains__',\n",
       " '__copy__',\n",
       " '__deepcopy__',\n",
       " '__delattr__',\n",
       " '__delitem__',\n",
       " '__dict__',\n",
       " '__dir__',\n",
       " '__doc__',\n",
       " '__eq__',\n",
       " '__format__',\n",
       " '__ge__',\n",
       " '__getattribute__',\n",
       " '__getitem__',\n",
       " '__gt__',\n",
       " '__hash__',\n",
       " '__init__',\n",
       " '__init_subclass__',\n",
       " '__iter__',\n",
       " '__le__',\n",
       " '__len__',\n",
       " '__lt__',\n",
       " '__module__',\n",
       " '__ne__',\n",
       " '__new__',\n",
       " '__reduce__',\n",
       " '__reduce_ex__',\n",
       " '__repr__',\n",
       " '__reversed__',\n",
       " '__setattr__',\n",
       " '__setitem__',\n",
       " '__sizeof__',\n",
       " '__str__',\n",
       " '__subclasshook__',\n",
       " '__weakref__',\n",
       " '_init',\n",
       " 'addnext',\n",
       " 'addprevious',\n",
       " 'append',\n",
       " 'attrib',\n",
       " 'base',\n",
       " 'base_url',\n",
       " 'body',\n",
       " 'classes',\n",
       " 'clear',\n",
       " 'cssselect',\n",
       " 'drop_tag',\n",
       " 'drop_tree',\n",
       " 'extend',\n",
       " 'find',\n",
       " 'find_class',\n",
       " 'find_rel_links',\n",
       " 'findall',\n",
       " 'findtext',\n",
       " 'forms',\n",
       " 'get',\n",
       " 'get_element_by_id',\n",
       " 'getchildren',\n",
       " 'getiterator',\n",
       " 'getnext',\n",
       " 'getparent',\n",
       " 'getprevious',\n",
       " 'getroottree',\n",
       " 'head',\n",
       " 'index',\n",
       " 'insert',\n",
       " 'items',\n",
       " 'iter',\n",
       " 'iterancestors',\n",
       " 'iterchildren',\n",
       " 'iterdescendants',\n",
       " 'iterfind',\n",
       " 'iterlinks',\n",
       " 'itersiblings',\n",
       " 'itertext',\n",
       " 'keys',\n",
       " 'label',\n",
       " 'make_links_absolute',\n",
       " 'makeelement',\n",
       " 'nsmap',\n",
       " 'prefix',\n",
       " 'remove',\n",
       " 'replace',\n",
       " 'resolve_base_href',\n",
       " 'rewrite_links',\n",
       " 'set',\n",
       " 'sourceline',\n",
       " 'tag',\n",
       " 'tail',\n",
       " 'text',\n",
       " 'text_content',\n",
       " 'values',\n",
       " 'xpath']"
      ]
     },
     "execution_count": 53,
     "metadata": {},
     "output_type": "execute_result"
    }
   ],
   "source": [
    "dir(parsed_html)"
   ]
  },
  {
   "cell_type": "code",
   "execution_count": 49,
   "metadata": {
    "Collapsed": "false"
   },
   "outputs": [
    {
     "ename": "KeyError",
     "evalue": "'page_2'",
     "output_type": "error",
     "traceback": [
      "\u001b[1;31m---------------------------------------------------------------------------\u001b[0m",
      "\u001b[1;31mIndexError\u001b[0m                                Traceback (most recent call last)",
      "\u001b[1;32m~\\Anaconda3\\lib\\site-packages\\lxml\\html\\__init__.py\u001b[0m in \u001b[0;36mget_element_by_id\u001b[1;34m(self, id, *default)\u001b[0m\n\u001b[0;32m    407\u001b[0m             \u001b[1;31m# browsers just return the first one\u001b[0m\u001b[1;33m\u001b[0m\u001b[1;33m\u001b[0m\u001b[1;33m\u001b[0m\u001b[0m\n\u001b[1;32m--> 408\u001b[1;33m             \u001b[1;32mreturn\u001b[0m \u001b[0m_id_xpath\u001b[0m\u001b[1;33m(\u001b[0m\u001b[0mself\u001b[0m\u001b[1;33m,\u001b[0m \u001b[0mid\u001b[0m\u001b[1;33m=\u001b[0m\u001b[0mid\u001b[0m\u001b[1;33m)\u001b[0m\u001b[1;33m[\u001b[0m\u001b[1;36m0\u001b[0m\u001b[1;33m]\u001b[0m\u001b[1;33m\u001b[0m\u001b[1;33m\u001b[0m\u001b[0m\n\u001b[0m\u001b[0;32m    409\u001b[0m         \u001b[1;32mexcept\u001b[0m \u001b[0mIndexError\u001b[0m\u001b[1;33m:\u001b[0m\u001b[1;33m\u001b[0m\u001b[1;33m\u001b[0m\u001b[0m\n",
      "\u001b[1;31mIndexError\u001b[0m: list index out of range",
      "\nDuring handling of the above exception, another exception occurred:\n",
      "\u001b[1;31mKeyError\u001b[0m                                  Traceback (most recent call last)",
      "\u001b[1;32m<ipython-input-49-689932ba9231>\u001b[0m in \u001b[0;36m<module>\u001b[1;34m\u001b[0m\n\u001b[1;32m----> 1\u001b[1;33m \u001b[0mparsed_html\u001b[0m\u001b[1;33m.\u001b[0m\u001b[0mget_element_by_id\u001b[0m\u001b[1;33m(\u001b[0m\u001b[1;34m'page_2'\u001b[0m\u001b[1;33m)\u001b[0m\u001b[1;33m.\u001b[0m\u001b[0mtext_content\u001b[0m\u001b[1;33m(\u001b[0m\u001b[1;33m)\u001b[0m\u001b[1;33m\u001b[0m\u001b[1;33m\u001b[0m\u001b[0m\n\u001b[0m",
      "\u001b[1;32m~\\Anaconda3\\lib\\site-packages\\lxml\\html\\__init__.py\u001b[0m in \u001b[0;36mget_element_by_id\u001b[1;34m(self, id, *default)\u001b[0m\n\u001b[0;32m    411\u001b[0m                 \u001b[1;32mreturn\u001b[0m \u001b[0mdefault\u001b[0m\u001b[1;33m[\u001b[0m\u001b[1;36m0\u001b[0m\u001b[1;33m]\u001b[0m\u001b[1;33m\u001b[0m\u001b[1;33m\u001b[0m\u001b[0m\n\u001b[0;32m    412\u001b[0m             \u001b[1;32melse\u001b[0m\u001b[1;33m:\u001b[0m\u001b[1;33m\u001b[0m\u001b[1;33m\u001b[0m\u001b[0m\n\u001b[1;32m--> 413\u001b[1;33m                 \u001b[1;32mraise\u001b[0m \u001b[0mKeyError\u001b[0m\u001b[1;33m(\u001b[0m\u001b[0mid\u001b[0m\u001b[1;33m)\u001b[0m\u001b[1;33m\u001b[0m\u001b[1;33m\u001b[0m\u001b[0m\n\u001b[0m\u001b[0;32m    414\u001b[0m \u001b[1;33m\u001b[0m\u001b[0m\n\u001b[0;32m    415\u001b[0m     \u001b[1;32mdef\u001b[0m \u001b[0mtext_content\u001b[0m\u001b[1;33m(\u001b[0m\u001b[0mself\u001b[0m\u001b[1;33m)\u001b[0m\u001b[1;33m:\u001b[0m\u001b[1;33m\u001b[0m\u001b[1;33m\u001b[0m\u001b[0m\n",
      "\u001b[1;31mKeyError\u001b[0m: 'page_2'"
     ]
    }
   ],
   "source": [
    "parsed_html.get_element_by_id('page_2').text_content()"
   ]
  },
  {
   "cell_type": "code",
   "execution_count": 41,
   "metadata": {
    "Collapsed": "false"
   },
   "outputs": [
    {
     "data": {
      "text/plain": [
       "['__bool__',\n",
       " '__class__',\n",
       " '__contains__',\n",
       " '__copy__',\n",
       " '__deepcopy__',\n",
       " '__delattr__',\n",
       " '__delitem__',\n",
       " '__dict__',\n",
       " '__dir__',\n",
       " '__doc__',\n",
       " '__eq__',\n",
       " '__format__',\n",
       " '__ge__',\n",
       " '__getattribute__',\n",
       " '__getitem__',\n",
       " '__gt__',\n",
       " '__hash__',\n",
       " '__init__',\n",
       " '__init_subclass__',\n",
       " '__iter__',\n",
       " '__le__',\n",
       " '__len__',\n",
       " '__lt__',\n",
       " '__module__',\n",
       " '__ne__',\n",
       " '__new__',\n",
       " '__reduce__',\n",
       " '__reduce_ex__',\n",
       " '__repr__',\n",
       " '__reversed__',\n",
       " '__setattr__',\n",
       " '__setitem__',\n",
       " '__sizeof__',\n",
       " '__str__',\n",
       " '__subclasshook__',\n",
       " '__weakref__',\n",
       " '_init',\n",
       " 'addnext',\n",
       " 'addprevious',\n",
       " 'append',\n",
       " 'attrib',\n",
       " 'base',\n",
       " 'base_url',\n",
       " 'body',\n",
       " 'classes',\n",
       " 'clear',\n",
       " 'cssselect',\n",
       " 'drop_tag',\n",
       " 'drop_tree',\n",
       " 'extend',\n",
       " 'find',\n",
       " 'find_class',\n",
       " 'find_rel_links',\n",
       " 'findall',\n",
       " 'findtext',\n",
       " 'forms',\n",
       " 'get',\n",
       " 'get_element_by_id',\n",
       " 'getchildren',\n",
       " 'getiterator',\n",
       " 'getnext',\n",
       " 'getparent',\n",
       " 'getprevious',\n",
       " 'getroottree',\n",
       " 'head',\n",
       " 'index',\n",
       " 'insert',\n",
       " 'items',\n",
       " 'iter',\n",
       " 'iterancestors',\n",
       " 'iterchildren',\n",
       " 'iterdescendants',\n",
       " 'iterfind',\n",
       " 'iterlinks',\n",
       " 'itersiblings',\n",
       " 'itertext',\n",
       " 'keys',\n",
       " 'label',\n",
       " 'make_links_absolute',\n",
       " 'makeelement',\n",
       " 'nsmap',\n",
       " 'prefix',\n",
       " 'remove',\n",
       " 'replace',\n",
       " 'resolve_base_href',\n",
       " 'rewrite_links',\n",
       " 'set',\n",
       " 'sourceline',\n",
       " 'tag',\n",
       " 'tail',\n",
       " 'text',\n",
       " 'text_content',\n",
       " 'values',\n",
       " 'xpath']"
      ]
     },
     "execution_count": 41,
     "metadata": {},
     "output_type": "execute_result"
    }
   ],
   "source": [
    "dir(parsed_html)"
   ]
  },
  {
   "cell_type": "code",
   "execution_count": 36,
   "metadata": {
    "Collapsed": "false"
   },
   "outputs": [
    {
     "data": {
      "text/plain": [
       "'<body class=\"calibre\">\\n<p class=\"image\"><a id=\"page_1\" class=\"calibre1\"/><img src=\"../images/00001.jpeg\" alt=\"\" class=\"calibre2\"/></p>\\n</body>\\n<body class=\"calibre\">\\n<p class=\"cpytxta\"><a id=\"page_2\" class=\"calibre3\"/>Copyright © William Blum 2004</p>\\n<p class=\"cpytxt\">All rights reserved.</p>\\n<p class=\"cpytxt1\">Cover design by Matt Wuerker and Erica Bjerning</p>\\n<p class=\"cpytxt2\">Library of Congress Cataloging-in-Publication Data is available from the publisher on request.</p>\\n<p class=\"cpytxt3\">ISBN: 978-1-56751-252-6 paper</p>\\n<p class=\"cpytxt\">ISBN 1-56751-253-4 cloth</p>\\n<p class=\"cpytxt\">ISBN: 978-1-56751-409-4 ebook</p>\\n<p class=\"cpytxt4\">Updated from the 1995 edition, which was in turn a revised and expanded version of <i class=\"calibre4\">The CIA, A Forgotten History</i>, published in 1986 by Zed Books, London. The 1995 edition of Killing Hope went through six printings.</p>\\n<p class=\"cpytxt\">Common Courage Press</p>\\n<p class=\"cpytxt\">P.O. Box 702</p>\\n<p class=\"cpytxt\">Monroe, ME 04951</p>\\n<p class=\"cpytxt\">207-525-0900 fax: 207-525-3068</p>\\n<p class=\"cpytxt5\"><a href=\"http://www.commoncouragepress.com\" class=\"calibre3\">www.commoncouragepress.com</a></p>\\n<p class=\"cpytxt\"><b class=\"calibre5\">Second Edition, Fifth printing 2012</b></p></body>\\n<body class=\"calibre\">\\n<p class=\"title\"><a id=\"page_3\" class=\"calibre1\"/>Contents</p>\\n<p class=\"toc\" id=\"rfm\"><a href=\"part0003.html#fm\" class=\"calibre3\">Author’s Note</a></p>\\n<p class=\"toc\" id=\"rint\"><a href=\"part0004.html#int\" class=\"calibre3\">Introduction</a></p>\\n<p class=\"toc\" id=\"rch1\"><a href=\"part0005.html#ch1\" class=\"calibre3\">1. China 1945 to 1960s: Was Mao Tse-tung just paranoid?</a></p>\\n<p class=\"toc\" id=\"rch2\"><a href=\"part0006.html#ch2\" class=\"calibre3\">2. Italy 1947-1948: Free elections, Hollywood style</a></p>\\n<p class=\"toc\" id=\"rch3\"><a href=\"part0007.html#ch3\" class=\"calibre3\">3. Greece 1947 to early 1950s: From cradle of democracy to client state</a></p>\\n<p class=\"toc\" id=\"rch4\"><a href=\"part0008.html#ch4\" class=\"calibre3\">4. The Philippines 1940s and 1950s: America’s oldest colony</a></p>\\n<p class=\"toc\" id=\"rch5\"><a href=\"part0009.html#ch5\" class=\"calibre3\">5. Korea 1945-1953: Was it all that it appeared to be?</a></p>\\n<p class=\"toc\" id=\"rch6\"><a href=\"part0010.html#ch6\" class=\"calibre3\">6. Albania 1949-1953: The proper English spy</a></p>\\n<p class=\"toc\" id=\"rch7\"><a href=\"part0011.html#ch7\" class=\"calibre3\">7. Eastern Europe 1948-1956: Operation Splinter Factor</a></p>\\n<p class=\"toc\" id=\"rch8\"><a href=\"part0012.html#ch8\" class=\"calibre3\">8. Germany 1950s: Everything from juvenile delinquency to terrorism</a></p>\\n<p class=\"toc\" id=\"rch9\"><a href=\"part0013.html#ch9\" class=\"calibre3\">9. Iran 1953: Making it safe for the King of Kings</a></p>\\n<p class=\"toc\" id=\"rch10\"><a href=\"part0014.html#ch10\" class=\"calibre3\">10. Guatemala 1953-1954: While the world watched</a></p>\\n<p class=\"toc\" id=\"rch11\"><a href=\"part0015.html#ch11\" class=\"calibre3\">11. Costa Rica mid-1950s: Trying to topple an ally, part I</a></p>\\n<p class=\"toc\" id=\"rch12\"><a href=\"part0016.html#ch12\" class=\"calibre3\">12. Syria 1956-1957: Purchasing a new government</a></p>\\n<p class=\"toc\" id=\"rch13\"><a href=\"part0017.html#ch13\" class=\"calibre3\">13. The Middle East 1957-1958: The Eisenhower Doctrine claims another backyard for America</a></p>\\n<p class=\"toc\" id=\"rch14\"><a href=\"part0018.html#ch14\" class=\"calibre3\">14. Indonesia 1957-1958: War and pornography</a></p>\\n<p class=\"toc\" id=\"rch15\"><a href=\"part0019.html#ch15\" class=\"calibre3\">15. Western Europe 1950s and 1960s: Fronts within fronts within fronts</a></p>\\n<p class=\"toc\" id=\"rch16\"><a href=\"part0020.html#ch16\" class=\"calibre3\">16. British Guiana 1953-1964: The CIA’s international labor mafia</a></p>\\n<p class=\"toc\" id=\"rch17\"><a href=\"part0021.html#ch17\" class=\"calibre3\">17. Soviet Union late 1940s to 1960s: From spy planes to book publishing</a></p>\\n<p class=\"toc\" id=\"rch18\"><a href=\"part0022.html#ch18\" class=\"calibre3\">18. Italy 1950s to 1970s: Supporting the Cardinal’s orphans and techno-fascism</a></p>\\n<p class=\"toc\" id=\"rch19\"><a href=\"part0023.html#ch19\" class=\"calibre3\">19. Vietnam 1950-1973: The Hearts and Minds Circus</a></p>\\n<p class=\"toc\" id=\"rch20\"><a href=\"part0024.html#ch20\" class=\"calibre3\">20. Cambodia 1955-1973: Prince Sihanouk walks the high-wire of neutralism</a></p>\\n<p class=\"toc\" id=\"rch21\"><a href=\"part0025.html#ch21\" class=\"calibre3\">21. Laos 1957-1973: <i class=\"calibre4\">L’Armée Clandestine</i></a></p>\\n<p class=\"toc\" id=\"rch22\"><a href=\"part0026.html#ch22\" class=\"calibre3\">22. Haiti 1959-1963: The Marines land, again</a></p>\\n<p class=\"toc\" id=\"rch23\"><a href=\"part0027.html#ch23\" class=\"calibre3\">23. Guatemala 1960: One good coup deserves another</a></p>\\n<p class=\"toc\" id=\"rch24\"><a id=\"page_4\" class=\"calibre3\"/><a href=\"part0028.html#ch24\" class=\"calibre3\">24. France/Algeria 1960s: <i class=\"calibre4\">L’état, c’est la CIA</i></a></p>\\n<p class=\"toc\" id=\"rch25\"><a href=\"part0029.html#ch25\" class=\"calibre3\">25. Ecuador 1960-1963: A textbook of dirty tricks</a></p>\\n<p class=\"toc\" id=\"rch26\"><a href=\"part0030.html#ch26\" class=\"calibre3\">26. The Congo 1960-1964: The assassination of Patrice Lumumba</a></p>\\n<p class=\"toc\" id=\"rch27\"><a href=\"part0031.html#ch27\" class=\"calibre3\">27. Brazil 1961-1964: Introducing the marvelous new world of death squads</a></p>\\n<p class=\"toc\" id=\"rch28\"><a href=\"part0032.html#ch28\" class=\"calibre3\">28. Peru 1960-1965: Fort Bragg moves to the jungle</a></p>\\n<p class=\"toc\" id=\"rch29\"><a href=\"part0033.html#ch29\" class=\"calibre3\">29. Dominican Republic 1960-1966: Saving democracy from communism by getting rid of democracy</a></p>\\n<p class=\"toc\" id=\"rch30\"><a href=\"part0034.html#ch30\" class=\"calibre3\">30. Cuba 1959 to 1980s: The unforgivable revolution</a></p>\\n<p class=\"toc\" id=\"rch31\"><a href=\"part0035.html#ch31\" class=\"calibre3\">31. Indonesia 1965: Liquidating President Sukarno … and 500,000 others East Timor 1975: And 200,000 more</a></p>\\n<p class=\"toc\" id=\"rch32\"><a href=\"part0036.html#ch32\" class=\"calibre3\">32. Ghana 1966: Kwame Nkrumah steps out of line</a></p>\\n<p class=\"toc\" id=\"rch33\"><a href=\"part0037.html#ch33\" class=\"calibre3\">33. Uruguay 1964-1970: Torture—as American as apple pie</a></p>\\n<p class=\"toc\" id=\"rch34\"><a href=\"part0038.html#ch34\" class=\"calibre3\">34. Chile 1964-1973: A hammer and sickle stamped on your child’s forehead</a></p>\\n<p class=\"toc\" id=\"rch35\"><a href=\"part0039.html#ch35\" class=\"calibre3\">35. Greece 1964-1974: “Fuck your Parliament and your Constitution,” said the President of the United States</a></p>\\n<p class=\"toc\" id=\"rch36\"><a href=\"part0040.html#ch36\" class=\"calibre3\">36. Bolivia 1964-1975: Tracking down Che Guevara in the land of coup d’état</a></p>\\n<p class=\"toc\" id=\"rch37\"><a href=\"part0041.html#ch37\" class=\"calibre3\">37. Guatemala 1962 to 1980s: A less publicized “final solution”</a></p>\\n<p class=\"toc\" id=\"rch38\"><a href=\"part0042.html#ch38\" class=\"calibre3\">38. Costa Rica 1970-1971: Trying to topple an ally, part II</a></p>\\n<p class=\"toc\" id=\"rch39\"><a href=\"part0043.html#ch39\" class=\"calibre3\">39. Iraq 1972-1975: Covert action should not be confused with missionary work</a></p>\\n<p class=\"toc\" id=\"rch40\"><a href=\"part0044.html#ch40\" class=\"calibre3\">40. Australia 1973-1975: Another free election bites the dust</a></p>\\n<p class=\"toc\" id=\"rch41\"><a href=\"part0045.html#ch41\" class=\"calibre3\">41. Angola 1975 to 1980s: The Great Powers Poker Game</a></p>\\n<p class=\"toc\" id=\"rch42\"><a href=\"part0046.html#ch42\" class=\"calibre3\">42. Zaire 1975-1978: Mobutu and the CIA, a marriage made in heaven</a></p>\\n<p class=\"toc\" id=\"rch43\"><a href=\"part0047.html#ch43\" class=\"calibre3\">43. Jamaica 1976-1980: Kissinger’s ultimatum</a></p>\\n<p class=\"toc\" id=\"rch44\"><a href=\"part0048.html#ch44\" class=\"calibre3\">44. Seychelles 1979-1981: Yet another area of great strategic importance</a></p>\\n<p class=\"toc\" id=\"rch45\"><a href=\"part0049.html#ch45\" class=\"calibre3\">45. Grenada 1979-1984: Lying—one of the few growth industries in Washington</a></p>\\n<p class=\"toc\" id=\"rch46\"><a href=\"part0050.html#ch46\" class=\"calibre3\">46. Morocco 1983: A video nasty</a></p>\\n<p class=\"toc\" id=\"rch47\"><a href=\"part0051.html#ch47\" class=\"calibre3\">47. Suriname 1982-1984: Once again, the Cuban bogeyman</a></p>\\n<p class=\"toc\" id=\"rch48\"><a href=\"part0052.html#ch48\" class=\"calibre3\">48. Libya 1981-1989: Ronald Reagan meets his match</a></p>\\n<p class=\"toc\" id=\"rch49\"><a href=\"part0053.html#ch49\" class=\"calibre3\">49. Nicaragua 1978-1990: Destabilization in slow motion</a></p>\\n<p class=\"toc\" id=\"rch50\"><a id=\"page_5\" class=\"calibre3\"/><a href=\"part0054.html#ch50\" class=\"calibre3\">50. Panama 1969-1991: Double-crossing our drug supplier</a></p>\\n<p class=\"toc\" id=\"rch51\"><a href=\"part0055.html#ch51\" class=\"calibre3\">51. Bulgaria 1990/Albania 1991: Teaching Communists what democracy is all about</a></p>\\n<p class=\"toc\" id=\"rch52\"><a href=\"part0056.html#ch52\" class=\"calibre3\">52. Iraq 1990-1991: Desert holocaust</a></p>\\n<p class=\"toc\" id=\"rch53\"><a href=\"part0057.html#ch53\" class=\"calibre3\">53. Afghanistan 1979-1992: America’s <i class=\"calibre4\">Jihad</i></a></p>\\n<p class=\"toc\" id=\"rch54\"><a href=\"part0058.html#ch54\" class=\"calibre3\">54. El Salvador 1980-1994: Human rights, Washington style</a></p>\\n<p class=\"toc\" id=\"rch55\"><a href=\"part0059.html#ch55\" class=\"calibre3\">55. Haiti 1986-1994: Who will rid me of this turbulent priest?</a></p>\\n<p class=\"toc\" id=\"rch56\"><a href=\"part0060.html#ch56\" class=\"calibre3\">56. The American Empire: 1992 to present</a></p>\\n<p class=\"toc\" id=\"rnot\"><a href=\"part0061_split_000.html#not\" class=\"calibre3\">Notes</a></p>\\n<p class=\"toc\" id=\"rapp\"><a href=\"part0064.html#app\" class=\"calibre3\">Appendix I: This is How the Money Goes Round</a></p>\\n<p class=\"toc\" id=\"rapp1\"><a href=\"part0065.html#app1\" class=\"calibre3\">Appendix II: Instances of Use of United States Armed Forces Abroad, 1798-1945</a></p>\\n<p class=\"toc\" id=\"rapp2\"><a href=\"part0066.html#app2\" class=\"calibre3\">Appendix III: U.S. Government Assassination Plots</a></p>\\n<p class=\"toc\" id=\"rind\"><a href=\"part0067.html#ind\" class=\"calibre3\">Index</a></p>\\n<p class=\"toc\" id=\"rabt\"><a href=\"part0068.html#abt\" class=\"calibre3\">About the Author</a></p>\\n</body>\\n<body class=\"calibre\">\\n<p class=\"title\" id=\"fm\"><a id=\"page_6\" class=\"calibre1\"/><a href=\"part0002.html#rfm\" class=\"calibre1\">Author’s Note</a></p>\\n<p class=\"noindent\">In addition to those described in this book, accounts of many other serious American post-World War II interventions can be found in another book by William Blum, <i class=\"calibre4\">Rogue State: A Guide to the World’s Only Superpower</i>, <a href=\"part0021.html\" class=\"calibre3\">chapter 17</a>, although not in the rich detail found in the present book.</p>\\n<p class=\"bodytext-right\">—January 2005</p>\\n</body>\\n<body class=\"calibre\">\\n<p class=\"title1\" id=\"int\"><a id=\"page_7\" class=\"calibre1\"/><a href=\"part0002.html#rint\" class=\"calibre1\">Introduction</a></p>\\n<p class=\"subtitle\"><b class=\"calibre5\">Excerpts from the Introduction, 1987 edition</b></p>\\n<p class=\"noindent1\"><b class=\"calibre5\">A brief history of the Cold War and anti-communism</b></p>\\n<p class=\"block\">Our fear that communism might someday take over most of the world blinds us to the fact that anti-communism already has.</p>\\n<p class=\"bodytext-right1\">—Michael Parenti<sup class=\"calibre6\"><a id=\"fnint1\" class=\"calibre3\"/><a href=\"part0061_split_000.html#rfnint1\" class=\"calibre3\">1</a></sup></p>\\n<p class=\"indent\">It was in the early days of the fighting in Vietnam that a Vietcong officer said to his American prisoner: “You were our heroes after the War. We read American books and saw American films, and a common phrase in those days was “to be as rich and as wise as an American”. What happened?”<sup class=\"calibre6\"><a id=\"fnint2\" class=\"calibre3\"/><a href=\"part0061_split_000.html#rfnint2\" class=\"calibre3\">2</a></sup></p>\\n<p class=\"indent\">An American might have been asked something similar by a Guatemalan, an Indonesian or a Cuban during the ten years previous, or by a Uruguayan, a Chilean or a Greek in the decade subsequent. The remarkable international goodwill and credibility enjoyed by the United States at the close of the Second World War was dissipated country by country, intervention by intervention. The opportunity to build the war-ravaged world anew, to lay the foundations for peace, prosperity and justice, collapsed under the awful weight of anti-communism.</p>\\n<p class=\"indent\">The weight had been accumulating for some time; indeed, since Day One of the Russian Revolution. By the summer of 1918 some 13,000 American troops could be found in the newly-born state, the future Union of Soviet Socialist Republics. Two years and thousands of casualties later, the American troops left, having failed in their mission to “strangle at its birth” the Bolshevik state, as Winston Churchill put it.<sup class=\"calibre6\"><a id=\"fnint3\" class=\"calibre3\"/><a href=\"part0061_split_000.html#rfnint3\" class=\"calibre3\">3</a></sup></p>\\n<p class=\"indent1\">The young Churchill was Great Britain’s Minister for War and Air during this period. Increasingly, it was he who directed the invasion of the Soviet Union by the Allies (Great Britain, the US, France, Japan and several other nations) on the side of the counter-revolutionary “White Army”. Years later, Churchill the historian was to record his views of this singular affair for posterity:</p>\\n<p class=\"extract-i\">Were they [the Allies] at war with Soviet Russia? Certainly not; but they shot Soviet Russians at sight. They stood as invaders on Russian soil. They armed the enemies of the Soviet Government. They blockaded its ports, and sunk its battleships. They earnestly desired and schemed its downfall. But war—shocking! Interference—shame! It was, they repeated, a matter of indifference to them how Russians settled their own internal affairs. They were impartial—Bang!<sup class=\"calibre7\"><a id=\"fnint4\" class=\"calibre3\"/><a href=\"part0061_split_000.html#rfnint4\" class=\"calibre3\">4</a></sup></p>\\n<p class=\"indent\">What was there about this Bolshevik Revolution that so alarmed the most powerful nations in the world? What drove them to invade a land whose soldiers had recently fought alongside them for over three years and suffered more casualties than any other country on either side of the World War?</p>\\n<p class=\"indent\">The Bolsheviks had had the audacity to make a separate peace with Germany in order to take leave of a war they regarded as imperialist and not in any way <i class=\"calibre4\">their</i> war, and to try and rebuild a terribly weary and devastated Russia. But the Bolsheviks had displayed the far greater audacity of overthrowing a capitalist- feudal system and proclaiming the first socialist state in the history of the world. This was uppityness writ incredibly large. This was the <a id=\"page_8\" class=\"calibre3\"/>crime the Allies had to punish, the virus which had to be eradicated lest it spread to their own people.</p>\\n<p class=\"indent1\">The invasion did not achieve its immediate purpose, but its consequences were nonetheless profound and persist to the present day. Professor D.F. Fleming, the Vanderbilt University historian of the Cold War, has noted:</p>\\n<p class=\"extract-i\">For the American people the cosmic tragedy of the interventions in Russia does not exist, or it was an unimportant incident long forgotten. But for the Soviet peoples and their leaders the period was a time of endless killing, of looting and rapine, of plague and famine, of measureless suffering for scores of millions—an experience burned into the very soul of a nation, not to be forgotten for many generations, if ever. Also for many years the harsh Soviet regimentations could all be justified by fear that the capitalist powers would be back to finish the job. It is not strange that in his address in New York, September 17, 1959, Premier Khrushchev should remind us of the interventions, “the time you sent your troops to quell the revolution”, as he put it.<sup class=\"calibre7\"><a id=\"fnint5\" class=\"calibre3\"/><a href=\"part0061_split_000.html#rfnint5\" class=\"calibre3\">5</a></sup></p>\\n<p class=\"indent\">In what could be taken as a portent of superpower insensitivity, a 1920 Pentagon report on the intervention reads: “This expedition affords one of the finest examples in history of honorable, unselfish dealings … under very difficult circumstances to be helpful to a people struggling to achieve a new liberty.”<sup class=\"calibre6\"><a id=\"fnint6\" class=\"calibre3\"/><a href=\"part0061_split_000.html#rfnint6\" class=\"calibre3\">6</a></sup></p>\\n<p class=\"indent\">History does not tell us what a Soviet Union, allowed to develop in a “normal” way of its own choosing, would look like today. We do know, however, the nature of a Soviet Union attacked in its cradle, raised alone in an extremely hostile world, and, when it managed to survive to adulthood, overrun by the Nazi war machine with the blessings of the Western powers. The resulting insecurities and fears have inevitably led to deformities of character not unlike that found in an individual raised in a similar life-threatening manner.</p>\\n<p class=\"indent\">We in the West are never allowed to forget the political shortcomings (real and bogus) of the Soviet Union; at the same time we are never reminded of the history which lies behind it. The anti-communist propaganda campaign began even earlier than the military intervention. Before the year 1918 was over, expressions in the vein of “Red Peril”, “the Bolshevik assault on civilization”, and “menace to world by Reds is seen” had become commonplace in the pages of the <i class=\"calibre4\">New York Times.</i></p>\\n<p class=\"indent1\">During February and March 1919, a US Senate Judiciary Subcommittee held hearings before which many “Bolshevik horror stories” were presented. The character of some of the testimony can be gauged by the headline in the usually sedate <i class=\"calibre4\">Times</i> of 12 February 1919:</p>\\n<p class=\"extract-i\">DESCRIBE HORRORS UNDER RED RULE. R.E. SIMONS AND W.W. WELSH TELL SENATORS OF BRUTALITIES OF BOLSHEVIKI—STRIP WOMEN IN STREETS—PEOPLE OF EVERY CLASS EXCEPT THE SCUM SUBJECTED TO VIOLENCE BY MOBS.</p>\\n<p class=\"indent\">Historian Frederick Lewis Schuman has written: “The net result of these hearings … was to picture Soviet Russia as a kind of bedlam inhabited by abject slaves completely at the mercy of an organization of homicidal maniacs whose purpose was to destroy all traces of civilization and carry the nation back to barbarism.”<sup class=\"calibre6\"><a id=\"fnint7\" class=\"calibre3\"/><a href=\"part0061_split_000.html#rfnint7\" class=\"calibre3\">7</a></sup></p>\\n<p class=\"indent\">Literally no story about the Bolsheviks was too contrived, too bizarre, too grotesque, or too perverted to be printed and widely believed—from women being nationalized to babies being eaten (as the early pagans believed the Christians guilty of devouring their children; the same was believed of the Jews in the Middle Ages). The story about women with <a id=\"page_9\" class=\"calibre3\"/>all the lurid connotations of state property, compulsory marriage, “free love”, etc. “was broadcasted over the country through a thousand channels,” wrote Schuman, “and perhaps did more than anything else to stamp the Russian Communists in the minds of most American citizens as criminal perverts”.<sup class=\"calibre6\"><a id=\"fnint8\" class=\"calibre3\"/><a href=\"part0061_split_000.html#rfnint8\" class=\"calibre3\">8</a></sup> This tale continued to receive great currency even after the State Department was obliged to announce that it was a fraud. (That the Soviets eat their babies was still being taught by the John Birch Society to its large audience at least as late as 1978.)<sup class=\"calibre6\"><a id=\"fnint9\" class=\"calibre3\"/><a href=\"part0061_split_000.html#rfnint9\" class=\"calibre3\">9</a></sup></p>\\n<p class=\"indent1\">By the end of 1919, when the defeat of the Allies and the White Army appeared likely, the <i class=\"calibre4\">New York Times</i> treated its readers to headlines and stories such as the following:</p>\\n<p class=\"extract-2b\">30 Dec. 1919: “Reds Seek War With America”</p>\\n<p class=\"extract\">9 Jan. 1920: “‘Official quarters’ describe the Bolshevist menace in the Middle East as ominous”</p>\\n<p class=\"extract\">11 Jan. 1920: “Allied officials and diplomats [envisage] a possible invasion of Europe”</p>\\n<p class=\"extract\">13 Jan. 1920: “Allied diplomatic circles” fear an invasion of Persia</p>\\n<p class=\"extract\">16 Jan. 1920: A page-one headline, eight columns wide:</p>\\n<p class=\"extract\">“Britain Facing War With Reds, Calls Council In Paris.”</p>\\n<p class=\"extract\">“Well-informed diplomats” expect both a military invasion of Europe and a Soviet advance into Eastern and Southern Asia.</p>\\n<p class=\"extract\">The following morning, however, we could read: “No War With Russia, Allies To Trade With Her”</p>\\n<p class=\"extract\">7 Feb. 1920: “Reds Raising Army To Attack India”</p>\\n<p class=\"extract\">11 Feb. 1920: “Fear That Bolsheviki Will Now Invade Japanese Territory”</p>\\n<p class=\"indent2\">Readers of the <i class=\"calibre4\">New York Times</i> were asked to believe that all these invasions were to come from a nation that was shattered as few nations in history have been; a nation still recovering from a horrendous world war; in extreme chaos from a fundamental social revolution that was barely off the ground; engaged in a brutal civil war against forces backed by the major powers of the world; its industries, never advanced to begin with, in a shambles; and the country in the throes of a famine that was to leave many millions dead before it subsided.</p>\\n<p class=\"indent\">In 1920, <i class=\"calibre4\">The New Republic</i> magazine presented a lengthy analysis of the news coverage by the <i class=\"calibre4\">New York Times</i> of the Russian Revolution and the intervention. Amongst much else, it observed that in the two years following the November 1917 revolution, the <i class=\"calibre4\">Times</i> had stated no less than 91 times that “the Soviets were nearing their rope’s end or actually had reached it.”<sup class=\"calibre6\"><a id=\"fnint10\" class=\"calibre3\"/><a href=\"part0061_split_000.html#rfnint10\" class=\"calibre3\">10</a></sup></p>\\n<p class=\"indent\">If this was reality as presented by the United States’ “newspaper of record”, one can imagine only with dismay the witch’s brew the rest of the nation’s newspapers were feeding to their readers.</p>\\n<p class=\"indent\">This, then, was the American people’s first experience of a new social phenomenon that had come upon the world, their introductory education about the Soviet Union and this thing called “communism”. The students have never recovered from the lesson. Neither has the Soviet Union.</p>\\n<p class=\"indent\">The military intervention came to an end but, with the sole and partial exception of the Second World War period, the propaganda offensive has never let up. In 1943 <i class=\"calibre4\">Life</i> magazine devoted an entire issue in honor of the Soviet Union’s accomplishments, going far beyond what was demanded by the need for wartime solidarity, going so far as to call Lenin “perhaps the greatest man of modern times”.<sup class=\"calibre6\"><a id=\"fnint11\" class=\"calibre3\"/><a href=\"part0061_split_000.html#rfnint11\" class=\"calibre3\">11</a></sup> Two years later, however, with Harry Truman sitting in the White House, such fraternity had no chance of surviving. Truman, <a id=\"page_10\" class=\"calibre3\"/>after all, was the man who, the day after the Nazis invaded the Soviet Union, said: “If we see that Germany is winning, we ought to help Russia, and if Russia is winning, we ought to help Germany, and that way let them kill as many as possible, although I don’t want to see Hitler victorious in any circumstances.”<sup class=\"calibre6\"><a id=\"fnint12\" class=\"calibre3\"/><a href=\"part0061_split_000.html#rfnint12\" class=\"calibre3\">12</a></sup></p>\\n<p class=\"indent\">Much propaganda mileage has been squeezed out of the Soviet-German treaty of 1939, made possible only by entirely ignoring the fact that the Russians were forced into the pact by the repeated refusal of the Western powers, particularly the United States and Great Britain, to unite with Moscow in a stand against Hitler;<sup class=\"calibre6\"><a id=\"fnint13\" class=\"calibre3\"/><a href=\"part0061_split_000.html#rfnint13\" class=\"calibre3\">13</a></sup> as they likewise refused to come to the aid of the socialist-oriented Spanish government under siege by the German, Italian and Spanish fascists beginning in 1936. Stalin realized that if the West wouldn’t save Spain, they certainly wouldn’t save the Soviet Union.</p>\\n<p class=\"indent\">From the Red Scare of the 1920s to the McCarthyism of the 1950s to the Reagan Crusade against the Evil Empire of the 1980s, the American people have been subjected to a relentless anti-communist indoctrination. It is imbibed with their mother’s milk, pictured in their comic books, spelled out in their school books; their daily paper offers them headlines that tell them all they need to know; ministers find sermons in it, politicians are elected with it, and <i class=\"calibre4\">Reader’s Digest</i> becomes rich on it.</p>\\n<p class=\"indent\">The fiercely-held conviction inevitably produced by this insidious assault upon the intellect is that a great damnation has been unleashed upon the world, possibly by the devil himself, but in the form of people; people not motivated by the same needs, fears, emotions, and personal morality that govern others of the species, but people engaged in an extremely clever, monolithic, international conspiracy dedicated to taking over the world and enslaving it; for reasons not always clear perhaps, but evil needs no motivation save evil itself. Moreover, any appearance or claim by these people to be rational human beings seeking a better kind of world or society is a sham, a cover-up, to delude others, and proof only of their cleverness; the repression and cruelties which have taken place in the Soviet Union are forever proof of the bankruptcy of virtue and the evil intentions of these people in whichever country they may be found, under whatever name they may call themselves; and, most important of all, the only choice open to anyone in the United States is between the American Way of Life and the Soviet Way of Life, that nothing lies between or beyond these two ways of making the world.</p>\\n<p class=\"indent\">This is how it looks to the simple folk of America. One finds that the sophisticated, when probed slightly beneath the surface of their academic language, see it exactly the same way.</p>\\n<p class=\"indent3\">To the mind carefully brought to adulthood in the United States, the truths of anti-communism are self-evident, as self-evident as the flatness of the world once was to an earlier mind; as the Russian people believed that the victims of Stalin’s purges were truly guilty of treason.</p>\\n<p class=\"indent\">The foregoing slice of American history must be taken into account if one is to make sense of the vagaries of American foreign policy since the end of World War II, specifically the record, as presented in this book, of what the US military and the CIA and other branches of the US government have done to the peoples of the world.</p>\\n<p class=\"indent\">In 1918, the barons of American capital needed no reason for their war against communism other than the threat to their wealth and privilege, although their opposition was expressed in terms of moral indignation.</p>\\n<p class=\"indent\">During the period between the two world wars, US gunboat diplomacy operated in the Caribbean to make “The American Lake” safe for the fortunes of United Fruit and W.R. <a id=\"page_11\" class=\"calibre3\"/>Grace &amp; Co., at the same time taking care to warn of “the Bolshevik threat” to all that is decent from the likes of Nicaraguan rebel Augusto Sandino.</p>\\n<p class=\"indent\">By the end of the Second World War, every American past the age of 40 had been subjected to some 25 years of anti-communist radiation, the average incubation period needed to produce a malignancy. Anti-communism had developed a life of its own, independent of its capitalist father. Increasingly, in the post-war period, middle-aged Washington policy makers and diplomats saw the world out there as one composed of “communists” and “anti-communists”, whether of nations, movements or individuals. This comic-strip vision of the world, with righteous American supermen fighting communist evil everywhere, had graduated from a cynical propaganda exercise to a moral imperative of US foreign policy.</p>\\n<p class=\"indent\">Even the concept of “non-communist”, implying some measure of neutrality, has generally been accorded scant legitimacy in this paradigm. John Foster Dulles, one of the major architects of post-war US foreign policy, expressed this succinctly in his typically simple, moralistic way: “For us there are two sorts of people in the world: there are those who are Christians and support free enterprise and there are the others.”<sup class=\"calibre6\"><a id=\"fnint14\" class=\"calibre3\"/><a href=\"part0061_split_000.html#rfnint14\" class=\"calibre3\">14</a></sup> As several of the case studies in the present book confirm, Dulles put that creed into rigid practice.</p>\\n<p class=\"indent\">The word “communist” (as well as “Marxist”) has been so overused and so abused by American leaders and the media as to render it virtually meaningless. (The Left has done the same to the word “fascist”.) But merely having a name for something—witches or flying saucers—attaches a certain credence to it.</p>\\n<p class=\"indent\">At the same time, the American public, as we have seen, has been soundly conditioned to react Pavlovianly to the term: it means, still, the worst excesses of Stalin, from wholesale purges to Siberian slave-labor camps; it means, as Michael Parenti has observed, that “Classic Marxist-Leninist <i class=\"calibre4\">predictions</i> [concerning world revolution] are treated as statements of <i class=\"calibre4\">intent</i> directing all present-day communist <i class=\"calibre4\">actions</i>.”<sup class=\"calibre6\"><a id=\"fnint15\" class=\"calibre3\"/><a href=\"part0061_split_000.html#rfnint15\" class=\"calibre3\">15</a></sup> It means “us” against “them”.</p>\\n<p class=\"indent\">And “them” can mean a peasant in the Philippines, a mural-painter in Nicaragua, a legally-elected prime minister in British Guiana, or a European intellectual, a Cambodian neutralist, an African nationalist—all, somehow, part of the same monolithic conspiracy; each, in some way, a threat to the American Way of Life; no land too small, too poor, or too far away to pose such a threat, the “communist threat”.</p>\\n<p class=\"indent\">The cases presented in this book illustrate that it has been largely irrelevant whether the particular targets of intervention—be they individuals, political parties, movements or governments—called themselves “communist” or not. It has mattered little whether they were scholars of dialectical materialism or had never heard of Karl Marx; whether they were atheists or priests; whether a strong and influential Communist Party was in the picture or not; whether the government had come into being through violent revolution or peaceful elections … all have been targets, all “communists”.</p>\\n<p class=\"indent1\">It has mattered still less that the Soviet KGB was in the picture. The assertion has been frequently voiced that the CIA carries out its dirty tricks largely <i class=\"calibre4\">in reaction to</i> operations of the KGB which have been “even dirtier”. This is a lie made out of whole cloth. There may be an isolated incident of such in the course of the CIA’s life, but it has kept itself well hidden. The relationship between the two sinister agencies is marked by fraternization and respect for fellow professionals more than by hand-to-hand combat. Former CIA officer John Stockwell has written:</p>\\n<p class=\"extract-a\">Actually, at least in more routine operations, case officers most fear the US ambassador and his staff, then restrictive headquarters cables, then curious, gossipy neighbors in the local community, as potential threats to operations. Next would come the local police, then the press. Last of all is the KGB—in my twelve years of <a id=\"page_12\" class=\"calibre3\"/>case officering I never saw or heard of a situation in which the KGB attacked or obstructed a CIA operation.<sup class=\"calibre7\"><a id=\"fnint16\" class=\"calibre3\"/><a href=\"part0061_split_000.html#rfnint16\" class=\"calibre3\">16</a></sup></p>\\n<p class=\"indent4\">Stockwell adds that the various intelligence services do not want their world to be “complicated” by murdering each other.</p>\\n<p class=\"extract-i\">It isn’t done. If a CIA case officer has a flat tire in the dark of night on a lonely road, he will not hesitate to accept a ride from a KGB officer—likely the two would detour to some bar for a drink together. In fact CIA and KGB officers entertain each other frequently in their homes. The CIA’s files are full of mention of such relationships in almost every African station.<sup class=\"calibre7\"><a id=\"fnint17\" class=\"calibre3\"/><a href=\"part0061_split_000.html#rfnint17\" class=\"calibre3\">17</a></sup></p>\\n<p class=\"indent3\">Proponents of “fighting fire with fire” come perilously close at times to arguing that if the KGB, for example, had a hand in the overthrow of the Czechoslovak government in 1968, it is OK for the CIA to have a hand in the overthrow of the Chilean government in 1973. It’s as if the destruction of democracy by the KGB deposits funds in a bank account from which the CIA is then justified in making withdrawals.</p>\\n<p class=\"indent\">What then has been the thread common to the diverse targets of American intervention which has brought down upon them the wrath, and often the firepower, of the world’s most powerful nation? In virtually every case involving the Third World described in this book, it has been, in one form or another, a policy of “self- determination”: the desire, born of perceived need and principle, to pursue a path of development independent of US foreign policy objectives. Most commonly, this has been manifested in (a) the ambition to free themselves from economic and political subservience to the United States; (b) the refusal to minimize relations with the socialist bloc, or suppress the left at home, or welcome an American military installation on their soil; in short, a refusal to be a pawn in the Cold War; or (c) the attempt to alter or replace a government which held to neither of these aspirations; i.e., a government supported by the United States.</p>\\n<p class=\"indent1\">It cannot be emphasized too strongly that such a policy of independence has been viewed and expressed by numerous Third World leaders and revolutionaries as one not to be equated by definition to anti-Americanism or pro-communism, but as simply a determination to maintain a position of neutrality and non-alignment vis-à-vis the two superpowers. Time and time again, however, it will be seen that the United States was not prepared to live with this proposition. Arbenz of Guatemala, Mossadegh of Iran, Sukarno of Indonesia, Nkrumah of Ghana, Jagan of British Guiana, Sihanouk of Cambodia … all, insisted Uncle Sam, must declare themselves unequivocally on the side of “The Free World” or suffer the consequences. Nkrumah put the case for non-alignment as follows:</p>\\n<p class=\"extract-i\">The experiment which we tried in Ghana was essentially one of developing the country in co-operation with the world as a whole. Non-alignment meant exactly what it said. We were not hostile to the countries of the socialist world in the way in which the governments of the old colonial territories were. It should be remembered that while Britain pursued at home co-existence with the Soviet Union this was never allowed to extend to British colonial territories. Books on socialism, which were published and circulated freely in Britain, were banned in the British colonial empire, and after Ghana became independent it was assumed abroad that it would continue to follow the same restrictive ideological approach. When we behaved as did the British in their relations with the socialist countries we were accused of being pro-Russian and introducing the most dangerous ideas into Africa.<sup class=\"calibre7\"><a id=\"fnint18\" class=\"calibre3\"/><a href=\"part0061_split_000.html#rfnint18\" class=\"calibre3\">18</a></sup></p>\\n<p class=\"indent3\"><a id=\"page_13\" class=\"calibre3\"/>It is reminiscent of the 19th-century American South, where many Southerners were deeply offended that so many of their black slaves had deserted to the Northern side in the Civil War. They had genuinely thought that the blacks should have been grateful for all their white masters had done for them, and that they were happy and content with their lot. The noted Louisiana surgeon and psychologist Dr. Samuel A. Cartwright argued that many of the slaves suffered from a form of mental illness, which he called “drapetomania”, diagnosed as the uncontrollable urge to escape from slavery. In the second half of the 20th-century, this illness, in the Third World, has usually been called “communism”.</p>\\n<p class=\"indent\">Perhaps the most deeply ingrained reflex of knee-jerk anti- communism is the belief that the Soviet Union (or Cuba or Vietnam, etc., acting as Moscow’s surrogate) is a clandestine force lurking behind the facade of self-determination, stirring up the hydra of revolution, or just plain trouble, here, there, and everywhere; yet another incarnation, although on a far grander scale, of the proverbial “outside agitator”, he who has made his appearance regularly throughout history … King George blamed the French for inciting the American colonies to revolt … disillusioned American farmers and veterans protesting their onerous economic circumstances after the revolution (Shays’ Rebellion) were branded as British agents out to wreck the new republic … labor strikes in late-19th-century America were blamed on “anarchists” and “foreigners”, during the First World War on “German agents”, after the war on “Bolsheviks”.</p>\\n<p class=\"indent\">And in the 1960s, said the National Commission on the Causes and Prevention of Violence, J. Edgar Hoover “helped spread the view among the police ranks that any kind of mass protest is due to a conspiracy promulgated by agitators, often Communists, ‘who misdirect otherwise contented people’.”<sup class=\"calibre6\"><a id=\"fnint19\" class=\"calibre3\"/><a href=\"part0061_split_000.html#rfnint19\" class=\"calibre3\">19</a></sup></p>\\n<p class=\"indent\">The last is the key phrase, one which encapsulates the conspiracy mentality of those in power—the idea that no people, except those living under the enemy, could be so miserable and discontent as to need recourse to revolution or even mass protest; that it is only the agitation of the outsider which misdirects them along this path.</p>\\n<p class=\"indent\">Accordingly, if Ronald Reagan were to concede that the masses of El Salvador have every good reason to rise up against their god-awful existence, it would bring into question his accusation, and the rationale for US intervention, that it is principally (only?) the Soviet Union and its Cuban and Nicaraguan allies who instigate the Salvadoreans: that seemingly magical power of communists everywhere who, with a twist of their red wrist, can transform peaceful, happy people into furious guerrillas. The CIA knows how difficult a feat this is. The Agency, as we shall see, tried to spark mass revolt in China, Cuba, the Soviet Union, Albania, and elsewhere in Eastern Europe with a singular lack of success. The Agency’s scribes have laid the blame for these failures on the “closed” nature of the societies involved. But in non-communist countries, the CIA has had to resort to military coups or extra-legal chicanery to get its people into power. It has never been able to light the fire of popular revolution.</p>\\n<p class=\"indent\">For Washington to concede merit and virtue to a particular Third World insurgency would, moreover, raise the question: Why does not the United States, if it must intervene, take the side of the rebels? Not only might this better serve the cause of human rights and justice, but it would shut out the Russians from their alleged role. What better way to frustrate the International Communist Conspiracy? But this is a question that dares not speak its name in the Oval Office, a question that is relevant to many of the cases in this book.</p>\\n<p class=\"indent\">Instead, the United States remains committed to its all-too- familiar policy of establishing and/or supporting the most vile tyrannies in the world, whose outrages against their <a id=\"page_14\" class=\"calibre3\"/>own people confront us daily in the pages of our newspapers: brutal massacres; systematic, sophisticated torture; public whippings; soldiers and police firing into crowds; government-supported death squads; tens of thousands of disappeared persons; extreme economic deprivation … a way of life that is virtually a monopoly held by America’s allies, from Guatemala, Chile and El Salvador to Turkey, Pakistan and Indonesia, all members in good standing of the Holy War Against Communism, all members of “The Free World”, that region of which we hear so much and see so little.</p>\\n<p class=\"indent\">The restrictions on civil liberties found in the communist bloc, as severe as they are, pale by comparison to the cottage- industry Auschwitzes of “The Free World”, and, except in that curious mental landscape inhabited by The Compleat Anti- Communist, can have little or nothing to do with the sundry American interventions supposedly in the cause of a higher good.</p>\\n<p class=\"indent3\">It is interesting to note that as commonplace as it is for American leaders to speak of freedom and democracy while supporting dictatorships, so do Russian leaders speak of wars of liberation, anti-imperialism and anti-colonialism while doing extremely little to actually further these causes, American propaganda notwithstanding. The Soviets like to be thought of as champions of the Third World, but they have stood by doing little more than going “tsk, tsk” as progressive movements and governments, even Communist Parties, in Greece, Guatemala, British Guiana, Chile, Indonesia, the Philippines and elsewhere have gone to the wall with American complicity.</p>\\n<p class=\"indent\">During the early 1950s, the Central Intelligence Agency instigated several military incursions into Communist China. In 1960, CIA planes, without any provocation, bombed the sovereign nation of Guatemala. In 1973, the Agency encouraged a bloody revolt against the government of Iraq. In the American mass media at the time, and therefore in the American mind, these events did not happen.</p>\\n<p class=\"indent\">“We didn’t know what was happening”, became a cliché used to ridicule those Germans who claimed ignorance of the events which took place under the Nazis. Yet, was their stock answer as far-fetched as we’d like to think? It is sobering to reflect that in our era of instant world-wide communications, the United States has, on many occasions, been able to mount a large- or small-scale military operation or undertake another, equally blatant, form of intervention without the American public being aware of it until years later, if ever. Often the only report of the event or of US involvement was a passing reference to the fact that a communist government had made certain charges—just the kind of “news” the American public has been well conditioned to dismiss out of hand, and the press not to follow up; as the German people were taught that reports from abroad of Nazi wrong-doings were no more than communist propaganda.</p>\\n<p class=\"indent\">With few exceptions, the interventions never made the headlines or the evening TV news. With some, bits and pieces of the stories have popped up here and there, but rarely brought together to form a cohesive and enlightening whole; the fragments usually appear long after the fact, quietly buried within other stories, just as quietly forgotten, bursting into the foreground only when extraordinary circumstances have compelled it, such as the Iranians holding US embassy personnel and other Americans hostage in Teheran in 1979, which produced a rash of articles on the role played by the United States in the overthrow of the Iranian government in 1953. It was as if editors had been spurred into thinking: “Hey, just what <i class=\"calibre4\">did</i> we do in Iran to make all those people hate us so?”</p>\\n<p class=\"indent\">There have been a lot of Irans in America’s recent past, but in the absence of the <i class=\"calibre4\">New York Daily News</i> or the <i class=\"calibre4\">Los Angeles Times</i> conspicuously grabbing the reader by the collar <a id=\"page_15\" class=\"calibre3\"/>and pressing against his face the full implication of the deed … in the absence of NBC putting it all into real pictures of real people on the receiving end … in such absence the incidents become non-events for the large majority of Americans, and they can honestly say “We didn’t know what was happening.”</p>\\n<p class=\"indent\">Former Chinese Premier Chou En-lai once observed: “One of the delightful things about Americans is that they have absolutely no historical memory.”</p>\\n<p class=\"indent\">It’s probably even worse than he realized. During the Three Mile Island nuclear power plant accident in Pennsylvania in 1979, a Japanese journalist, Atsuo Kaneko of the Japanese Kyoto News Service, spent several hours interviewing people temporarily housed at a hockey rink—mostly children, pregnant women and young mothers. He discovered that none of them had heard of Hiroshima. Mention of the name drew a blank.<sup class=\"calibre6\"><a id=\"fnint20\" class=\"calibre3\"/><a href=\"part0061_split_000.html#rfnint20\" class=\"calibre3\">20</a></sup></p>\\n<p class=\"indent\">And in 1982, a judge in Oakland, California said he was appalled when some 50 prospective jurors for a death-penalty murder trial were questioned and “none of them knew who Hitler was”.<sup class=\"calibre6\"><a id=\"fnint21\" class=\"calibre3\"/><a href=\"part0061_split_000.html#rfnint21\" class=\"calibre3\">21</a></sup></p>\\n<p class=\"indent\">To the foreign policy oligarchy in Washington, it is more than delightful. It is <i class=\"calibre4\">sine qua non.</i></p>\\n<p class=\"indent\">So obscured is the comprehensive record of American interventions that when, in 1975, the Congressional Research Service of the Library of Congress was asked to undertake a study of covert activities of the CIA to date, it was able to come up with but a very minor portion of the overseas incidents presented in this book for the same period.<sup class=\"calibre6\"><a id=\"fnint22\" class=\"calibre3\"/><a href=\"part0061_split_000.html#rfnint22\" class=\"calibre3\">22</a></sup></p>\\n<p class=\"indent\">For all of this information that has made its way into popular consciousness, or into school texts, encyclopedias, or other standard reference works, there might as well exist strict censorship in the United States.</p>\\n<p class=\"indent1\">The reader is invited to look through the relevant sections of the three principal American encyclopedias, <i class=\"calibre4\">Americana, Britannica</i>, and <i class=\"calibre4\">Colliers</i>. The image of encyclopedias as the final repository of objective knowledge takes a beating. What is tantamount to a non-recognition of American interventions may very well be due to these esteemed works employing a criterion similar to that of Washington officials as reflected in the Pentagon Papers. The <i class=\"calibre4\">New York Times</i> summarized this highly interesting phenomenon thusly:</p>\\n<p class=\"extract-i\">Clandestine warfare against North Vietnam, for example, is not seen … as violating the Geneva Accords of 1954, which ended the French Indochina War, or as conflicting with the public policy pronouncements of the various administrations. Clandestine warfare, because it is covert, does not exist as far as treaties and public posture are concerned. Further, secret commitments to other nations are not sensed as infringing on the treaty-making powers of the Senate, because they are not publicly acknowledged.<sup class=\"calibre7\"><a id=\"fnint23\" class=\"calibre3\"/><a href=\"part0061_split_000.html#rfnint23\" class=\"calibre3\">23</a></sup></p>\\n<p class=\"indent3\">The <i class=\"calibre4\">de facto</i> censorship which leaves so many Americans functionally illiterate about the history of US foreign affairs may be all the more effective because it is not so much official, heavy-handed or conspiratorial, as it is woven artlessly into the fabric of education and media. No conspiracy is needed. The editors of <i class=\"calibre4\">Reader’s Digest</i> and <i class=\"calibre4\">U.S. News and World Report</i> do not need to meet covertly with the representative from NBC in an FBI safe-house to plan next month’s stories and programs; for the simple truth is that these individuals would not have reached the positions they occupy if they themselves had not all been guided through the same tunnel of camouflaged history and emerged with the same selective memory and conventional wisdom.</p>\\n<p class=\"indent\">“The upheaval in China is a revolution which, if we analyze it, we will see is prompted <a id=\"page_16\" class=\"calibre3\"/>by the same things that prompted the British, French and American revolutions.”<sup class=\"calibre6\"><a id=\"fnint24\" class=\"calibre3\"/><a href=\"part0061_split_000.html#rfnint24\" class=\"calibre3\">24</a></sup> A cosmopolitan and generous sentiment of Dean Rusk, then Assistant Secretary for Far Eastern Affairs, later Secretary of State. At precisely the same time as Mr. Rusk’s talk in 1950, others in his government were actively plotting the downfall of the Chinese revolutionary government.</p>\\n<p class=\"indent\">This has been a common phenomenon. For many of the cases described in the following pages, one can find statements of high or middle-level Washington officials which put into question the policy of intervention; which expressed misgivings based either on principle (sometimes the better side of American liberalism) or concern that the intervention would not serve any worthwhile end, might even result in disaster. I have attached little weight to such dissenting statements as, indeed, in the final analysis, did Washington decision-makers who, in controversial world situations, could be relied upon to play the anti-communist card. In presenting the interventions in this manner, I am declaring that American foreign policy is what American foreign policy does.</p>\\n<p class=\"subtitle1\">Excerpts from the Introduction, 1995 edition</p>\\n<p class=\"indent\">In 1993, I came across a review of a book about people who deny that the Nazi Holocaust actually occurred. I wrote to the author, a university professor, telling her that her book made me wonder whether she knew that an American holocaust had taken place, and that the denial of it put the denial of the Nazi one to shame. So broad and deep is the denial of the American holocaust, I said, that the denyers are not even aware that the claimers or their claim exist. Yet, a few million people have died in the American holocaust and many more millions have been condemned to lives of misery and torture as a result of US interventions extending from China and Greece in the 1940s to Afghanistan and Iraq in the 1990s. I enclosed a listing of these interventions, which is of course the subject of the present book.</p>\\n<p class=\"indent\">In my letter I also offered to exchange a copy of the earlier edition of my book for a copy of hers, but she wrote back informing me that she was not in a position to do so. And that was all she said. She made no comment whatsoever about the remainder of my letter—the part dealing with denying the American holocaust—not even to acknowledge that I had raised the matter. The irony of a scholar on the subject of denying the Nazi Holocaust engaging in such denial about the American holocaust was classic indeed. I was puzzled why the good professor had bothered to respond at all.</p>\\n<p class=\"indent\">Clearly, if my thesis could receive such a non-response from such a person, I and my thesis faced an extremely steep uphill struggle. In the 1930s, and again after the war in the 1940s and ‘50s, anti-communists of various stripes in the United States tried their best to expose the crimes of the Soviet Union, such as the purge trials and the mass murders. But a strange thing happened. The truth did not seem to matter. American Communists and fellow travelers continued to support the Kremlin. Even allowing for the exaggeration and disinformation regularly disbursed by the anti-communists which damaged their credibility, the continued ignorance and/or denial by the American leftists is remarkable.</p>\\n<p class=\"indent3\">At the close of the Second World War, when the victorious Allies discovered the German concentration camps, in some cases German citizens from nearby towns were brought to the camp to come face-to-face with the institution, the piles of corpses, and the still-living skeletal people; some of the respectable burghers were even forced to bury the dead. What might be the effect upon the American psyche if the true-believers and denyers were compelled to witness the consequences of the past half- century of US foreign policy <a id=\"page_17\" class=\"calibre3\"/>close up? What if all the nice, clean-cut, wholesome American boys who dropped an infinite tonnage of bombs, on a dozen different countries, on people they knew nothing about—characters in a video game—had to come down to earth and look upon and smell the burning flesh?</p>\\n<p class=\"indent\">It has become conventional wisdom that it was the relentlessly tough anti-communist policies of the Reagan Administration, with its heated-up arms race, that led to the collapse and reformation of the Soviet Union and its satellites. American history books may have already begun to chisel this thesis into marble. The Tories in Great Britain say that Margaret Thatcher and her unflinching policies contributed to the miracle as well. The East Germans were believers too. When Ronald Reagan visited East Berlin, the people there cheered him and thanked him “for his role in liberating the East”. Even many leftist analysts, particularly those of a conspiracy bent, are believers.</p>\\n<p class=\"indent\">But this view is not universally held; nor should it be.</p>\\n<p class=\"indent1\">Long the leading Soviet expert on the United States, Georgi Arbatov, head of the Moscow-based Institute for the Study of the U.S.A. and Canada, wrote his memoirs in 1992. A <i class=\"calibre4\">Los Angeles Times</i> book review by Robert Scheer summed up a portion of it:</p>\\n<p class=\"extract-i\">Arbatov understood all too well the failings of Soviet totalitarianism in comparison to the economy and politics of the West. It is clear from this candid and nuanced memoir that the movement for change had been developing steadily inside the highest corridors of power ever since the death of Stalin. Arbatov not only provides considerable evidence for the controversial notion that this change would have come about without foreign pressure, he insists that the U.S. military buildup during the Reagan years actually impeded this development.<sup class=\"calibre7\"><a id=\"fnint25\" class=\"calibre3\"/><a href=\"part0061_split_000.html#rfnint25\" class=\"calibre3\">25</a></sup></p>\\n<p class=\"indent\">George F. Kennan agrees. The former US ambassador to the Soviet Union, and father of the theory of “containment” of the same country, asserts that “the suggestion that any United States administration had the power to influence decisively the course of a tremendous domestic political upheaval in another great country on another side of the globe is simply childish.” He contends that the extreme militarization of American policy strengthened hard-liners in the Soviet Union. “Thus the general effect of Cold War extremism was to delay rather than hasten the great change that overtook the Soviet Union.”<sup class=\"calibre6\"><a id=\"fnint26\" class=\"calibre3\"/><a href=\"part0061_split_000.html#rfnint26\" class=\"calibre3\">26</a></sup></p>\\n<p class=\"indent1\">Though the arms-race spending undoubtedly damaged the fabric of the Soviet civilian economy and society even more than it did in the United States, this had been going on for 40 years by the time Mikhail Gorbachev came to power without the slightest hint of impending doom. Gorbachev’s close adviser, Aleksandr Yakovlev, when asked whether the Reagan administration’s higher military spending, combined with its “Evil Empire” rhetoric, forced the Soviet Union into a more conciliatory position, responded:</p>\\n<p class=\"extract-i\">It played no role. None. I can tell you that with the fullest responsibility. Gorbachev and I were ready for changes in our policy regardless of whether the American president was Reagan, or Kennedy, or someone even more liberal. It was clear that our military spending was enormous and we had to reduce it.<sup class=\"calibre7\"><a id=\"fnint27\" class=\"calibre3\"/><a href=\"part0061_split_000.html#rfnint27\" class=\"calibre3\">27</a></sup></p>\\n<p class=\"indent\">Understandably, some Russians might be reluctant to admit that they were forced to make revolutionary changes by their arch enemy, to admit that they lost the Cold War. However, on this question we don’t have to rely on the opinion of any individual, Russian or American. We merely have to look at the historical facts.</p>\\n<p class=\"indent\">From the late 1940s to around the mid-1960s, it was an American policy objective to <a id=\"page_18\" class=\"calibre3\"/>instigate the downfall of the Soviet government as well as several Eastern European regimes. Many hundreds of Russian exiles were organized, trained and equipped by the CIA, then sneaked back into their homeland to set up espionage rings, to stir up armed political struggle, and to carry out acts of assassination and sabotage, such as derailing trains, wrecking bridges, damaging arms factories and power plants, and so on. The Soviet government, which captured many of these men, was of course fully aware of who was behind all this.</p>\\n<p class=\"indent\">Compared to this policy, that of the Reagan administration could be categorized as one of virtual capitulation. Yet what were the fruits of this ultra-tough anti-communist policy? Repeated serious confrontations between the United States and the Soviet Union in Berlin, Cuba and elsewhere, the Soviet interventions into Hungary and Czechoslovakia, creation of the Warsaw Pact (in direct reaction to NATO), no <i class=\"calibre4\">glasnost</i>, no <i class=\"calibre4\">perestroika</i>, only pervasive suspicion, cynicism and hostility on both sides. It turned out that the Russians were human after all—they responded to toughness with toughness. And the corollary: there was for many years a close association between the amicability of US-Soviet relations and the number of Jews allowed to emigrate from the Soviet Union.<sup class=\"calibre6\"><a id=\"fnint28\" class=\"calibre3\"/><a href=\"part0061_split_000.html#rfnint28\" class=\"calibre3\">28</a></sup> Softness produced softness.</p>\\n<p class=\"indent3\">If there’s anyone to attribute the changes in the Soviet Union and Eastern Europe to, both the beneficial ones and those questionable, it is of course Mikhail Gorbachev and the activists he inspired. It should be remembered that Reagan was in office for over four years before Gorbachev came to power, and Thatcher for six years, but in that period of time nothing of any significance in the way of Soviet reform took place despite Reagan’s and Thatcher’s unremitting malice toward the communist state.</p>\\n<p class=\"indent\">The argument is frequently advanced that it’s easy in hindsight to disparage the American cold-war mania for a national security state—with all its advanced paranoia and absurdities, its NATO-supra-state-military juggernaut, its early-warning systems and air-raid drills, its nuclear silos and U-2s—but that after the War in Europe the Soviets did indeed appear to be a ten-foot- tall world-wide monster threat.</p>\\n<p class=\"indent\">This argument breaks up on the rocks of a single question, which was all one had to ask back then: Why would the Soviets want to invade Western Europe or bomb the United States? They clearly had nothing to gain by such actions except the almost certain destruction of their country, which they were painstakingly rebuilding once again after the devastation of the war.</p>\\n<p class=\"indent\">By the 1980s, the question that still dared not be asked had given birth to a $300 billion military budget and Star Wars.</p>\\n<p class=\"indent\">There are available, in fact, numerous internal documents from the State Department, the Defense Department, and the CIA from the postwar period, wherein one political analyst after another makes clear his serious skepticism of “The Soviet Threat”—revealing the Russians’ critical military weaknesses and/or questioning their alleged aggressive intentions—while high officials, including the president, were publicly presenting a message explicitly the opposite.<sup class=\"calibre6\"><a id=\"fnint29\" class=\"calibre3\"/><a href=\"part0061_split_000.html#rfnint29\" class=\"calibre3\">29</a></sup></p>\\n<p class=\"indent1\">Historian Roger Morris, former member of the National Security Council under Presidents Johnson and Nixon, described this phenomenon:</p>\\n<p class=\"extract-a\">Architects of U.S. policy would have to make their case “clearer than the truth,” and “bludgeon the mass mind of top government,” as Secretary of State Dean Acheson … puts it. They do. The new Central Intelligence Agency begins a systematic overstatement of Soviet military expenditures. Magically, the sclerotic Soviet economy is made to hum and climb on U.S. government charts. To Stalin’s horse-drawn army—complete with shoddy equipment, war- torn roads and spurious <a id=\"page_19\" class=\"calibre3\"/>morale—the Pentagon adds phantom divisions, then attributes invasion scenarios to the new forces for good measure.</p>\\n<p class=\"extract-indent\">U.S. officials “exaggerated Soviet capabilities and intentions to such an extent,” says a subsequent study of the archives, “that it is surprising anyone took them seriously.” Fed by somber government claims and reverberating public fear, the U.S. press and people have no trouble.<sup class=\"calibre7\"><a id=\"fnint30\" class=\"calibre3\"/><a href=\"part0061_split_000.html#rfnint30\" class=\"calibre3\">30</a></sup></p>\\n<p class=\"indent4\">Nonetheless, the argument insists, there were many officials in high positions who simply and sincerely misunderstood the Soviet signals. The Soviet Union was, after all, a highly oppressive and secretive society, particularly before Stalin died in 1953. Apropos of this, former conservative member of the British Parliament Enoch Powell observed in 1983:</p>\\n<p class=\"extract-i\">International misunderstanding is almost wholly voluntary: it is that contradiction in terms, intentional misunderstanding—a contradiction, because in order to misunderstand deliberately, you must at least suspect if not actually understand what you intend to misunderstand. … [The US misunderstanding of the USSR has] the function of sustaining a myth—the myth of the United States as “the last, best hope of mankind.” St. George and the Dragon is a poor show without a real dragon, the bigger and scalier the better, ideally with flames coming out of its mouth. The misunderstanding of Soviet Russia has become indispensable to the self-esteem of the American nation: he will not be regarded with benevolence who seeks, however ineffectually, to deprive them of it.<sup class=\"calibre7\"><a id=\"fnint31\" class=\"calibre3\"/><a href=\"part0061_split_000.html#rfnint31\" class=\"calibre3\">31</a></sup></p>\\n<p class=\"indent\">It can be argued as well that the belief of the Nazis in the great danger posed by the “International Jewish Conspiracy” must be considered before condemning the perpetrators of the Holocaust.</p>\\n<p class=\"indent\">Both the Americans and the Germans believed their own propaganda, or pretended to. In reading <i class=\"calibre4\">Mein Kampf</i>, one is struck by the fact that a significant part of what Hitler wrote about Jews reads very much like an American anti-communist writing about communists: He starts with the premise that the Jews (communists) are evil and want to dominate the world; then, any behavior which appears to contradict this is regarded as simply a ploy to fool people and further their evil ends; this behavior is always part of a conspiracy and many people are taken in. He ascribes to the Jews great, almost mystical, power to manipulate societies and economies. He blames Jews for the ills arising from the industrial revolution, e.g., class divisions and hatred. He decries the Jews’ internationalism and lack of national patriotism.</p>\\n<p class=\"indent\">There were of course those Cold Warriors whose take on the Kremlin was that its master plan for world domination was nothing so gross as an invasion of Western Europe or dropping bombs on the United States. The ever more subtle—one could say fiendishly-clever—plan was for subversion … from the inside … country by country … throughout the Third World … eventually surrounding and strangling the First World … verily an International Communist Conspiracy, “a conspiracy,” said Senator Joseph McCarthy, “on a scale so immense as to dwarf any previous such venture in the history of man.”</p>\\n<p class=\"indent\">This is the primary focus of this book: how the United States intervened all over the world to combat this conspiracy wherever and whenever it reared its ugly head.</p>\\n<p class=\"indent\">Did this International Communist Conspiracy actually exist?</p>\\n<p class=\"indent\">If it actually existed, why did the Cold Warriors of the CIA and other government agencies have to go to such extraordinary lengths of exaggeration? If they really and truly believed in the existence of a diabolic, monolithic International Communist Conspiracy, why did they have to invent so much about it to convince the American people, the Congress, and the rest of the world of its evil existence? Why did they have to stage manage, <a id=\"page_20\" class=\"calibre3\"/>entrap, plant evidence, plant stories, create phony documents? The following pages are packed with numerous anti-commiespeak examples of US-government and media inventions about “the Soviet threat”, “the Chinese threat”, and “the Cuban threat”. And all the while, at the same time, we were being flailed with scare stories: in the 1950s, there was “the Bomber Gap” between the US and the Soviet Union, and the “civil defense gap”. Then came “the Missile Gap”. Followed by “the Anti-ballistic missile (ABM) Gap”. In the 1980s, it was “the Spending Gap”. Finally, “the Laser Gap”. And they were all lies.</p>\\n<p class=\"indent3\">We now know that the CIA of Ronald Reagan and William Casey regularly “politicized intelligence assessments” to support the anti-Soviet bias of their administration, and suppressed reports, even those from its own analysts, which contradicted this bias. We now know that the CIA and the Pentagon regularly overestimated the economic and military strength of the Soviet Union, and exaggerated the scale of Soviet nuclear tests and the number of “violations” of existing test-ban treaties, which Washington then accused the Russians of.<sup class=\"calibre6\"><a id=\"fnint32\" class=\"calibre3\"/><a href=\"part0061_split_000.html#rfnint32\" class=\"calibre3\">32</a></sup> All to create a larger and meaner enemy, a bigger national security budget, and give security and meaning to the Cold Warriors’ own jobs.</p>\\n<p class=\"indent\">Post-Cold War, New-World-Order time, it looks good for the Military-Industrial-Intelligence Complex and their global partners in crime, the World Bank and the IMF. They’ve got their NAFTA, and soon their World Trade Organization. They’re dictating economic, political and social development all over the Third World and Eastern Europe. Moscow’s reaction to events anywhere is no longer a restraining consideration. The UN’s Code of Conduct on Transnational Corporations, 15 years in the making, is dead. Everything in sight is being deregulated and privatized. Capital prowls the globe with a ravenous freedom it hasn’t enjoyed since before World War I, operating free of friction, free of gravity. The world has been made safe for the transnational corporation.<sup class=\"calibre6\"><a id=\"fnint33\" class=\"calibre3\"/><a href=\"part0061_split_000.html#rfnint33\" class=\"calibre3\">33</a></sup></p>\\n<p class=\"indent\">Will this mean any better life for the multitudes than the Cold War brought? Any more regard for the common folk than there’s been since they fell off the cosmic agenda centuries ago? “By all means,” says Capital, offering another warmed-up version of the “trickle down” theory, the principle that the poor, who must subsist on table scraps dropped by the rich, can best be served by giving the rich bigger meals.</p>\\n<p class=\"indent\">The boys of Capital, they also chortle in their martinis about the death of socialism. The word has been banned from polite conversation. And they hope that no one will notice that every socialist experiment of any significance in the twentieth century—without exception—has either been crushed, overthrown, or invaded, or corrupted, perverted, subverted, or destabilized, or otherwise had life made impossible for it, by the United States. Not one socialist government or movement—from the Russian Revolution to the Sandinistas in Nicaragua, from Communist China to the FMLN in Salvador—not one was permitted to rise or fall solely on its own merits; not one was left secure enough to drop its guard against the all-powerful enemy abroad and freely and fully relax control at home.</p>\\n<p class=\"indent\">It’s as if the Wright brothers’ first experiments with flying machines all failed because the automobile interests sabotaged each test flight. And then the good and god-fearing folk of the world looked upon this, took notice of the consequences, nodded their collective heads wisely, and intoned solemnly: Man shall never fly.</p>\\n</body>\\n<body class=\"calibre\">\\n<p class=\"title1\" id=\"ch1\"><a id=\"page_21\" class=\"calibre1\"/><a href=\"part0002.html#rch1\" class=\"calibre1\">1. China 1945 to 1960s</a></p>\\n<p class=\"subtitle2\"><a href=\"part0002.html#rch1\" class=\"calibre1\">Was Mao Tse-tung just paranoid?</a></p>\\n<p class=\"indent\">For four years, numerous Americans, in high positions and obscure, sullenly harbored the conviction that World War II was “the wrong war against the wrong enemies”. Communism, they knew, was the only genuine adversary on America’s historical agenda. Was that not why Hitler had been ignored/tolerated/appeased/aided? So that the Nazi war machine would turn East and wipe Bolshevism off the face of the earth once and for all? It was just unfortunate that Adolf turned out to be such a megalomaniac and turned West as well.</p>\\n<p class=\"indent\">But that war was over. These Americans were now to have their day in every corner of the world. The ink on the Japanese surrender treaty was hardly dry when the United States began to use the Japanese soldiers still in China alongside American troops in a joint effort against the Chinese communists. (In the Philippines and in Greece, as we shall see, the US did not even wait for the war to end before subordinating the struggle against Japan and Germany to the anti-communist crusade.)</p>\\n<p class=\"indent\">The communists in China had worked closely with the American military during the war, providing important intelligence about the Japanese occupiers, rescuing and caring for downed US airmen.<sup class=\"calibre6\"><a id=\"fn1ch1\" class=\"calibre3\"/><a href=\"part0061_split_000.html#rfn1ch1\" class=\"calibre3\">1</a></sup> But no matter. Generalissimo Chiang Kai-shek would be Washington’s man. He headed what passed for a central government in China. The Office of Strategic Services (OSS, forerunner of the CIA) estimated that the bulk of Chiang’s military effort had been directed against the communists rather than the Japanese. He had also done his best to block the cooperation between the Reds and the Americans. Now his army contained Japanese units and his regime was full of officials who had collaborated with the Japanese and served in their puppet government.<sup class=\"calibre6\"><a id=\"fn2ch1\" class=\"calibre3\"/><a href=\"part0061_split_000.html#rfn2ch1\" class=\"calibre3\">2</a></sup> But no matter. The Generalissimo was as anti-communist as they come. Moreover, he was a born American client. His forces would be properly trained and equipped to do battle with the men of Mao Tse-tung and Chou Enlai.</p>\\n<p class=\"indent1\">President Truman was up front about what he described as “using the Japanese to hold off the Communists”:</p>\\n<p class=\"extract1\"><span class=\"display\">\\xa0\\xa0\\xa0</span>It was perfectly clear to us that if we told the Japanese to lay down their arms immediately and march to the seaboard, the entire country would be taken over by the Communists. We therefore had to take the unusual step of using the enemy as a garrison until we could airlift Chinese National [Chiang’s] troops to South China and send Marines to guard the seaports.<sup class=\"calibre7\"><a id=\"fn3ch1\" class=\"calibre3\"/><a href=\"part0061_split_000.html#rfn3ch1\" class=\"calibre3\">3</a></sup></p>\\n<p class=\"indent\">The deployment of American Marines had swift and dramatic results. Two weeks after the end of the war, Peking was surrounded by communist forces. Only the arrival of the Marines in the city prevented the Reds from taking it over.<sup class=\"calibre6\"><a id=\"fn4ch1\" class=\"calibre3\"/><a href=\"part0061_split_000.html#rfn4ch1\" class=\"calibre3\">4</a></sup> And while Mao’s forces were pushing into Shanghai’s suburbs, US transport planes dropped Chiang’s troops in to seize the city.<sup class=\"calibre6\"><a id=\"fn5ch1\" class=\"calibre3\"/><a href=\"part0061_split_000.html#rfn5ch1\" class=\"calibre3\">5</a></sup></p>\\n<p class=\"indent\">In a scramble to get to key centers and ports before the communists, the US transported between 400,000 and 500,000 Nationalist troops by ship and plane all over the vastness of China and Manchuria, places they could never have reached otherwise.</p>\\n<p class=\"indent\">As the civil war heated up, the 50,000 Marines sent by Truman were used to guard railway lines, coal mines, ports, bridges, and other strategic sites. Inevitably, they became involved in the fighting, sustaining dozens, if not hundreds of casualties. US troops, the <a id=\"page_22\" class=\"calibre3\"/>communists charged, attacked areas controlled by the Reds, directly opened fire on them, arrested military officers, and disarmed soldiers.<sup class=\"calibre6\"><a id=\"fn6ch1\" class=\"calibre3\"/><a href=\"part0061_split_000.html#rfn6ch1\" class=\"calibre3\">6</a></sup> The Americans found themselves blasting a small Chinese village “unmercifully”, wrote a Marine to his congressman, not knowing “how many innocent people were slaughtered”.<sup class=\"calibre6\"><a id=\"fn7ch1\" class=\"calibre3\"/><a href=\"part0061_split_000.html#rfn7ch1\" class=\"calibre3\">7</a></sup></p>\\n<p class=\"indent\">United States planes regularly made reconnaissance flights over communist territory to scout the position of their forces. The communists claimed that American planes frequently strafed and bombed their troops and in one instance machine-gunned a communist-held town.<sup class=\"calibre6\"><a id=\"fn8ch1\" class=\"calibre3\"/><a href=\"part0061_split_000.html#rfn8ch1\" class=\"calibre3\">8</a></sup> To what extent these attacks were carried out by US airmen is not known.</p>\\n<p class=\"indent\">There were, however, American survivors in some of the many crashes of United States aircraft. Surprisingly, the Reds continued to rescue them, tend to their wounds, and return them to US bases. It may be difficult to appreciate now, but at this time the mystique and the myth of “America” still gripped the imagination of people all over the world, and Chinese peasants, whether labeled “communist” or not, were no exception. During the war the Reds had helped to rescue scores of American fliers and had transported them through Japanese lines to safety. “The Communists”, wrote the <i class=\"calibre4\">New York Times</i>, “did not lose one airman taken under their protection. They made a point of never accepting rewards for saving American airmen.”<sup class=\"calibre6\"><a id=\"fn9ch1\" class=\"calibre3\"/><a href=\"part0061_split_000.html#rfn9ch1\" class=\"calibre3\">9</a></sup></p>\\n<p class=\"indent\">When 1946 arrived, about 100,000 American military personnel were still in China, still supporting Chiang. The official United States explanation for the presence of its military was that they were there to disarm and repatriate the Japanese. Though this task was indeed carried out eventually, it was secondary to the military’s political function, as Truman’s statement cited above makes abundantly clear.</p>\\n<p class=\"indent\">The American soldiers in China began to protest about not being sent home, a complaint echoed round the world by other GIs kept overseas for political (usually anti-communist) purposes. “They ask me, too, why they’re here,” said a Marine lieutenant in China at Christmas-time, 1945. “As an officer I am supposed to tell them, but you can’t tell a man that he’s here to disarm Japanese when he’s guarding the same railway with [armed] Japanese.”<sup class=\"calibre6\"><a id=\"fn10ch1\" class=\"calibre3\"/><a href=\"part0061_split_000.html#rfn10ch1\" class=\"calibre3\">10</a></sup></p>\\n<p class=\"indent\">Strangely enough, the United States attempted to mediate in the civil war; this, while being an active, powerful participant on one side. In January 1946, President Truman, apparently recognizing that it was either compromise with the communists or see all of China fall under their sway, sent General George Marshall to try and arrange a cease-fire and some kind of unspecified coalition government. While some temporary success was achieved in an on-and-off truce, the idea of a coalition government was doomed to failure, as unlikely as a marriage between the Czar and the Bolsheviks. As the historian D.F. Fleming has pointed out, “One cannot unite a dying oligarchy with a rising revolution.”<sup class=\"calibre6\"><a id=\"fn11ch1\" class=\"calibre3\"/><a href=\"part0061_split_000.html#rfn11ch1\" class=\"calibre3\">11</a></sup></p>\\n<p class=\"indent\">Not until early 1947 did the United States begin to withdraw some of its military forces, although aid and support to the Chiang government continued in one form or another long afterward. At about this same time, the Flying Tigers began to operate. The legendary American air squadron under the leadership of General Claire Chennault had fought for the Chinese against the Japanese before and during the world war. Now Chennault, Chiang’s former air force adviser, had reactivated the squadron (under the name CAT) and its pilots-of-fortune soon found themselves in the thick of the fray, flying endless supply missions to Nationalist cities under siege, dodging communist shell bursts to airlift food, ammunition, and supplies of all kinds, or to rescue the wounded.<sup class=\"calibre6\"><a id=\"fn12ch1\" class=\"calibre3\"/><a href=\"part0061_split_000.html#rfn12ch1\" class=\"calibre3\">12</a></sup> Technically, CAT was a private airline hired by the Chiang government, but before the civil war came to an end, the airline had formally interlocked with the CIA to become the first unit in the Agency’s sprawling air-empire-to-be, best known for the Air America line.</p>\\n<p class=\"indent\"><a id=\"page_23\" class=\"calibre3\"/>By 1949, United States aid to the Nationalists since the war amounted to almost $2 billion in cash and $1 billion worth of military hardware; 39 Nationalist army divisions had been trained and equipped.<sup class=\"calibre6\"><a id=\"fn13ch1\" class=\"calibre3\"/><a href=\"part0061_split_000.html#rfn13ch1\" class=\"calibre3\">13</a></sup> Yet the Chiang dynasty was collapsing all around in bits and pieces. It had not been only the onslaught of Chiang’s communist foes, but the hostility of the Chinese people at large to his tyranny, his wanton cruelty, and the extraordinary corruption and decadence of his entire bureaucratic and social system. By contrast, the large areas under communist administration were models of honesty, progress and fairness; entire divisions of the Generalissimo’s forces defected to the communists. American political and military leaders had no illusions about the nature and quality of Chiang’s rule. The Nationalist forces, said General David Barr, head of the US Military Mission in China, were under “the world’s worst leadership”.<sup class=\"calibre6\"><a id=\"fn14ch1\" class=\"calibre3\"/><a href=\"part0061_split_000.html#rfn14ch1\" class=\"calibre3\">14</a></sup></p>\\n<p class=\"indent\">The Generalissimo, his cohorts and soldiers fled to the offshore island of Taiwan (Formosa). They had prepared their entry two years earlier by terrorizing the islanders into submission—a massacre which took the lives of as many as 28,000 people.<sup class=\"calibre6\"><a id=\"fn15ch1\" class=\"calibre3\"/><a href=\"part0061_split_000.html#rfn15ch1\" class=\"calibre3\">15</a></sup> Prior to the Nationalists’ escape to the island, the US government entertained no doubts that Taiwan was a part of China. Afterward, uncertainty began to creep into the minds of Washington officials. The crisis was resolved in a remarkably simple manner: the US agreed with Chiang that the proper way to view the situation was not that Taiwan belonged to China, but that Taiwan <i class=\"calibre4\">was</i> China. And so it was called.</p>\\n<p class=\"indent\">In the wake of the communist success, China scholar Felix Greene observed, “Americans simply could not bring themselves to believe that the Chinese, however rotten their leadership, could have preferred a communist government.”<sup class=\"calibre6\"><a id=\"fn16ch1\" class=\"calibre3\"/><a href=\"part0061_split_000.html#rfn16ch1\" class=\"calibre3\">16</a></sup> It must have been the handiwork of a conspiracy, an international conspiracy, at the control panel of which sat, not unexpectedly, the Soviet Union. The evidence for this, however, was thin to the point of transparency. Indeed, ever since Stalin’s credo of “socialism in one country” won out over Trotsky’s internationalism in the 1920s, the Russians had sided with Chiang more than with Mao, advising the latter more than once to dissolve his army and join Chiang’s government.<sup class=\"calibre6\"><a id=\"fn17ch1\" class=\"calibre3\"/><a href=\"part0061_split_000.html#rfn17ch1\" class=\"calibre3\">17</a></sup> Particularly in the post-World War II years, when the Soviet Union was faced with its own staggering crisis of reconstruction, did it not relish the prospect of having to help lift the world’s most populous nation into the modern age. In 1947, General Marshall stated publicly that he knew of no evidence that the Chinese communists were being supported by the USSR.<sup class=\"calibre6\"><a id=\"fn18ch1\" class=\"calibre3\"/><a href=\"part0061_split_000.html#rfn18ch1\" class=\"calibre3\">18</a></sup></p>\\n<p class=\"indent\">But in the United States this did not prevent the rise of an entire mythology of how the US had “lost” China: Soviet intervention, State Department communists, White House cowards, military and diplomatic folly, communist dupes and fellow-travelers in the media … treachery everywhere …</p>\\n<p class=\"indent\">The Truman administration, said Senator Joseph McCarthy with characteristic charm, was composed of “egg-sucking phony liberals” who protected the “Communists and queers” who had “sold China into atheistic slavery”.<sup class=\"calibre6\"><a id=\"fn19ch1\" class=\"calibre3\"/><a href=\"part0061_split_000.html#rfn19ch1\" class=\"calibre3\">19</a></sup></p>\\n<p class=\"indent1\">Yet, short of an all-out invasion of the country by large numbers of American troops, it is difficult to see what more the US government could have done to prevent Chiang’s downfall. Even after Chiang fled to Taiwan, the United States pursued a campaign of relentless assaults against the communist government, despite a request from Chou En-lai for aid and friendship. The Red leader saw no practical or ideological bar to this.<sup class=\"calibre6\"><a id=\"fn20ch1\" class=\"calibre3\"/><a href=\"part0061_split_000.html#rfn20ch1\" class=\"calibre3\">20</a></sup> Instead, the United States evidently conspired to assassinate Chou on several occasions.<sup class=\"calibre6\"><a id=\"fn21ch1\" class=\"calibre3\"/><a href=\"part0061_split_000.html#rfn21ch1\" class=\"calibre3\">21</a></sup></p>\\n<p class=\"indent\">Many Nationalist soldiers had taken refuge in northern Burma in the great exodus of 1949, much to the displeasure of the Burmese Government. There, the CIA began to <a id=\"page_24\" class=\"calibre3\"/>regroup this stateless army into a fighting force, and during the early 1950s a number of large- and small-scale incursions into China were carried out. In one instance, in April 1951, a few thousand troops, accompanied by CIA advisers and supplied by air drops from American C46s and C47s, crossed the border into China’s Yunnan province, but they were driven back by the communists in less than a week. The casualties were high and included several CIA advisers who lost their lives. Another raid that summer took the invaders 65 miles into China where they reportedly held a 100-mile-long strip of territory.</p>\\n<p class=\"indent\">While the attacks continued intermittently, the CIA proceeded to build up the force’s capabilities: American engineers arrived to help construct and expand airstrips in Burma, fresh troops were flown in from Taiwan, other troops were recruited from amongst Burmese hill tribes, CIA air squadrons were brought in for logistical services, and enormous quantities of American heavy arms were ferried in. Much of the supply of men and equipment came in via nearby Thailand.</p>\\n<p class=\"indent\">The army soon stood at more than 10,000 men. By the end of 1952, Taiwan claimed that 41,000 communist troops had been killed and more than 3,000 wounded. The figures were most likely exaggerated, but even if not, it was clear that the raids would not lead to Chiang’s triumphant return to the mainland—although this was not their sole purpose. On the Chinese border two greater battles were raging: in Korea and Vietnam. It was the hope of the United States to force the Chinese to divert troops and military resources away from these areas. The infant People’s Republic of China was undergoing a terrible test.</p>\\n<p class=\"indent\">In between raids on China, the “Chinats” (as distinguished from the “Chicoms”) found time to clash frequently with Burmese troops, indulge in banditry, and become the opium barons of The Golden Triangle, that slice of land encompassing parts of Burma, Laos and Thailand which was the world’s largest source of opium and heroin. CIA pilots flew the stuff all over, to secure the cooperation of those in Thailand who were important to the military operation, as a favor to their Nationalist clients, perhaps even for the money, and, ironically, to serve as cover for their more illicit activities.</p>\\n<p class=\"indent\">The Chinats in Burma kept up their harassment of the Chicoms until 1961 and the CIA continued to supply them militarily, but at some point the Agency began to phase itself out of a more direct involvement. When the CIA, in response to repeated protests by the Burmese Government to the United States and the United Nations, put pressure on the Chinats to leave Burma, Chiang responded by threatening to expose the Agency’s covert support of his troops there. At an earlier stage, the CIA had entertained the hope that the Chinese would be provoked into attacking Burma, thereby forcing the strictly neutral Burmese to seek salvation in the Western camp.<sup class=\"calibre6\"><a id=\"fn22ch1\" class=\"calibre3\"/><a href=\"part0061_split_000.html#rfn22ch1\" class=\"calibre3\">22</a></sup> In January 1961, the Chinese did just that, but as part of a combined force with the Burmese to overwhelm the Nationalists’ main base and mark <i class=\"calibre4\">finis</i> to their Burmese adventure. Burma subsequently renounced American aid and moved closer to Peking.<sup class=\"calibre6\"><a id=\"fn23ch1\" class=\"calibre3\"/><a href=\"part0061_split_000.html#rfn23ch1\" class=\"calibre3\">23</a></sup> For many of the Chinats, unemployment was short-lived. They soon signed up with the CIA again; this time to fight with the Agency’s grand army in Laos.</p>\\n<p class=\"indent\">Burma was not the only jumping-off site for CIA-organized raids into China. Several islands within about five miles of the Chinese coast, particularly Quemoy and Matsu, were used as bases for hit-and-run attacks, often in battalion strength, for occasional bombing forays, and to blockade mainland ports. Chiang was “brutally pressured” by the US to build up his troops on the islands beginning around 1953 as a demonstration of Washington’s new policy of “unleashing” him.<sup class=\"calibre6\"><a id=\"fn24ch1\" class=\"calibre3\"/><a href=\"part0061_split_000.html#rfn24ch1\" class=\"calibre3\">24</a></sup></p>\\n<p class=\"indent\">The Chinese retaliated several times with heavy artillery attacks on Quemoy, on one occasion killing two American military officers. The prospect of an escalated war led the US <a id=\"page_25\" class=\"calibre3\"/>later to have second thoughts and to ask Chiang to abandon the islands, but he then refused. The suggestion has often been put forward that Chiang’s design was to embroil the United States in just such a war as his one means of returning to the mainland.<sup class=\"calibre6\"><a id=\"fn25ch1\" class=\"calibre3\"/><a href=\"part0061_split_000.html#rfn25ch1\" class=\"calibre3\">25</a></sup></p>\\n<p class=\"indent\">Many incursions into China were made by smaller, commando-type teams air-dropped in for intelligence and sabotage purposes. In November 1952, two CIA officers, John Downey and Richard Fecteau, who had been engaged in flying these teams in and dropping supplies to them, were shot down and captured by the communists. Two years passed before Peking announced the capture and sentencing of the two men. The State Department broke its own two-year silence with indignation, claiming that the two men had been civilian employees of the US Department of the Army in Japan who were presumed lost on a flight from Korea to Japan. “How they came into the hands of the Chinese Communists is unknown to the United States … the continued wrongful detention of these American citizens furnishes further proof of the Chinese Communist regime’s disregard for accepted practices of international conduct.”<sup class=\"calibre6\"><a id=\"fn26ch1\" class=\"calibre3\"/><a href=\"part0061_split_000.html#rfn26ch1\" class=\"calibre3\">26</a></sup></p>\\n<p class=\"indent\">Fecteau was released in December 1971, shortly before President Nixon’s trip to China; Downey was not freed until March 1973, soon after Nixon publicly acknowledged him to be a CIA officer.</p>\\n<p class=\"indent\">The Peking announcement in 1954 also revealed that eleven American airmen had been shot down over China in January 1953 while on a mission which had as its purpose the “air-drop of special agents into China and the Soviet Union”. These men were luckier, being freed after only 2 1/2 years. All told, said the Chinese, they had killed 106 American and Taiwanese agents who had parachuted into China between 1951 and 1954 and had captured 124 others. Although the CIA had little, if anything, to show for its commando actions, it reportedly maintained the program until at least 1960.<sup class=\"calibre6\"><a id=\"fn27ch1\" class=\"calibre3\"/><a href=\"part0061_split_000.html#rfn27ch1\" class=\"calibre3\">27</a></sup></p>\\n<p class=\"indent\">There were many other CIA flights over China for purely espionage purposes, carried out by high-altitude U-2 planes, pilotless “drones”, and other aircraft. These overflights began around the late 1950s and were not discontinued until 1971, to coincide with Henry Kissinger’s first visit to Peking. The operation was not without incident. Several U-2 planes were shot down and even more of the drones, 19 of the latter by Chinese count between 1964 and 1969. China registered hundreds of “serious warnings” about violations of its air space, and on at least one occasion American aircraft crossed the Chinese border and shot down a Mig-17.<sup class=\"calibre6\"><a id=\"fn28ch1\" class=\"calibre3\"/><a href=\"part0061_split_000.html#rfn28ch1\" class=\"calibre3\">28</a></sup></p>\\n<p class=\"indent1\">It would seem that no degree of failure or paucity of result was enough to deter the CIA from seeking new ways to torment the Chinese in the decade following their revolution. Tibet was another case in point. The Peking government claimed Tibet as part of China, as had previous Chinese governments for more than two centuries, although many Tibetans still regarded themselves as autonomous or independent. The United States made its position clear during the war:</p>\\n<p class=\"extract-3a\"><span class=\"display\">\\xa0\\xa0\\xa0</span>The Government of the United States has borne in mind the fact that the Chinese Government has long claimed suzerainty over Tibet and that the Chinese constitution lists Tibet among areas constituting the territory of the Republic of China. This Government has at no time raised a question regarding either of these claims.<sup class=\"calibre7\"><a id=\"fn29ch1\" class=\"calibre3\"/><a href=\"part0061_split_000.html#rfn29ch1\" class=\"calibre3\">29</a></sup></p>\\n<p class=\"indent2\">After the communist revolution, Washington officials tended to be more equivocal about the matter. But US actions against Tibet had nothing to do with the niceties of international law.</p>\\n<p class=\"indent\">In the mid-1950s, the CIA began to recruit Tibetan refugees and exiles in neighboring countries such as India and Nepal. Amongst their number were members of the Dalai <a id=\"page_26\" class=\"calibre3\"/>Lama’s guard, often referred to picturesquely as “the fearsome Khamba horsemen”, and others who had already engaged in some guerrilla activity against Peking rule and/or the profound social changes being instituted by the revolution. (Serfdom and slavery were, literally, still prevalent in Tibet.) Those selected were flown to the United States, to an unused military base high in the Colorado mountains, an altitude approximating that of their mountainous homeland. There, hidden away as much as possible from the locals, they were trained in the fine points of paramilitary warfare.</p>\\n<p class=\"indent\">After completing training, each group of Tibetans was flown to Taiwan or another friendly Asian country, thence to be infiltrated back into Tibet, or elsewhere in China, where they occupied themselves in activities such as sabotage, mining roads, cutting communication lines, and ambushing small communist forces. Their actions were supported by CIA aircraft and on occasion led by Agency contract mercenaries. Extensive support facilities were constructed in northeast India.</p>\\n<p class=\"indent\">The operation in Colorado was maintained until some time in the 1960s. How many hundreds of Tibetans passed through the course of instruction will probably never be known. Even after the formal training program came to an end, the CIA continued to finance and supply their exotic clients and nurture their hopeless dream of reconquering their homeland.</p>\\n<p class=\"indent\">In 1961, when the <i class=\"calibre4\">New York Times</i> got wind of the Colorado operation, it acceded to a Pentagon request to probe no further.<sup class=\"calibre6\"><a id=\"fn30ch1\" class=\"calibre3\"/><a href=\"part0061_split_000.html#rfn30ch1\" class=\"calibre3\">30</a></sup> The matter was particularly sensitive because the CIA’s 1947 charter and Congress’s interpretation of it had traditionally limited the Agency’s domestic operations to information collection.</p>\\n<p class=\"indent\">Above and beyond the bedevilment of China on its own merits, there was the spillover from the Korean war into Chinese territory—numerous bombings and strafings by American planes which, the Chinese frequently reported, took civilian lives and destroyed homes. And there was the matter of germ warfare.</p>\\n<p class=\"indent1\">The Chinese devoted a great deal of effort to publicizing their claim that the United States, particularly during January to March 1952, had dropped quantities of bacteria and bacteria-laden insects over Korea and northeast China. It presented testimony of about 38 captured American airmen who had purportedly flown the planes with the deadly cargo. Many of the men went into voluminous detail about the entire operation: the kinds of bombs and other containers dropped, the types of insects, the diseases they carried, etc. At the same time, photographs of the alleged germ bombs and insects were published. Then, in August, an “International Scientific Committee” was appointed, composed of scientists from Sweden, France, Great Britain, Italy, Brazil and the Soviet Union. After an investigation in China of more than two months, the committee produced a report of some 600 pages, many photos, and the conclusion that:</p>\\n<p class=\"extract1\"><span class=\"display\">\\xa0\\xa0\\xa0</span>The peoples of Korea and China have indeed been the objectives of bacteriological weapons. These have been employed by units of the U.S.A. armed forces, using a great variety of different methods for the purpose, some of which seem to be developments of those applied by the Japanese during the second world war.<sup class=\"calibre7\"><a id=\"fn31ch1\" class=\"calibre3\"/><a href=\"part0061_split_000.html#rfn31ch1\" class=\"calibre3\">31</a></sup></p>\\n<p class=\"indent\">The last reference has to do with the bacteriological warfare experiments the Japanese had carried out against China between 1940 and 1942. The Japanese scientists responsible for this program were captured by the United States in 1945 and given immunity from prosecution in return for providing technical information about the experiments to American scientists from the Army biological research center at Fort Detrick, Maryland. The Chinese were aware of this at the time of the International Scientific Committee’s investigation.<sup class=\"calibre6\"><a id=\"fn32ch1\" class=\"calibre3\"/><a href=\"part0061_split_000.html#rfn32ch1\" class=\"calibre3\">32</a></sup></p>\\n<p class=\"indent\"><a id=\"page_27\" class=\"calibre3\"/>It should be noted that some of the American airmen’s statements contained so much technical biological information and were so full of communist rhetoric—“imperialist, capitalist Wall Street war monger” and the like—that their personal authorship of the statements must be seriously questioned. Moreover, it was later learned that most of the airmen had confessed only after being subjected to physical abuse.<sup class=\"calibre6\"><a id=\"fn33ch1\" class=\"calibre3\"/><a href=\"part0061_split_000.html#rfn33ch1\" class=\"calibre3\">33</a></sup></p>\\n<p class=\"indent\">But in view of what we have since learned about American involvement with chemical and biological weapons, the Chinese claims cannot be dismissed out of hand. In 1970, for example, the <i class=\"calibre4\">New York Times</i> reported that during the Korean War, when US forces were overwhelmed by “human waves” of Chinese, “the Army dug into captured Nazi chemical warfare documents describing Sarin, a nerve gas so lethal that a few pounds could kill thousands of people in minutes. … By the mid-nineteen-fifties, the Army was manufacturing thousands of gallons of Sarin.”<sup class=\"calibre6\"><a id=\"fn34ch1\" class=\"calibre3\"/><a href=\"part0061_split_000.html#rfn34ch1\" class=\"calibre3\">34</a></sup></p>\\n<p class=\"indent\">And during the 1950s and 1960s, the Army and the CIA conducted numerous experiments with biological agents within the United States. To cite just two examples: In 1955, there is compelling evidence that the CIA released whooping-cough bacteria into the open air in Florida, followed by an extremely sharp increase in the incidence of the disease in the state that year.<sup class=\"calibre6\"><a id=\"fn35ch1\" class=\"calibre3\"/><a href=\"part0061_split_000.html#rfn35ch1\" class=\"calibre3\">35</a></sup> The following year, another toxic substance was disseminated in the streets and tunnels of New York City.<sup class=\"calibre6\"><a id=\"fn36ch1\" class=\"calibre3\"/><a href=\"part0061_split_000.html#rfn36ch1\" class=\"calibre3\">36</a></sup></p>\\n<p class=\"indent1\">We will also see in the chapter on Cuba how the CIA conducted chemical and biological warfare against Fidel Castro’s rule.</p>\\n<p class=\"indent1\">In March 1966, Secretary of State Dean Rusk spoke before a congressional committee about American policy toward China. Mr. Rusk, it seems, was perplexed that “At times the Communist Chinese leaders seem to be obsessed with the notion that they are being threatened and encircled.” He spoke of China’s “imaginary, almost pathological, notion that the United States and other countries around its borders are seeking an opportunity to invade mainland China and destroy the Peiping [Peking] regime”. The Secretary then added:</p>\\n<p class=\"extract1\"><span class=\"display\">\\xa0\\xa0\\xa0</span>How much Peiping’s “fear” of the United States is genuine and how much it is artificially induced for domestic political purposes only the Chinese Communist leaders themselves know. I am convinced, however, that their desire to expel our influence and activity from the western Pacific and Southeast Asia is not motivated by fears that we are threatening them.<sup class=\"calibre7\"><a id=\"fn37ch1\" class=\"calibre3\"/><a href=\"part0061_split_000.html#rfn37ch1\" class=\"calibre3\">37</a></sup></p></body>\\n<body class=\"calibre\">\\n<p class=\"title1\" id=\"ch2\"><a href=\"part0002.html#rch2\" class=\"calibre1\">2. Italy 1947-1948</a></p>\\n<p class=\"subtitle2\"><a href=\"part0002.html#rch2\" class=\"calibre1\">Free elections, Hollywood style</a></p>\\n<p class=\"indent\">“Those who do not believe in the ideology of the United States, shall not be allowed to stay in the United States,” declared the American Attorney General, Tom Clark, in January 1948.<sup class=\"calibre6\"><a id=\"fn1ch2\" class=\"calibre3\"/><a href=\"part0061_split_000.html#rfn1ch2\" class=\"calibre3\">1</a></sup></p>\\n<p class=\"indent\">In March, the Justice Department, over which Clark presided, determined that Italians who did not believe in the ideology of the United States would not be allowed to emigrate to, or even enter, the United States.</p>\\n<p class=\"indent\">This was but one tactic in a remarkable American campaign to ensure that Italians who did not believe in the ideology of the United States would not be allowed to form a government <a id=\"page_28\" class=\"calibre3\"/>of a differing ideology in Italy in their election of 1948.</p>\\n<p class=\"indent\">Two years earlier, the Italian Communist Party (PCI), one of the largest in the world, and the Socialist Party (PSI) had together garnered more votes and more seats in the Constituent Assembly election than the Christian Democrats. But the two parties of the left had run separate candidates and thus had to be content with some ministerial posts in a coalition cabinet under a Christian Democrat premier. The results, nonetheless, spoke plainly enough to put the fear of Marx into the Truman administration.</p>\\n<p class=\"indent\">For the 1948 election, scheduled for 18 April, the PCI and PSI united to form the Popular Democratic Front (FDP) and in February won municipal elections in Pescara with a 10 percent increase in their vote over 1946. The Christian Democrats ran a poor second. The prospect of the left winning control of the Italian government loomed larger than ever before. It was at this point that the US began to train its big economic and political guns upon the Italian people. All the good ol’ Yankee know-how, all the Madison Avenue savvy in the art of swaying public opinion, all the Hollywood razzmatazz would be brought to bear on the “target market”.</p>\\n<p class=\"indent\">Pressing domestic needs in Italy, such as agricultural and economic reform, the absence of which produced abysmal extremes of wealth and poverty, were not to be the issues of the day. The lines of battle would be drawn around the question of “democracy” vs. “communism” (the idea of “capitalism” remaining discreetly to one side). The fact that the Communists had been the single most active anti-fascist group in Italy during the war, undergoing ruthless persecution, while the Christian Democrat government of 1948 and other electoral opponents on the right were riddled through with collaborators, monarchists and plain unreconstructed fascists … this too would be ignored; indeed, turned around. It was now a matter of Communist “dictatorship” vs. their adversaries’ love of “freedom”: this was presumed <i class=\"calibre4\">a priori</i>. As one example, a group of American congressmen visited Italy in summer 1947 and casually and arbitrarily concluded that “The country is under great pressure from within and without to veer to the left and adopt a totalitarian-collective national organization.”<sup class=\"calibre6\"><a id=\"fn2ch2\" class=\"calibre3\"/><a href=\"part0061_split_000.html#rfn2ch2\" class=\"calibre3\">2</a></sup></p>\\n<p class=\"indent\">To make any of this at all credible, the whole picture had to be pushed and squeezed into the frame of The American Way of Life vs. The Soviet Way of Life, a specious proposition which must have come as somewhat of a shock to leftists who regarded themselves as Italian and neither Russian nor American.</p>\\n<p class=\"indent\">In February 1948, after non-Communist ministers in Czechoslovakia had boycotted cabinet meetings over a dispute concerning police hiring practices, the Communist government dissolved the coalition cabinet and took sole power. The Voice of America pointed to this event repeatedly, as a warning to the Italian people of the fate awaiting them if Italy “went Communist” (and used as well by anti-communists for decades afterward as a prime example of communist duplicity). Yet, by all appearances, the Italian Christian Democrat government and the American government had conspired the previous year in an even more blatant usurpation of power.</p>\\n<p class=\"indent\">In January 1947, when Italian Premier Alcide de Gasperi visited Washington at the United States’ invitation, his overriding concern was to plead for crucial financial assistance for his war-torn, impoverished country. American officials may have had a different priority. Three days after returning to Italy, de Gasperi unexpectedly dissolved his cabinet, which included several Communists and Socialists. The press reported that many people in Italy believed that de Gasperi’s action was related to his visit to the United States and was aimed at decreasing leftist, principally Communist, influence in the government. After two weeks of tortuous delay, the formation of a center or center-right government sought by de <a id=\"page_29\" class=\"calibre3\"/>Gasperi proved infeasible; the new cabinet still included Communists and Socialists although the left had lost key positions, notably the ministries of foreign affairs and finance.</p>\\n<p class=\"indent\">From this point until May, when de Gasperi’s deputy, Ivan Lombardo, led a mission to Washington to renew the request for aid, promised loans were “frozen” by the United States for reasons not very clear. On several occasions during this period the Italian left asserted their belief that the aid was being held up pending the ouster of leftists from the cabinet. The <i class=\"calibre4\">New York Times</i> was moved to note that, “Some observers here feel that a further Leftward swing in Italy would retard aid.” As matters turned out, the day Lombardo arrived in Washington, de Gasperi again dissolved his entire cabinet and suggested that the new cabinet would manage without the benefit of leftist members. This was indeed what occurred, and over the ensuing few months, exceedingly generous American financial aid flowed into Italy, in addition to the cancelation of the nation’s $1 billion debt to the United States.<sup class=\"calibre6\"><a id=\"fn3ch2\" class=\"calibre3\"/><a href=\"part0061_split_000.html#rfn3ch2\" class=\"calibre3\">3</a></sup></p>\\n<p class=\"indent3\">At the very same time, France, which was also heavily dependent upon American financial aid, ousted all its Communist ministers as well. In this case there was an immediate rationale: the refusal of the Communist ministers to support Premier Ramadier in a vote of confidence over a wage freeze. Despite this, the ouster was regarded as a “surprise” and considered “bold” in France, and opinion was widespread that American loans were being used, or would be used, to force France to align with the US. Said Ramadier: “A little of our independence is departing from us with each loan we obtain.”<sup class=\"calibre6\"><a id=\"fn4ch2\" class=\"calibre3\"/><a href=\"part0061_split_000.html#rfn4ch2\" class=\"calibre3\">4</a></sup></p>\\n<p class=\"indent\">As the last month of the 1948 election campaign began, <i class=\"calibre4\">Time</i> magazine pronounced the possible leftist victory to be “the brink of catastrophe”.<sup class=\"calibre6\"><a id=\"fn5ch2\" class=\"calibre3\"/><a href=\"part0061_split_000.html#rfn5ch2\" class=\"calibre3\">5</a></sup></p>\\n<p class=\"indent1\">“It was primarily this fear,” William Colby, former Director of the CIA, has written, “that had led to the formation of the Office of Policy Coordination, which gave the CIA the capability to undertake covert political, propaganda, and paramilitary operations in the first place.”<sup class=\"calibre6\"><a id=\"fn6ch2\" class=\"calibre3\"/><a href=\"part0061_split_000.html#rfn6ch2\" class=\"calibre3\">6</a></sup> But covert operations, as far as is known, played a relatively minor role in the American campaign to break the back of the Italian left. It was the very overtness of the endeavor, without any apparent embarrassment, that stamps the whole thing with such uniqueness and arrogance—one might say swagger. The fortunes of the FDP slid downhill with surprising acceleration in the face of an awesome mobilization of resources such as the following:<sup class=\"calibre6\"><a id=\"fn7ch2\" class=\"calibre3\"/><a href=\"part0061_split_000.html#rfn7ch2\" class=\"calibre3\">7</a></sup></p>\\n<p class=\"hangindent\">•<span class=\"display\">\\xa0\\xa0</span><span class=\"spaces\"/>A massive letter writing campaign from Americans of Italian extraction to their relatives and friends in Italy—at first written by individuals in their own words or guided by “sample letters” in newspapers, soon expanded to mass-produced, pre-written, postage-paid form letters, cablegrams, “educational circulars”, and posters, needing only an address and signature. And—from a group calling itself The Committee to Aid Democracy in Italy—half a million picture postcards illustrating the gruesome fate awaiting Italy if it voted for “dictatorship” or “foreign dictatorship”. In all, an estimated 10 million pieces of mail were written and distributed by newspapers, radio stations, churches, the American Legion, wealthy individuals, etc.; and business advertisements now included offers to send letters airmail to Italy even if you didn’t buy the product. All this with the publicly expressed approval of the Acting Secretary of State and the Post Office which inaugurated special “Freedom Flights” to give greater publicity to the dispatch of the mail to Italy.</p>\\n<p class=\"hangindent-1a\"><span class=\"display\">\\xa0\\xa0\\xa0\\xa0</span>The form letters contained messages such as: “A communist victory would ruin Italy. The United States would withdraw aid and a world war would probably result.” … “We implore you not to throw our beautiful Italy into the arms of that cruel despot communism. America hasn’t anything against communism in Russia [sic], but why impose it on other people, other lands, in that way putting out the torch of liberty?” … “If the forces of true democracy should lose in the Italian <a id=\"page_30\" class=\"calibre3\"/>election, the American Government will not send any more money to Italy and we won’t send any more money to you, our relatives.”</p>\\n<p class=\"hangindent-1a\"><span class=\"display\">\\xa0\\xa0\\xa0\\xa0</span>These were by no means the least sophisticated of the messages. Other themes emphasized were Russian domination of Italy, loss of religion and the church, loss of family life, loss of home and land.</p>\\n<p class=\"hangindent-1a\"><span class=\"display\">\\xa0\\xa0\\xa0\\xa0</span>Veteran newsman Howard K. Smith pointed out at the time that “For an Italian peasant a telegram from anywhere is a wondrous thing; and a cable from the terrestrial paradise of America is not lightly to be disregarded.”</p>\\n<p class=\"hangindent-1a\"><span class=\"display\">\\xa0\\xa0\\xa0\\xa0</span>The letters threatening to cut off gifts may have been equally intimidating. “Such letters,” wrote a Christian Democrat official in an Italian newspaper, “struck home in southern Italian and Sicilian villages with the force of lightning.” A 1949 poll indicated that 16 percent of Italians claimed relatives in the United States with whom they were in touch; this, apparently, was in addition to friends there.</p>\\n<p class=\"hangindent\">•<span class=\"display\">\\xa0\\xa0</span><span class=\"spaces\"/>The State Department backed up the warnings in the letters by announcing that “If the Communists should win … there would be no further question of assistance from the United States.” The Italian left felt compelled to regularly assure voters that this would not really happen; this, in turn, inspired American officials, including Secretary of State George Marshall, to repeat the threat. (Marshall was awarded the Nobel Peace Prize in 1953.)</p>\\n<p class=\"hangindent\">•<span class=\"display\">\\xa0\\xa0</span><span class=\"spaces\"/>A daily series of direct short-wave broadcasts to Italy backed by the State Department and featuring prominent Americans. (The State Department estimated that there were 1.2 million shortwave receivers in Italy as of 1946.) The Attorney General went on the air and assured the Italian people that the election was a “choice between democracy and communism, between God and godlessness, between order and chaos.” William Donovan, the wartime head of the OSS (forerunner of the CIA) warned that “under a communist dictatorship in Italy,” many of the “nation’s industrial plants would be dismantled and shipped to Russia and millions of Italy’s workers would be deported to Russia for forced labor.” If this were not enough to impress the Italian listeners, a parade of unknown but passionate refugees from Eastern Europe went before the microphone to recount horror stories of life behind “The Iron Curtain”.</p>\\n<p class=\"hangindent\">•<span class=\"display\">\\xa0\\xa0</span><span class=\"spaces\"/>Several commercial radio stations broadcast to Italy special services held in American Catholic churches to pray for the Pope in “this, his most critical hour”. On one station, during an entire week, hundreds of Italian-Americans from all walks of life delivered one-minute messages to Italy which were relayed through the short-wave station. Station WOV in New York invited Italian war brides to transcribe a personal message to their families back home. The station then mailed the recordings to Italy.</p>\\n<p class=\"hangindent\">•<span class=\"display\">\\xa0\\xa0</span><span class=\"spaces\"/>Voice of America daily broadcasts into Italy were sharply increased, highlighting news of American assistance or gestures of friendship to Italy. A sky-full of show-biz stars, including Frank Sinatra and Gary Cooper, recorded a series of radio programs designed to win friends and influence the vote in Italy. Five broadcasts of Italian-American housewives were aired, and Italian-Americans with some leftist credentials were also enlisted for the cause. Labor leader Luigi Antonini called upon Italians to “smash the Muscovite fifth column” which “follows the orders of the ferocious Moscow tyranny,” or else Italy would become an “enemy totalitarian country”.</p>\\n<p class=\"hangindent-1a\"><span class=\"display\">\\xa0\\xa0\\xa0\\xa0</span>To counter Communist charges in Italy that negroes in the United States were denied opportunities, the VOA broadcast the story of a negro couple who had made a fortune in the junk business and built a hospital for their people in Oklahoma City. (It should be remembered that in 1948 American negroes had not yet reached the status of second-class citizens.)</p>\\n<p class=\"hangindent\">•<span class=\"display\">\\xa0\\xa0</span><span class=\"spaces\"/>Italian radio stations carried a one-hour show from Hollywood put on to raise money for the orphans of Italian pilots who had died in the war. (It was not reported if the same was done for the orphans of German pilots.)</p>\\n<p class=\"hangindent\">•<span class=\"display\">\\xa0\\xa0</span><span class=\"spaces\"/>American officials in Italy widely distributed leaflets extolling US economic aid and staged exhibitions among low-income groups. The US Information Service presented an exhibition on “The Worker in America” and made extensive use of documentary and feature films to sell the <a id=\"page_31\" class=\"calibre3\"/>American way of life. It was estimated that in the period immediately preceding the election more than five million Italians each week saw American documentaries. The 1939 Hollywood film “Ninotchka”, which satirized life in Russia, was singled out as a particularly effective feature film. It was shown throughout working-class areas and the Communists made several determined efforts to prevent its presentation. After the election, a pro-Communist worker was reported as saying that “What licked us was ‘Ninotchka’.”</p>\\n<p class=\"hangindent\">•<span class=\"display\">\\xa0\\xa0</span><span class=\"spaces\"/>The Justice Department served notice that Italians who joined the Communist Party would be denied that dream of so many Italians, emigration to America. The State Department then ruled that any Italians known to have <i class=\"calibre4\">voted</i> for the Communists would not be allowed to even <i class=\"calibre4\">enter</i> the terrestrial paradise. (A Department telegram to a New York politico read: “Voting Communist appears to constitute affiliation with Communist Party within meaning of Immigration Law and therefore would require exclusion from United States.”) It was urged that this information be emphasized in letters to Italy.</p>\\n<p class=\"hangindent\">•<span class=\"display\">\\xa0\\xa0</span><span class=\"spaces\"/>President Truman accused the Soviet Union of plotting the subjugation of Western Europe and called for universal military training in the United States and a resumption of military conscription to forestall “threatened communist control and police-state rule”. During the campaign, American and British warships were frequently found anchored off Italian ports. <i class=\"calibre4\">Time</i>, in an edition widely displayed and commented upon in Italy shortly before the election, gave its approval to the sentiment that “The U.S. should make it clear that it will use force, if necessary, to prevent Italy from going Communist.”<sup class=\"calibre7\"><a id=\"fn8ch2\" class=\"calibre3\"/><a href=\"part0061_split_000.html#rfn8ch2\" class=\"calibre3\">8</a></sup></p>\\n<p class=\"hangindent\">•<span class=\"display\">\\xa0\\xa0</span><span class=\"spaces\"/>The United States and Italy signed a ten-year treaty of “friendship, commerce and navigation”. This was the first treaty of its kind entered into by the US since the war, a point emphasized for Italian consumption.</p>\\n<p class=\"hangindent\">•<span class=\"display\">\\xa0\\xa0</span><span class=\"spaces\"/>A “Friendship Train” toured the United States gathering gifts and then traveled round Italy distributing them. The train was painted red, white and blue, and bore large signs expressing the friendship of American citizens toward the people of Italy.</p>\\n<p class=\"hangindent\">•<span class=\"display\">\\xa0\\xa0</span><span class=\"spaces\"/>The United States government stated that it favored Italian trusteeship over some of its former African colonies, such as Ethiopia and Libya, a wholly unrealistic proposal that could never come to pass in the post-war world. (The Soviet Union made a similar proposal.)</p>\\n<p class=\"hangindent\">•<span class=\"display\">\\xa0\\xa0</span><span class=\"spaces\"/>The US, Great Britain and France maneuvered the Soviet Union into vetoing, for the third time, a motion that Italy be admitted to the United Nations. (The first time, the Russians had expressed their opposition on the grounds that a peace treaty with Italy had not been signed. After the signing in 1947, they said they would accept the proposal if other World War II enemies, such as Bulgaria, Hungary and Rumania were also made members.)</p>\\n<p class=\"hangindent\">•<span class=\"display\">\\xa0\\xa0</span><span class=\"spaces\"/>The same three allied nations proposed to the Soviet Union that negotiations take place with a view to returning Trieste to Italy. Formerly the principal Italian port on the Adriatic coast, bordering Yugoslavia, Trieste had been made a “free city” under the terms of the peace treaty. The approval of the Soviet Union was necessary to alter the treaty, and the Western proposal was designed to put the Russians on the spot. The Italian people had an intense sentimental attachment to Trieste, and if the Russians rejected the proposal it could seriously embarrass the Italian Communists. A Soviet acceptance, however, would antagonize their Yugoslav allies. The US prodded the Russians for a response, but none was forthcoming. From the Soviet point of view, the most obvious and safest path to follow would have been to delay their answer until after the election. Yet they chose to announce their rejection of the proposal only five days before the vote, thus hammering another nail into the FDP coffin.</p>\\n<p class=\"hangindent\">•<span class=\"display\">\\xa0\\xa0</span><span class=\"spaces\"/>A “Manifesto of peace to freedom-loving Italians”, calling upon them to reject Communism, was sent to Premier de Gasperi. Its signatories included two former US Secretaries of State, a former Assistant Secretary of State, a former Attorney General, a former Supreme Court Justice, a former Governor of New York, the former first lady Eleanor Roosevelt, and many other prominent personages. This message was, presumably, suitably publicized throughout Italy, a task easy in the extreme inasmuch as an estimated 82 percent of Italian newspapers were in the hands of those unsympathetic to the leftist bloc.</p>\\n<p class=\"hangindent\">•<span class=\"display\">\\xa0\\xa0</span><span class=\"spaces\"/><a id=\"page_32\" class=\"calibre3\"/>More than 200 American labor leaders of Italian origin held a conference, out of which came a cable sent to 23 daily newspapers throughout Italy similarly urging thumbs down on the Reds. At the same time, the Italian-American Labor Council contributed $50,000 to anti-Communist labor organizations in Italy. The CIA was already secretly subsidizing such trade unions to counteract the influence of leftist unions,<sup class=\"calibre7\"><a id=\"fn9ch2\" class=\"calibre3\"/><a href=\"part0061_split_000.html#rfn9ch2\" class=\"calibre3\">9</a></sup> but this was standard Agency practice independent of electoral considerations. (According to a former CIA officer, when, in 1945, the Communists came very near to gaining control of labor unions, first in Sicily, then in all Italy and southern France, co-operation between the OSS and the Mafia successfully stemmed the tide.)<sup class=\"calibre7\"><a id=\"fn10ch2\" class=\"calibre3\"/><a href=\"part0061_split_000.html#rfn10ch2\" class=\"calibre3\">10</a></sup></p>\\n<p class=\"hangindent\">•<span class=\"display\">\\xa0\\xa0</span><span class=\"spaces\"/>The CIA, by its own later admission, gave $1 million to Italian “center parties”, a king’s ransom in Italy 1948,<sup class=\"calibre7\"><a id=\"fn11ch2\" class=\"calibre3\"/><a href=\"part0061_split_000.html#rfn11ch2\" class=\"calibre3\">11</a></sup> although another report places the figure at $10 million. The Agency also forged documents and letters purported to come from the PCI which were designed to put the party in a bad light and discredit its leaders; anonymous books and magazine articles funded by the CIA told in vivid detail about supposed communist activities in Eastern Europe and the Soviet Union; pamphlets dealt with PCI candidates’ sex and personal lives as well as smearing them with the fascist and/or anti-church brush.<sup class=\"calibre7\"><a id=\"fn12ch2\" class=\"calibre3\"/><a href=\"part0061_split_000.html#rfn12ch2\" class=\"calibre3\">12</a></sup></p>\\n<p class=\"hangindent\">•<span class=\"display\">\\xa0\\xa0</span><span class=\"spaces\"/>An American group featuring noted Italian-American musicians traveled to Rome to present a series of concerts.</p>\\n<p class=\"hangindent\">•<span class=\"display\">\\xa0\\xa0</span><span class=\"spaces\"/>President Truman chose a month before the election as the time to transfer 29 merchant ships to the Italian government as a “gesture of friendship and confidence in a democratic Italy”. (These were Italian vessels seized during the war and others to replace those seized and lost.)</p>\\n<p class=\"hangindent\">•<span class=\"display\">\\xa0\\xa0</span><span class=\"spaces\"/>Four days later, the House Appropriations Committee acted swiftly to approve $18.7 million in additional “interim aid” funds for Italy.</p>\\n<p class=\"hangindent\">•<span class=\"display\">\\xa0\\xa0</span><span class=\"spaces\"/>Two weeks later, the United States gave Italy $4.3 million as the first payment on wages due to 60,000 former Italian war prisoners in the US who had worked “voluntarily” for the Allied cause. This was a revision of the peace treaty which stipulated that the Italian government was liable for such payments.</p>\\n<p class=\"hangindent\">•<span class=\"display\">\\xa0\\xa0</span><span class=\"spaces\"/>Six days before election day, the State Department made it public that Italy would soon receive $31 million in gold in return for gold looted by the Nazis. (The fact that only a few years earlier Italy had been the “enemy” fighting alongside the Nazis was now but a dim memory.)</p>\\n<p class=\"hangindent\">•<span class=\"display\">\\xa0\\xa0</span><span class=\"spaces\"/>Two days later, the US government authorized two further large shipments of food to Italy, one for $8 million worth of grains. A number of the aid ships, upon their arrival in Italy during the election campaign, had been unloaded amid ceremony and a speech by the American ambassador.</p>\\n<p class=\"hangindent-1a\"><span class=\"display\">\\xa0\\xa0\\xa0\\xa0</span>A poster prominent in Italy read: “The bread that we eat—40 per cent Italian flour—60 per cent American flour sent free of charge.” The poster neglected to mention whether the savings were passed on to the consumer or served to line the pockets of the baking companies.</p>\\n<p class=\"hangindent\">•<span class=\"display\">\\xa0\\xa0</span><span class=\"spaces\"/>Four days before election day, the American Commission for the Restoration of Italian Monuments, Inc. announced an additional series of grants to the Italian Ministry of Fine Arts.</p>\\n<p class=\"hangindent\">•<span class=\"display\">\\xa0\\xa0</span><span class=\"spaces\"/>April 15 was designated “Free Italy Day” by the American Sympathizers for a Free Italy with nation-wide observances to be held.</p>\\n<p class=\"hangindenta\">•<span class=\"display\">\\xa0\\xa0</span><span class=\"spaces\"/>The American ambassador, James Clement Dunn, traveled constantly throughout Italy pointing out to the population “on every possible occasion what American aid has meant to them and their country”. At the last unloading of food, Dunn declared that the American people were saving Italy from starvation, chaos and possible domination from outside. His speeches usually received wide coverage in the non-left press. By contrast, the Italian government prohibited several of its own ambassadors abroad from returning home to campaign for the FDP.</p>\\n<p class=\"indent1\">In his historic speech of 12 March 1947, which came to be known as “The Truman Doctrine”, the president had proclaimed:</p>\\n<p class=\"hangindent-1a\"><span class=\"display\">\\xa0\\xa0\\xa0\\xa0</span>I believe it must be the policy of the United States to support free peoples who are resisting <a id=\"page_33\" class=\"calibre3\"/>attempted subjugation by armed minorities or by outside pressures. I believe that we must assist free peoples to work out their own destinies in their own way.<sup class=\"calibre7\"><a id=\"fn13ch2\" class=\"calibre3\"/><a href=\"part0061_split_000.html#rfn13ch2\" class=\"calibre3\">13</a></sup></p>\\n<p class=\"indent2\">It scarcely needs to be emphasized how hypocritical this promise proved to be, but the voices which spoke out in the United States against their government’s crusade in Italy were few and barely audible above the roar. The Italian-American Committee for Free Elections in Italy held a rally to denounce the propaganda blitz, declaring that “Thousands of Americans of Italian origin feel deeply humiliated by the continuous flow of suggestions, advice and pressure put on the Italians, as though they were unable to decide for themselves whom to elect.”<sup class=\"calibre6\"><a id=\"fn14ch2\" class=\"calibre3\"/><a href=\"part0061_split_000.html#rfn14ch2\" class=\"calibre3\">14</a></sup></p>\\n<p class=\"indent3\">The Progressive Party also went on record, stating: “As Americans we repudiate our Government’s threat to cut off food from Italy unless the election results please us. Hungry children must not go unfed because their parents do not vote as ordered from abroad.”<sup class=\"calibre6\"><a id=\"fn15ch2\" class=\"calibre3\"/><a href=\"part0061_split_000.html#rfn15ch2\" class=\"calibre3\">15</a></sup> The party’s candidate for president in 1948 was Henry Wallace, the former vice-president who was an outspoken advocate of genuine detente with the Soviet Union. History did not provide the opportunity to observe what the reaction would have been—amongst those who saw nothing wrong with what the United States was doing in Italy—if a similar campaign had been launched by the Soviet Union or the Italian left in the United States on behalf of Wallace.</p>\\n<p class=\"indent1\">Though some Italians must have been convinced at times that Stalin himself was the FDP’s principal candidate, the actual Soviet intervention in the election hardly merited a single headline. The American press engaged in speculation that the Russians were pouring substantial sums of money into the Communist Party’s coffers. However, a survey carried out by the Italian bureau of the United Press revealed that the anti-Communist parties spent 7 1/2 times as much as the FDP on all forms of propaganda, the Christian Democrats alone spending four times as much.<sup class=\"calibre6\"><a id=\"fn16ch2\" class=\"calibre3\"/><a href=\"part0061_split_000.html#rfn16ch2\" class=\"calibre3\">16</a></sup> As for other Soviet actions, Howard K. Smith presented this observation:</p>\\n<p class=\"extract-3a\"><span class=\"display\">\\xa0\\xa0\\xa0</span>The Russians tried to respond with a few feeble gestures for a while—some Italian war prisoners were released; some newsprint was sent to Italy and offered to all parties for their campaign. But there was no way of resisting what amounted to a tidal wave.</p>\\n<p class=\"extract-indent1\"><span class=\"display\">\\xa0\\xa0\\xa0\\xa0\\xa0\\xa0\\xa0\\xa0</span>There is evidence that the Russians found the show getting too rough for them and actually became apprehensive of what the American and British reaction to a Communist victory at the polls might be. (Russia’s concern about conflict with the West was also expressed within a month of the Italian elections in one of the celebrated Cominform letters to Tito, accusing the Yugoslavs of trying to involve the Soviets with the Western powers when “it should have been known … that the U.S.S.R. after such a heavy war could not start a new one”.)<sup class=\"calibre7\"><a id=\"fn17ch2\" class=\"calibre3\"/><a href=\"part0061_split_000.html#rfn17ch2\" class=\"calibre3\">17</a></sup></p>\\n<p class=\"indent2\">The evidence Smith was alluding to was the Soviet rejection of the Trieste proposal. By its timing, reported the <i class=\"calibre4\">New York Times</i>, “the unexpected procedure caused some observers to conclude that the Russians had thrown the Italian Communist Party overboard.”<sup class=\"calibre6\"><a id=\"fn18ch2\" class=\"calibre3\"/><a href=\"part0061_split_000.html#rfn18ch2\" class=\"calibre3\">18</a></sup> The party’s newspaper had a difficult time dealing with the story. Washington did as well, for it undermined the fundamental premise of the Italian campaign: that the Italian Communist Party and the Soviet Union were indistinguishable as to ends and means; that if you buy the one, you get the other as well. Thus the suggestion was put forth that perhaps the Soviet rejection was only a tactic to demonstrate that the US could not keep its promise on Trieste. But the Soviet announcement had not been accompanied by any such propaganda message, and it would not explain why the Russians had waited several weeks until near the crucial end to deliver its body blow to their Italian comrades. In any event, the United States could only come out smelling a lot sweeter than the Russians.</p>\\n<p class=\"indent\"><a id=\"page_34\" class=\"calibre3\"/>When the Broadway show had ended its engagement in Italy, the Christian Democrats stood as the clear winner with 48 percent of the vote. The leftist coalition had been humiliated with a totally unexpected polling of but 31 percent. It had been a crusade of the kind which Aneurin Bevan had ascribed to the Tories: “The whole art of Conservative politics in the 20th century,” the British Labour leader wrote, “is being deployed to enable wealth to persuade poverty to use its political freedom to keep wealth in power.”</p></body>\\n'"
      ]
     },
     "execution_count": 36,
     "metadata": {},
     "output_type": "execute_result"
    }
   ],
   "source": [
    "all_html"
   ]
  },
  {
   "cell_type": "code",
   "execution_count": null,
   "metadata": {
    "Collapsed": "false"
   },
   "outputs": [],
   "source": []
  },
  {
   "cell_type": "code",
   "execution_count": null,
   "metadata": {
    "Collapsed": "false"
   },
   "outputs": [],
   "source": []
  },
  {
   "cell_type": "code",
   "execution_count": 6,
   "metadata": {
    "Collapsed": "false"
   },
   "outputs": [
    {
     "data": {
      "text/plain": [
       "[('Killing Hope: U.S. and C.I.A. Interventions Since World War II', {})]"
      ]
     },
     "execution_count": 6,
     "metadata": {},
     "output_type": "execute_result"
    }
   ],
   "source": [
    "book.get_metadata('DC','title')"
   ]
  },
  {
   "cell_type": "code",
   "execution_count": 7,
   "metadata": {
    "Collapsed": "false"
   },
   "outputs": [
    {
     "data": {
      "text/plain": [
       "<generator object EpubBook.get_items.<locals>.<genexpr> at 0x000001F5EF3FA6D8>"
      ]
     },
     "execution_count": 7,
     "metadata": {},
     "output_type": "execute_result"
    }
   ],
   "source": [
    "book.get_items()"
   ]
  },
  {
   "cell_type": "code",
   "execution_count": 10,
   "metadata": {
    "Collapsed": "false"
   },
   "outputs": [
    {
     "name": "stdout",
     "output_type": "stream",
     "text": [
      "==================================\n",
      "NAME :  text/part0000.html\n",
      "==================================\n",
      "==================================\n",
      "NAME :  text/part0001.html\n",
      "==================================\n",
      "==================================\n",
      "NAME :  text/part0002.html\n",
      "==================================\n",
      "==================================\n",
      "NAME :  text/part0003.html\n",
      "==================================\n",
      "==================================\n",
      "NAME :  text/part0004.html\n",
      "==================================\n",
      "==================================\n",
      "NAME :  text/part0005.html\n",
      "==================================\n",
      "==================================\n",
      "NAME :  text/part0006.html\n",
      "==================================\n",
      "==================================\n",
      "NAME :  text/part0007.html\n",
      "==================================\n",
      "==================================\n",
      "NAME :  text/part0008.html\n",
      "==================================\n",
      "==================================\n",
      "NAME :  text/part0009.html\n",
      "==================================\n",
      "==================================\n",
      "NAME :  text/part0010.html\n",
      "==================================\n",
      "==================================\n",
      "NAME :  text/part0011.html\n",
      "==================================\n",
      "==================================\n",
      "NAME :  text/part0012.html\n",
      "==================================\n",
      "==================================\n",
      "NAME :  text/part0013.html\n",
      "==================================\n",
      "==================================\n",
      "NAME :  text/part0014.html\n",
      "==================================\n",
      "==================================\n",
      "NAME :  text/part0015.html\n",
      "==================================\n",
      "==================================\n",
      "NAME :  text/part0016.html\n",
      "==================================\n",
      "==================================\n",
      "NAME :  text/part0017.html\n",
      "==================================\n",
      "==================================\n",
      "NAME :  text/part0018.html\n",
      "==================================\n",
      "==================================\n",
      "NAME :  text/part0019.html\n",
      "==================================\n",
      "==================================\n",
      "NAME :  text/part0020.html\n",
      "==================================\n",
      "==================================\n",
      "NAME :  text/part0021.html\n",
      "==================================\n",
      "==================================\n",
      "NAME :  text/part0022.html\n",
      "==================================\n",
      "==================================\n",
      "NAME :  text/part0023.html\n",
      "==================================\n",
      "==================================\n",
      "NAME :  text/part0024.html\n",
      "==================================\n",
      "==================================\n",
      "NAME :  text/part0025.html\n",
      "==================================\n",
      "==================================\n",
      "NAME :  text/part0026.html\n",
      "==================================\n",
      "==================================\n",
      "NAME :  text/part0027.html\n",
      "==================================\n",
      "==================================\n",
      "NAME :  text/part0028.html\n",
      "==================================\n",
      "==================================\n",
      "NAME :  text/part0029.html\n",
      "==================================\n",
      "==================================\n",
      "NAME :  text/part0030.html\n",
      "==================================\n",
      "==================================\n",
      "NAME :  text/part0031.html\n",
      "==================================\n",
      "==================================\n",
      "NAME :  text/part0032.html\n",
      "==================================\n",
      "==================================\n",
      "NAME :  text/part0033.html\n",
      "==================================\n",
      "==================================\n",
      "NAME :  text/part0034.html\n",
      "==================================\n",
      "==================================\n",
      "NAME :  text/part0035.html\n",
      "==================================\n",
      "==================================\n",
      "NAME :  text/part0036.html\n",
      "==================================\n",
      "==================================\n",
      "NAME :  text/part0037.html\n",
      "==================================\n",
      "==================================\n",
      "NAME :  text/part0038.html\n",
      "==================================\n",
      "==================================\n",
      "NAME :  text/part0039.html\n",
      "==================================\n",
      "==================================\n",
      "NAME :  text/part0040.html\n",
      "==================================\n",
      "==================================\n",
      "NAME :  text/part0041.html\n",
      "==================================\n",
      "==================================\n",
      "NAME :  text/part0042.html\n",
      "==================================\n",
      "==================================\n",
      "NAME :  text/part0043.html\n",
      "==================================\n",
      "==================================\n",
      "NAME :  text/part0044.html\n",
      "==================================\n",
      "==================================\n",
      "NAME :  text/part0045.html\n",
      "==================================\n",
      "==================================\n",
      "NAME :  text/part0046.html\n",
      "==================================\n",
      "==================================\n",
      "NAME :  text/part0047.html\n",
      "==================================\n",
      "==================================\n",
      "NAME :  text/part0048.html\n",
      "==================================\n",
      "==================================\n",
      "NAME :  text/part0049.html\n",
      "==================================\n",
      "==================================\n",
      "NAME :  text/part0050.html\n",
      "==================================\n",
      "==================================\n",
      "NAME :  text/part0051.html\n",
      "==================================\n",
      "==================================\n",
      "NAME :  text/part0052.html\n",
      "==================================\n",
      "==================================\n",
      "NAME :  text/part0053.html\n",
      "==================================\n",
      "==================================\n",
      "NAME :  text/part0054.html\n",
      "==================================\n",
      "==================================\n",
      "NAME :  text/part0055.html\n",
      "==================================\n",
      "==================================\n",
      "NAME :  text/part0056.html\n",
      "==================================\n",
      "==================================\n",
      "NAME :  text/part0057.html\n",
      "==================================\n",
      "==================================\n",
      "NAME :  text/part0058.html\n",
      "==================================\n",
      "==================================\n",
      "NAME :  text/part0059.html\n",
      "==================================\n",
      "==================================\n",
      "NAME :  text/part0060.html\n",
      "==================================\n",
      "==================================\n",
      "NAME :  text/part0061_split_000.html\n",
      "==================================\n",
      "==================================\n",
      "NAME :  text/part0061_split_001.html\n",
      "==================================\n",
      "==================================\n",
      "NAME :  text/part0062.html\n",
      "==================================\n",
      "==================================\n",
      "NAME :  text/part0063.html\n",
      "==================================\n",
      "==================================\n",
      "NAME :  text/part0064.html\n",
      "==================================\n",
      "==================================\n",
      "NAME :  text/part0065.html\n",
      "==================================\n",
      "==================================\n",
      "NAME :  text/part0066.html\n",
      "==================================\n",
      "==================================\n",
      "NAME :  text/part0067.html\n",
      "==================================\n",
      "==================================\n",
      "NAME :  text/part0068.html\n",
      "==================================\n",
      "==================================\n",
      "NAME :  text/part0069.html\n",
      "==================================\n",
      "==================================\n",
      "NAME :  text/part0070.html\n",
      "==================================\n",
      "==================================\n",
      "NAME :  titlepage.xhtml\n",
      "==================================\n"
     ]
    }
   ],
   "source": [
    "for item in book.get_items():\n",
    "    if item.get_type() == ebooklib.ITEM_DOCUMENT:\n",
    "        print('==================================')\n",
    "        print('NAME : ', item.get_name())\n",
    "        #print('----------------------------------')\n",
    "        #print(item.get_content())\n",
    "        print('==================================')"
   ]
  },
  {
   "cell_type": "code",
   "execution_count": 8,
   "metadata": {
    "Collapsed": "false"
   },
   "outputs": [
    {
     "name": "stdout",
     "output_type": "stream",
     "text": [
      "<EpubImage:cover:images/00005.jpeg>\n",
      "<EpubImage:id6:images/00001.jpeg>\n",
      "<EpubImage:id4:images/00002.jpeg>\n",
      "<EpubImage:id3:images/00003.jpeg>\n",
      "<EpubImage:id5:images/00004.jpeg>\n",
      "<EpubItem:page_css>\n",
      "<EpubItem:css>\n",
      "<EpubHtml:id37:text/part0000.html>\n",
      "<EpubHtml:id18:text/part0001.html>\n",
      "<EpubHtml:id41:text/part0002.html>\n",
      "<EpubHtml:id16:text/part0003.html>\n",
      "<EpubHtml:id48:text/part0004.html>\n",
      "<EpubHtml:id73:text/part0005.html>\n",
      "<EpubHtml:id55:text/part0006.html>\n",
      "<EpubHtml:id34:text/part0007.html>\n",
      "<EpubHtml:id51:text/part0008.html>\n",
      "<EpubHtml:id59:text/part0009.html>\n",
      "<EpubHtml:id38:text/part0010.html>\n",
      "<EpubHtml:id52:text/part0011.html>\n",
      "<EpubHtml:id42:text/part0012.html>\n",
      "<EpubHtml:id29:text/part0013.html>\n",
      "<EpubHtml:id22:text/part0014.html>\n",
      "<EpubHtml:id13:text/part0015.html>\n",
      "<EpubHtml:id36:text/part0016.html>\n",
      "<EpubHtml:id26:text/part0017.html>\n",
      "<EpubHtml:id63:text/part0018.html>\n",
      "<EpubHtml:id9:text/part0019.html>\n",
      "<EpubHtml:id20:text/part0020.html>\n",
      "<EpubHtml:id75:text/part0021.html>\n",
      "<EpubHtml:id30:text/part0022.html>\n",
      "<EpubHtml:id27:text/part0023.html>\n",
      "<EpubHtml:id15:text/part0024.html>\n",
      "<EpubHtml:id45:text/part0025.html>\n",
      "<EpubHtml:id32:text/part0026.html>\n",
      "<EpubHtml:id24:text/part0027.html>\n",
      "<EpubHtml:id70:text/part0028.html>\n",
      "<EpubHtml:id69:text/part0029.html>\n",
      "<EpubHtml:id62:text/part0030.html>\n",
      "<EpubHtml:id53:text/part0031.html>\n",
      "<EpubHtml:id44:text/part0032.html>\n",
      "<EpubHtml:id14:text/part0033.html>\n",
      "<EpubHtml:id50:text/part0034.html>\n",
      "<EpubHtml:id60:text/part0035.html>\n",
      "<EpubHtml:id49:text/part0036.html>\n",
      "<EpubHtml:id21:text/part0037.html>\n",
      "<EpubHtml:id72:text/part0038.html>\n",
      "<EpubHtml:id65:text/part0039.html>\n",
      "<EpubHtml:id8:text/part0040.html>\n",
      "<EpubHtml:id17:text/part0041.html>\n",
      "<EpubHtml:id10:text/part0042.html>\n",
      "<EpubHtml:id28:text/part0043.html>\n",
      "<EpubHtml:id19:text/part0044.html>\n",
      "<EpubHtml:id43:text/part0045.html>\n",
      "<EpubHtml:id74:text/part0046.html>\n",
      "<EpubHtml:id77:text/part0047.html>\n",
      "<EpubHtml:id57:text/part0048.html>\n",
      "<EpubHtml:id12:text/part0049.html>\n",
      "<EpubHtml:id61:text/part0050.html>\n",
      "<EpubHtml:id25:text/part0051.html>\n",
      "<EpubHtml:id76:text/part0052.html>\n",
      "<EpubHtml:id39:text/part0053.html>\n",
      "<EpubHtml:id33:text/part0054.html>\n",
      "<EpubHtml:id58:text/part0055.html>\n",
      "<EpubHtml:id67:text/part0056.html>\n",
      "<EpubHtml:id31:text/part0057.html>\n",
      "<EpubHtml:id40:text/part0058.html>\n",
      "<EpubHtml:id64:text/part0059.html>\n",
      "<EpubHtml:id35:text/part0060.html>\n",
      "<EpubHtml:id232:text/part0061_split_000.html>\n",
      "<EpubHtml:id231:text/part0061_split_001.html>\n",
      "<EpubHtml:id68:text/part0062.html>\n",
      "<EpubHtml:id11:text/part0063.html>\n",
      "<EpubHtml:id66:text/part0064.html>\n",
      "<EpubHtml:id56:text/part0065.html>\n",
      "<EpubHtml:id47:text/part0066.html>\n",
      "<EpubHtml:id54:text/part0067.html>\n",
      "<EpubHtml:id71:text/part0068.html>\n",
      "<EpubHtml:id7:text/part0069.html>\n",
      "<EpubHtml:id46:text/part0070.html>\n",
      "<EpubHtml:titlepage:titlepage.xhtml>\n",
      "<EpubItem:ncx>\n"
     ]
    }
   ],
   "source": [
    "for cur_item in book.get_items():\n",
    "    print(cur_item)"
   ]
  },
  {
   "cell_type": "code",
   "execution_count": null,
   "metadata": {
    "Collapsed": "false"
   },
   "outputs": [],
   "source": [
    "book.get_items_of_type(ebooklib.)"
   ]
  }
 ],
 "metadata": {
  "kernelspec": {
   "display_name": "Python 3",
   "language": "python",
   "name": "python3"
  },
  "language_info": {
   "codemirror_mode": {
    "name": "ipython",
    "version": 3
   },
   "file_extension": ".py",
   "mimetype": "text/x-python",
   "name": "python",
   "nbconvert_exporter": "python",
   "pygments_lexer": "ipython3",
   "version": "3.7.3"
  }
 },
 "nbformat": 4,
 "nbformat_minor": 4
}
