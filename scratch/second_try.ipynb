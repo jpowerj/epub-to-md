{
 "cells": [
  {
   "cell_type": "code",
   "execution_count": 34,
   "metadata": {
    "Collapsed": "false"
   },
   "outputs": [],
   "source": [
    "# Python imports\n",
    "import glob\n",
    "import os\n",
    "import zipfile\n",
    "\n",
    "# Same-dir imports\n",
    "import parse_utils"
   ]
  },
  {
   "cell_type": "code",
   "execution_count": 35,
   "metadata": {
    "Collapsed": "false"
   },
   "outputs": [],
   "source": [
    "epub_zip = zipfile.ZipFile(\"killing_hope.epub\")\n",
    "section_contents = []\n",
    "html_fpaths = sorted([name for name in epub_zip.namelist() if name.endswith(\".html\")])\n",
    "for cur_fpath in html_fpaths:\n",
    "    with epub_zip.open(cur_fpath) as f:\n",
    "        html_contents = f.read()\n",
    "    parsed_body_str = parse_utils.get_body_content(html_contents).decode('utf-8')\n",
    "    section_contents.append(parsed_body_str)\n",
    "all_html = \"\".join(section_contents)\n",
    "with open(\"raw.html\", \"w\", encoding='utf-8') as g:\n",
    "    g.write(html_str)"
   ]
  },
  {
   "cell_type": "code",
   "execution_count": null,
   "metadata": {
    "Collapsed": "false"
   },
   "outputs": [],
   "source": []
  }
 ],
 "metadata": {
  "kernelspec": {
   "display_name": "Python 3",
   "language": "python",
   "name": "python3"
  },
  "language_info": {
   "codemirror_mode": {
    "name": "ipython",
    "version": 3
   },
   "file_extension": ".py",
   "mimetype": "text/x-python",
   "name": "python",
   "nbconvert_exporter": "python",
   "pygments_lexer": "ipython3",
   "version": "3.7.3"
  }
 },
 "nbformat": 4,
 "nbformat_minor": 4
}
