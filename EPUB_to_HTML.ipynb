{
 "cells": [
  {
   "cell_type": "code",
   "execution_count": 15,
   "outputs": [],
   "source": [
    "import six\n",
    "import zipfile\n",
    "\n",
    "# 3rd party imports\n",
    "from lxml import html, etree"
   ],
   "metadata": {
    "collapsed": false,
    "ExecuteTime": {
     "end_time": "2023-10-02T02:39:42.156941Z",
     "start_time": "2023-10-02T02:39:42.144695Z"
    }
   },
   "id": "bdc76222521a7fe6"
  },
  {
   "cell_type": "code",
   "execution_count": 16,
   "outputs": [],
   "source": [
    "epub_fpath = \"Chomsky_1979_Cataclysm.epub\""
   ],
   "metadata": {
    "collapsed": false,
    "ExecuteTime": {
     "end_time": "2023-10-02T02:39:42.697956Z",
     "start_time": "2023-10-02T02:39:42.693705Z"
    }
   },
   "id": "aeb6c139ed1fb18d"
  },
  {
   "cell_type": "code",
   "execution_count": 17,
   "id": "initial_id",
   "metadata": {
    "collapsed": true,
    "ExecuteTime": {
     "end_time": "2023-10-02T02:39:43.037532Z",
     "start_time": "2023-10-02T02:39:43.031306Z"
    }
   },
   "outputs": [
    {
     "ename": "NameError",
     "evalue": "name 'epub_to_html' is not defined",
     "output_type": "error",
     "traceback": [
      "\u001B[0;31m---------------------------------------------------------------------------\u001B[0m",
      "\u001B[0;31mNameError\u001B[0m                                 Traceback (most recent call last)",
      "Cell \u001B[0;32mIn[17], line 1\u001B[0m\n\u001B[0;32m----> 1\u001B[0m output_fpath \u001B[38;5;241m=\u001B[39m \u001B[43mepub_to_html\u001B[49m(epub_fpath)\n\u001B[1;32m      2\u001B[0m \u001B[38;5;28mprint\u001B[39m(\u001B[38;5;124mf\u001B[39m\u001B[38;5;124m\"\u001B[39m\u001B[38;5;124mExtracted .html saved to \u001B[39m\u001B[38;5;132;01m{\u001B[39;00moutput_fpath\u001B[38;5;132;01m}\u001B[39;00m\u001B[38;5;124m\"\u001B[39m)\n",
      "\u001B[0;31mNameError\u001B[0m: name 'epub_to_html' is not defined"
     ]
    }
   ],
   "source": [
    "output_fpath = epub_to_html(epub_fpath)\n",
    "print(f\"Extracted .html saved to {output_fpath}\")"
   ]
  },
  {
   "cell_type": "code",
   "execution_count": 18,
   "outputs": [],
   "source": [
    "def get_body_content(html_str):\n",
    "    utf8_parser = html.HTMLParser(encoding='utf-8')\n",
    "    html_tree = html.document_fromstring(html_str, parser=utf8_parser)\n",
    "    html_root = html_tree.getroottree()\n",
    "    if len(html_root.find('body')) != 0:\n",
    "        body = html_tree.find('body')\n",
    "        tree_str = etree.tostring(body, pretty_print=True, encoding='utf-8', xml_declaration=False)\n",
    "        # this is so stupid\n",
    "        if tree_str.startswith(six.b('<body>')):\n",
    "            n = tree_str.rindex(six.b('</body>'))\n",
    "            return tree_str[6:n]\n",
    "        return tree_str\n",
    "    return ''"
   ],
   "metadata": {
    "collapsed": false,
    "ExecuteTime": {
     "end_time": "2023-10-02T02:39:43.229581Z",
     "start_time": "2023-10-02T02:39:43.225554Z"
    }
   },
   "id": "b568fa0437fbb0c3"
  },
  {
   "cell_type": "code",
   "execution_count": 19,
   "outputs": [
    {
     "data": {
      "text/plain": "'Chomsky_1979_Cataclysm.html'"
     },
     "execution_count": 19,
     "metadata": {},
     "output_type": "execute_result"
    }
   ],
   "source": [
    "epub_zip = zipfile.ZipFile(epub_fpath)\n",
    "section_contents = []\n",
    "html_fpaths = sorted([name for name in epub_zip.namelist() if name.endswith(\".html\")])\n",
    "for cur_fpath in html_fpaths:\n",
    "    with epub_zip.open(cur_fpath) as f:\n",
    "        html_contents = f.read()\n",
    "    parsed_body_str = get_body_content(html_contents).decode('utf-8')\n",
    "    section_contents.append(parsed_body_str)\n",
    "all_html = \"\".join(section_contents)\n",
    "output_fpath = epub_fpath.replace(\".epub\",\".html\")\n",
    "with open(output_fpath, \"w\", encoding='utf-8') as g:\n",
    "    g.write(all_html)\n",
    "#return output_fpath\n",
    "output_fpath"
   ],
   "metadata": {
    "collapsed": false,
    "ExecuteTime": {
     "end_time": "2023-10-02T02:39:43.675639Z",
     "start_time": "2023-10-02T02:39:43.641327Z"
    }
   },
   "id": "3426765f621f1e30"
  },
  {
   "cell_type": "code",
   "execution_count": null,
   "outputs": [],
   "source": [],
   "metadata": {
    "collapsed": false
   },
   "id": "fd2833e91afa1c4e"
  }
 ],
 "metadata": {
  "kernelspec": {
   "display_name": "Python 3",
   "language": "python",
   "name": "python3"
  },
  "language_info": {
   "codemirror_mode": {
    "name": "ipython",
    "version": 2
   },
   "file_extension": ".py",
   "mimetype": "text/x-python",
   "name": "python",
   "nbconvert_exporter": "python",
   "pygments_lexer": "ipython2",
   "version": "2.7.6"
  }
 },
 "nbformat": 4,
 "nbformat_minor": 5
}
