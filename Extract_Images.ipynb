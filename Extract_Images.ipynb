{
 "cells": [
  {
   "cell_type": "code",
   "execution_count": 2,
   "id": "41cc241b-b3df-4d04-a225-778d069e86b4",
   "metadata": {},
   "outputs": [
    {
     "name": "stdout",
     "output_type": "stream",
     "text": [
      "Collecting ebooklib\n",
      "  Using cached EbookLib-0.18-py3-none-any.whl\n",
      "Requirement already satisfied: lxml in /Users/jpj/.pyenv/versions/3.11.5/lib/python3.11/site-packages (from ebooklib) (5.1.0)\n",
      "Requirement already satisfied: six in /Users/jpj/.pyenv/versions/3.11.5/lib/python3.11/site-packages (from ebooklib) (1.16.0)\n",
      "Installing collected packages: ebooklib\n",
      "Successfully installed ebooklib-0.18\n"
     ]
    }
   ],
   "source": [
    "!pip install ebooklib"
   ]
  },
  {
   "cell_type": "code",
   "execution_count": 12,
   "id": "d193f936-bef5-443d-bcca-0b0b717f67a4",
   "metadata": {},
   "outputs": [],
   "source": [
    "import os\n",
    "\n",
    "import ebooklib\n",
    "from ebooklib import epub"
   ]
  },
  {
   "cell_type": "code",
   "execution_count": 13,
   "id": "4417b3d0-ca1d-4b78-9ee8-e12bef326986",
   "metadata": {},
   "outputs": [],
   "source": [
    "# Choose image dir\n",
    "img_dir = \"extracted_images\"\n",
    "if not os.path.isdir(img_dir):\n",
    "    os.mkdir(img_dir)"
   ]
  },
  {
   "cell_type": "code",
   "execution_count": 17,
   "id": "d5d0674c-9321-4e74-8f1b-fd42c785333a",
   "metadata": {},
   "outputs": [],
   "source": [
    "book = epub.read_epub('maps.epub', {'ignore_ncx': True})\n",
    "\n",
    "for image in book.get_items_of_type(ebooklib.ITEM_IMAGE):\n",
    "    cur_fname = os.path.basename(image.file_name)\n",
    "    cur_fpath = os.path.join(img_dir, cur_fname)\n",
    "    with open(cur_fpath, 'wb') as outfile:\n",
    "        outfile.write(image.get_content())"
   ]
  },
  {
   "cell_type": "code",
   "execution_count": 7,
   "id": "f0719e7e-9a98-4179-8aae-7d0e4d1e426d",
   "metadata": {},
   "outputs": [
    {
     "data": {
      "text/plain": [
       "['__class__',\n",
       " '__delattr__',\n",
       " '__dict__',\n",
       " '__dir__',\n",
       " '__doc__',\n",
       " '__eq__',\n",
       " '__format__',\n",
       " '__ge__',\n",
       " '__getattribute__',\n",
       " '__getstate__',\n",
       " '__gt__',\n",
       " '__hash__',\n",
       " '__init__',\n",
       " '__init_subclass__',\n",
       " '__le__',\n",
       " '__lt__',\n",
       " '__module__',\n",
       " '__ne__',\n",
       " '__new__',\n",
       " '__reduce__',\n",
       " '__reduce_ex__',\n",
       " '__repr__',\n",
       " '__setattr__',\n",
       " '__sizeof__',\n",
       " '__str__',\n",
       " '__subclasshook__',\n",
       " '__weakref__',\n",
       " 'book',\n",
       " 'content',\n",
       " 'file_name',\n",
       " 'get_content',\n",
       " 'get_id',\n",
       " 'get_name',\n",
       " 'get_type',\n",
       " 'id',\n",
       " 'is_linear',\n",
       " 'manifest',\n",
       " 'media_type',\n",
       " 'set_content']"
      ]
     },
     "execution_count": 7,
     "metadata": {},
     "output_type": "execute_result"
    }
   ],
   "source": [
    "dir(cur_image)"
   ]
  },
  {
   "cell_type": "code",
   "execution_count": 8,
   "id": "bedc77e5-4a51-4d5a-b0ce-c15accbb5a54",
   "metadata": {},
   "outputs": [
    {
     "data": {
      "text/plain": [
       "'images/infinity-symbol.jpg'"
      ]
     },
     "execution_count": 8,
     "metadata": {},
     "output_type": "execute_result"
    }
   ],
   "source": [
    "cur_image.file_name"
   ]
  },
  {
   "cell_type": "code",
   "execution_count": 10,
   "id": "7b0b8506-d9f2-4247-9a84-a387f2c32702",
   "metadata": {},
   "outputs": [],
   "source": [
    "with open('test_image.jpg', 'wb') as outfile:\n",
    "    outfile.write(cur_image.get_content())"
   ]
  },
  {
   "cell_type": "code",
   "execution_count": null,
   "id": "a88746aa-54da-4cbe-9d2a-cb1ed2d26db6",
   "metadata": {},
   "outputs": [],
   "source": []
  }
 ],
 "metadata": {
  "kernelspec": {
   "display_name": "Python 3 (ipykernel)",
   "language": "python",
   "name": "python3"
  },
  "language_info": {
   "codemirror_mode": {
    "name": "ipython",
    "version": 3
   },
   "file_extension": ".py",
   "mimetype": "text/x-python",
   "name": "python",
   "nbconvert_exporter": "python",
   "pygments_lexer": "ipython3",
   "version": "3.11.5"
  }
 },
 "nbformat": 4,
 "nbformat_minor": 5
}
